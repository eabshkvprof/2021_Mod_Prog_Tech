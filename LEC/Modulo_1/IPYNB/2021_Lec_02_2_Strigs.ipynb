{
 "cells": [
  {
   "cell_type": "markdown",
   "metadata": {},
   "source": [
    "# EXAMPLES LEC 03   PYTHON 02 STRINGS"
   ]
  },
  {
   "cell_type": "code",
   "execution_count": 95,
   "metadata": {},
   "outputs": [],
   "source": [
    "my_string1 = 'This is string example'\n",
    "my_string2 = 'ЦЕ ПРИКЛАД УКРАЇНСЬКОЮ'\n",
    "my_string3 = 'This is' \" ЦЕ УКРАЇНСЬКА\" "
   ]
  },
  {
   "cell_type": "markdown",
   "metadata": {},
   "source": [
    "### PRINT  (ПЕЧАТЬ)"
   ]
  },
  {
   "cell_type": "code",
   "execution_count": 96,
   "metadata": {},
   "outputs": [
    {
     "name": "stdout",
     "output_type": "stream",
     "text": [
      "This is string example\n",
      "ЦЕ ПРИКЛАД УКРАЇНСЬКОЮ\n",
      "This is ЦЕ УКРАЇНСЬКА\n"
     ]
    }
   ],
   "source": [
    "print(my_string1)\n",
    "print(my_string2)\n",
    "print(my_string3)"
   ]
  },
  {
   "cell_type": "markdown",
   "metadata": {},
   "source": [
    "### LEN (ДЛИНА СТРОКИ)"
   ]
  },
  {
   "cell_type": "code",
   "execution_count": 97,
   "metadata": {},
   "outputs": [
    {
     "name": "stdout",
     "output_type": "stream",
     "text": [
      "22 22\n"
     ]
    }
   ],
   "source": [
    "print(len(my_string1), len(my_string2))"
   ]
  },
  {
   "cell_type": "code",
   "execution_count": 98,
   "metadata": {},
   "outputs": [
    {
     "name": "stdout",
     "output_type": "stream",
     "text": [
      "ЮОКЬСНЇАРКУ ДАЛКИ\n"
     ]
    }
   ],
   "source": [
    "print (my_string2[-1:4:-1])"
   ]
  },
  {
   "cell_type": "markdown",
   "metadata": {},
   "source": [
    "### IN (ПРОВЕРКА ПРИНАДЛЕЖНОСТИ)"
   ]
  },
  {
   "cell_type": "code",
   "execution_count": 99,
   "metadata": {},
   "outputs": [
    {
     "name": "stdout",
     "output_type": "stream",
     "text": [
      "False True\n"
     ]
    }
   ],
   "source": [
    "print ('Ї' in my_string1, 'Ї'in my_string2)"
   ]
  },
  {
   "cell_type": "markdown",
   "metadata": {},
   "source": [
    "### IN in loop FOR"
   ]
  },
  {
   "cell_type": "code",
   "execution_count": 100,
   "metadata": {},
   "outputs": [
    {
     "name": "stdout",
     "output_type": "stream",
     "text": [
      "Р\n",
      "Л\n",
      " \n",
      "Р\n",
      "Н\n",
      "К\n"
     ]
    }
   ],
   "source": [
    "for el in my_string2[4::3]:\n",
    "    print (el)"
   ]
  },
  {
   "cell_type": "markdown",
   "metadata": {},
   "source": [
    "### MIN() , MAX()"
   ]
  },
  {
   "cell_type": "code",
   "execution_count": 101,
   "metadata": {},
   "outputs": [
    {
     "name": "stdout",
     "output_type": "stream",
     "text": [
      " \n",
      "x\n",
      " \n",
      "Ю\n"
     ]
    }
   ],
   "source": [
    "# print (min(my_string1))\n",
    "print (min(my_string1))\n",
    "print (max(my_string1))\n",
    "print (min(my_string2))\n",
    "print (max(my_string2))"
   ]
  },
  {
   "cell_type": "markdown",
   "metadata": {},
   "source": [
    "###METHODS -->  .COUNT() ,   .INDEX(),    .COPY(),     .CLEAR()"
   ]
  },
  {
   "cell_type": "code",
   "execution_count": 102,
   "metadata": {},
   "outputs": [
    {
     "name": "stdout",
     "output_type": "stream",
     "text": [
      "3 0\n",
      "0 1\n"
     ]
    }
   ],
   "source": [
    "print(my_string1.count('i'), my_string1.count('Ї'))\n",
    "print(my_string2.count('i'), my_string2.count('Ї'))"
   ]
  },
  {
   "cell_type": "code",
   "execution_count": 103,
   "metadata": {},
   "outputs": [
    {
     "name": "stdout",
     "output_type": "stream",
     "text": [
      "2 15\n"
     ]
    }
   ],
   "source": [
    "print(my_string1.index('i'), my_string2.index('Ї'))"
   ]
  },
  {
   "cell_type": "code",
   "execution_count": 104,
   "metadata": {},
   "outputs": [],
   "source": [
    "my_string3 = my_string1[:10]+my_string2[-1:10:-1]"
   ]
  },
  {
   "cell_type": "code",
   "execution_count": 105,
   "metadata": {},
   "outputs": [
    {
     "name": "stdout",
     "output_type": "stream",
     "text": [
      "This is stЮОКЬСНЇАРКУ\n"
     ]
    }
   ],
   "source": [
    "print(my_string3)"
   ]
  },
  {
   "cell_type": "markdown",
   "metadata": {},
   "source": [
    "### STRING SORTING"
   ]
  },
  {
   "cell_type": "code",
   "execution_count": 108,
   "metadata": {},
   "outputs": [
    {
     "name": "stdout",
     "output_type": "stream",
     "text": [
      "['\\n', ' ', ' ', ' ', 'T', 'a', 'b', 'd', 'h', 'i', 'i', 'r', 's', 't']\n"
     ]
    }
   ],
   "source": [
    "my_sorted_str=sorted(my_str)\n",
    "type(my_sorted_str)\n",
    "print(my_sorted_str)"
   ]
  },
  {
   "cell_type": "markdown",
   "metadata": {},
   "source": [
    "### SIMPLE EXAMPLE"
   ]
  },
  {
   "cell_type": "code",
   "execution_count": 6,
   "metadata": {},
   "outputs": [
    {
     "name": "stdout",
     "output_type": "stream",
     "text": [
      "py_magick.pdf\n"
     ]
    }
   ],
   "source": [
    "url_str ='http://dl.dropbox.com/u/7334460/Magick_py/py_magick.pdf'\n",
    "last_slesh_index = url_str.rfind('/')\n",
    "file_name = url_str[last_slesh_index+1 : ]\n",
    "print(file_name)"
   ]
  },
  {
   "cell_type": "markdown",
   "metadata": {},
   "source": [
    "## --- FORMATTING ---"
   ]
  },
  {
   "cell_type": "markdown",
   "metadata": {},
   "source": [
    "### СЛУЖЕБНЫЕ СИМВОЛЫ"
   ]
  },
  {
   "cell_type": "code",
   "execution_count": 2,
   "metadata": {},
   "outputs": [
    {
     "name": "stdout",
     "output_type": "stream",
     "text": [
      "That is \n",
      " bird \t 12234\n"
     ]
    }
   ],
   "source": [
    "my_str = 'That is \\n bird \\t 12234'\n",
    "print (my_str)"
   ]
  },
  {
   "cell_type": "markdown",
   "metadata": {},
   "source": [
    "### STRING SPECIFIER"
   ]
  },
  {
   "cell_type": "code",
   "execution_count": 30,
   "metadata": {},
   "outputs": [
    {
     "name": "stdout",
     "output_type": "stream",
     "text": [
      "Integers:   1234   1234 001234\n",
      "98.23456789\n",
      "9.823457e+01     98.234568      98.2346\n"
     ]
    }
   ],
   "source": [
    "num = 1234\n",
    "res = 'Integers:   %d%7d %06d' %(num, num, num)\n",
    "print (res)\n",
    "fln = 98.23456789\n",
    "print(fln)\n",
    "print('%e     %f      %.4f' %(fln,fln,fln))"
   ]
  },
  {
   "cell_type": "markdown",
   "metadata": {},
   "source": [
    "### FORMATING with    .format   METHOD"
   ]
  },
  {
   "cell_type": "code",
   "execution_count": 18,
   "metadata": {},
   "outputs": [
    {
     "name": "stdout",
     "output_type": "stream",
     "text": [
      "That is {0} {1}  bird \n",
      "That is 1 nice  bird \n",
      "That is 2 fine  bird \n"
     ]
    }
   ],
   "source": [
    "my_mut_string = 'That is {0} {1}  bird '\n",
    "print (my_mut_string)\n",
    "print (my_mut_string.format (1, 'nice'))\n",
    "my_new_string = my_mut_string.format (2, 'fine')\n",
    "print (my_new_string)"
   ]
  },
  {
   "cell_type": "code",
   "execution_count": null,
   "metadata": {},
   "outputs": [],
   "source": []
  },
  {
   "cell_type": "code",
   "execution_count": null,
   "metadata": {},
   "outputs": [],
   "source": []
  }
 ],
 "metadata": {
  "kernelspec": {
   "display_name": "Python 3",
   "language": "python",
   "name": "python3"
  },
  "language_info": {
   "codemirror_mode": {
    "name": "ipython",
    "version": 3
   },
   "file_extension": ".py",
   "mimetype": "text/x-python",
   "name": "python",
   "nbconvert_exporter": "python",
   "pygments_lexer": "ipython3",
   "version": "3.8.5"
  }
 },
 "nbformat": 4,
 "nbformat_minor": 4
}

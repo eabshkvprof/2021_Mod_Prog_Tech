{
 "cells": [
  {
   "cell_type": "markdown",
   "metadata": {},
   "source": [
    "# LEC 08 PYTHON CLASS 1  (Example 4)"
   ]
  },
  {
   "cell_type": "markdown",
   "metadata": {},
   "source": [
    "### ОПРЕДЕЛЯЕМ 2 СУПЕР КЛАССА и ПОДКЛАСС"
   ]
  },
  {
   "cell_type": "code",
   "execution_count": 4,
   "metadata": {},
   "outputs": [],
   "source": [
    "class Cls_1:                     # ОПРЕДЕЛЯЕМ КЛАСС\n",
    "    x = 25\n",
    "    z = 'CLASS_1'\n",
    "    def outp (self, val):\n",
    "        print(val)\n",
    "        \n",
    "class Cls_2:                     # ОПРЕДЕЛЯЕМ КЛАСС\n",
    "    w = \"CLASS_2\"\n",
    "    z = 0.125\n",
    "    def  outp (self, val):\n",
    "        print(val)\n",
    "        \n",
    "class Cls_3 ( Cls_2, Cls_1):       # ОПРЕДЕЛЯЕМ КЛАСС   \n",
    "    '''\n",
    "    ЭТО ПРИМЕР КЛАССА НАСЛЕДУЮЩЕГО ДВА СУПЕРКЛАССА\n",
    "    '''\n",
    "    def __init__ (self):\n",
    "        self.X = Cls_1.z\n",
    "        self.W = Cls_2.z\n",
    "        self.Z = Cls_2.w\n",
    "    "
   ]
  },
  {
   "cell_type": "markdown",
   "metadata": {},
   "source": [
    "### СОЗДАЕМ ДВА ЭКЗЕМПЛЯРА"
   ]
  },
  {
   "cell_type": "code",
   "execution_count": 5,
   "metadata": {},
   "outputs": [],
   "source": [
    "inst_1 = Cls_3()\n",
    "inst_2 = Cls_3()"
   ]
  },
  {
   "cell_type": "code",
   "execution_count": 6,
   "metadata": {},
   "outputs": [
    {
     "name": "stdout",
     "output_type": "stream",
     "text": [
      "25 0.125 CLASS_2\n"
     ]
    }
   ],
   "source": [
    "print(inst_1.x, inst_1.z,inst_1.w)"
   ]
  },
  {
   "cell_type": "code",
   "execution_count": 7,
   "metadata": {},
   "outputs": [
    {
     "name": "stdout",
     "output_type": "stream",
     "text": [
      "CLASS_1 CLASS_2 0.125\n"
     ]
    }
   ],
   "source": [
    "print(inst_1.X, inst_1.Z,inst_1.W)"
   ]
  },
  {
   "cell_type": "code",
   "execution_count": 8,
   "metadata": {},
   "outputs": [],
   "source": [
    "inst_2.X = 125\n",
    "inst_2.z = 'NEW CLASS'    ## !!!! НОВЫЙ АТРИБУТ В ЭКЗЕМПЛЯРЕ"
   ]
  },
  {
   "cell_type": "code",
   "execution_count": 9,
   "metadata": {},
   "outputs": [
    {
     "name": "stdout",
     "output_type": "stream",
     "text": [
      "25 NEW CLASS CLASS_2\n"
     ]
    }
   ],
   "source": [
    "print(inst_2.x, inst_2.z,inst_2.w)"
   ]
  },
  {
   "cell_type": "code",
   "execution_count": 10,
   "metadata": {},
   "outputs": [],
   "source": [
    "inst_2.z = 'NEW CLASS'    ## !!!! НО  НЕ  В КЛАССЕ"
   ]
  },
  {
   "cell_type": "markdown",
   "metadata": {},
   "source": [
    "### ЕЩЕ ПРИМЕР -> \"ДЗЕН\" ПРОСТАРНСТВА ИМЕН"
   ]
  },
  {
   "cell_type": "code",
   "execution_count": 12,
   "metadata": {},
   "outputs": [],
   "source": [
    "V = 11\n",
    "def f():\n",
    "    print(V)\n",
    "def g():\n",
    "    V = 22\n",
    "    print(V)\n",
    "\n",
    "class H:\n",
    "    V = 33\n",
    "    def m(self):\n",
    "        V = 44 \n",
    "        self.V = 55   \n",
    "    "
   ]
  },
  {
   "cell_type": "code",
   "execution_count": 13,
   "metadata": {},
   "outputs": [
    {
     "name": "stdout",
     "output_type": "stream",
     "text": [
      "11\n"
     ]
    }
   ],
   "source": [
    "print(V)  # выводит глобальную V"
   ]
  },
  {
   "cell_type": "code",
   "execution_count": 14,
   "metadata": {},
   "outputs": [
    {
     "name": "stdout",
     "output_type": "stream",
     "text": [
      "11\n"
     ]
    }
   ],
   "source": [
    "f()  # находит  и выводит глобальную V"
   ]
  },
  {
   "cell_type": "code",
   "execution_count": 15,
   "metadata": {},
   "outputs": [
    {
     "name": "stdout",
     "output_type": "stream",
     "text": [
      "22\n"
     ]
    }
   ],
   "source": [
    "g() # выводит  V локальную в g() "
   ]
  },
  {
   "cell_type": "code",
   "execution_count": 16,
   "metadata": {},
   "outputs": [
    {
     "name": "stdout",
     "output_type": "stream",
     "text": [
      "33\n"
     ]
    }
   ],
   "source": [
    "inst = H()   # экземпляр класса\n",
    "print(inst.V) # выводит  V унаследованную экземпляром"
   ]
  },
  {
   "cell_type": "code",
   "execution_count": 17,
   "metadata": {},
   "outputs": [],
   "source": [
    "inst.m() # подсоединемч атрибут m()  к  экземпляроу"
   ]
  },
  {
   "cell_type": "code",
   "execution_count": 18,
   "metadata": {},
   "outputs": [
    {
     "name": "stdout",
     "output_type": "stream",
     "text": [
      "55\n"
     ]
    }
   ],
   "source": [
    "print(inst.V) # выводит  V из экземпляра после вызова  m() "
   ]
  },
  {
   "cell_type": "code",
   "execution_count": 19,
   "metadata": {},
   "outputs": [
    {
     "name": "stdout",
     "output_type": "stream",
     "text": [
      "33\n"
     ]
    }
   ],
   "source": [
    "print(H.V) # выводит  V из КЛАССА"
   ]
  },
  {
   "cell_type": "code",
   "execution_count": null,
   "metadata": {},
   "outputs": [],
   "source": [
    "print(g.V)  # ОШИБКА"
   ]
  },
  {
   "cell_type": "markdown",
   "metadata": {},
   "source": [
    "### ВСТРОЕННЫЕ АРГУМЕНТЫ КЛАССА"
   ]
  },
  {
   "cell_type": "code",
   "execution_count": null,
   "metadata": {},
   "outputs": [],
   "source": [
    "Cls_3.__name__"
   ]
  },
  {
   "cell_type": "code",
   "execution_count": null,
   "metadata": {},
   "outputs": [],
   "source": [
    "Cls_3.__module__"
   ]
  },
  {
   "cell_type": "code",
   "execution_count": 20,
   "metadata": {},
   "outputs": [
    {
     "data": {
      "text/plain": [
       "mappingproxy({'__module__': '__main__',\n",
       "              '__doc__': '\\n    ЭТО ПРИМЕР КЛАССА НАСЛЕДУЮЩЕГО ДВА СУПЕРКЛАССА\\n    ',\n",
       "              '__init__': <function __main__.Cls_3.__init__(self)>})"
      ]
     },
     "execution_count": 20,
     "metadata": {},
     "output_type": "execute_result"
    }
   ],
   "source": [
    "Cls_3.__dict__"
   ]
  },
  {
   "cell_type": "code",
   "execution_count": null,
   "metadata": {},
   "outputs": [],
   "source": [
    "Cls_3.__bases__"
   ]
  },
  {
   "cell_type": "code",
   "execution_count": null,
   "metadata": {},
   "outputs": [],
   "source": [
    "Cls_3.__doc__"
   ]
  },
  {
   "cell_type": "markdown",
   "metadata": {},
   "source": [
    "### ВСТРОЕННЫЕ АРГУМЕНТЫ ЭКЗЕМПЛЯРА"
   ]
  },
  {
   "cell_type": "code",
   "execution_count": 21,
   "metadata": {},
   "outputs": [
    {
     "data": {
      "text/plain": [
       "{'X': 'CLASS_1', 'W': 0.125, 'Z': 'CLASS_2'}"
      ]
     },
     "execution_count": 21,
     "metadata": {},
     "output_type": "execute_result"
    }
   ],
   "source": [
    "inst_1.__dict__"
   ]
  },
  {
   "cell_type": "code",
   "execution_count": 22,
   "metadata": {},
   "outputs": [
    {
     "data": {
      "text/plain": [
       "{'X': 125, 'W': 0.125, 'Z': 'CLASS_2', 'z': 'NEW CLASS'}"
      ]
     },
     "execution_count": 22,
     "metadata": {},
     "output_type": "execute_result"
    }
   ],
   "source": [
    "inst_2.__dict__"
   ]
  },
  {
   "cell_type": "code",
   "execution_count": 23,
   "metadata": {},
   "outputs": [
    {
     "data": {
      "text/plain": [
       "dict_keys(['X', 'W', 'Z', 'z'])"
      ]
     },
     "execution_count": 23,
     "metadata": {},
     "output_type": "execute_result"
    }
   ],
   "source": [
    "inst_2.__dict__.keys()"
   ]
  },
  {
   "cell_type": "code",
   "execution_count": 24,
   "metadata": {},
   "outputs": [
    {
     "data": {
      "text/plain": [
       "dict_values([125, 0.125, 'CLASS_2', 'NEW CLASS'])"
      ]
     },
     "execution_count": 24,
     "metadata": {},
     "output_type": "execute_result"
    }
   ],
   "source": [
    "inst_2.__dict__.values()"
   ]
  },
  {
   "cell_type": "code",
   "execution_count": null,
   "metadata": {},
   "outputs": [],
   "source": []
  }
 ],
 "metadata": {
  "kernelspec": {
   "display_name": "Python 3",
   "language": "python",
   "name": "python3"
  },
  "language_info": {
   "codemirror_mode": {
    "name": "ipython",
    "version": 3
   },
   "file_extension": ".py",
   "mimetype": "text/x-python",
   "name": "python",
   "nbconvert_exporter": "python",
   "pygments_lexer": "ipython3",
   "version": "3.8.5"
  }
 },
 "nbformat": 4,
 "nbformat_minor": 4
}

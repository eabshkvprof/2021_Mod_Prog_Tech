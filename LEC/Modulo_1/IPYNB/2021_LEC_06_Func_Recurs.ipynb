{
 "cells": [
  {
   "cell_type": "markdown",
   "metadata": {},
   "source": [
    "# EXAMPLES LEC 06 PYTHON FUNCTION  RECURS"
   ]
  },
  {
   "cell_type": "markdown",
   "metadata": {},
   "source": [
    "### РЕКУРСИВНАЯ ФУНКЦИЯ ПРИМЕР 1"
   ]
  },
  {
   "cell_type": "code",
   "execution_count": 5,
   "metadata": {},
   "outputs": [],
   "source": [
    "def listsum(L):\n",
    "    print(len(L), L)\n",
    "    if len(L)==1:\n",
    "        return L[0]\n",
    "    else :\n",
    "        return L[0]+listsum(L[1 :])"
   ]
  },
  {
   "cell_type": "code",
   "execution_count": 7,
   "metadata": {},
   "outputs": [
    {
     "name": "stdout",
     "output_type": "stream",
     "text": [
      "5 [5, 6, 7, 8, 9]\n",
      "4 [6, 7, 8, 9]\n",
      "3 [7, 8, 9]\n",
      "2 [8, 9]\n",
      "1 [9]\n",
      "35\n"
     ]
    }
   ],
   "source": [
    "list_1 = [5,6,7,8,9]\n",
    "print (listsum(list_1))"
   ]
  },
  {
   "cell_type": "code",
   "execution_count": 10,
   "metadata": {},
   "outputs": [
    {
     "name": "stdout",
     "output_type": "stream",
     "text": [
      "5 (5, 6, 7, 8, 9)\n",
      "4 (6, 7, 8, 9)\n",
      "3 (7, 8, 9)\n",
      "2 (8, 9)\n",
      "1 (9,)\n",
      "35\n"
     ]
    }
   ],
   "source": [
    "list_2_tupl = (5,6,7,8,9)\n",
    "print (listsum(list_2_tupl))"
   ]
  },
  {
   "cell_type": "code",
   "execution_count": 15,
   "metadata": {},
   "outputs": [
    {
     "name": "stdout",
     "output_type": "stream",
     "text": [
      "5 ('5', '6', '7', '8', '9')\n",
      "4 ('6', '7', '8', '9')\n",
      "3 ('7', '8', '9')\n",
      "2 ('8', '9')\n",
      "1 ('9',)\n",
      "56789\n"
     ]
    }
   ],
   "source": [
    "list_3_char = ('5','6','7','8','9')\n",
    "print (listsum(list_3_char))"
   ]
  },
  {
   "cell_type": "code",
   "execution_count": 16,
   "metadata": {},
   "outputs": [
    {
     "name": "stdout",
     "output_type": "stream",
     "text": [
      "3 [[1, 2, 3], [4, 5, 6], [7, 8, 9]]\n",
      "2 [[4, 5, 6], [7, 8, 9]]\n",
      "1 [[7, 8, 9]]\n",
      "[1, 2, 3, 4, 5, 6, 7, 8, 9]\n"
     ]
    }
   ],
   "source": [
    "list_5 = [[1,2,3,],[4,5,6,],[7,8,9]]\n",
    "print (listsum(list_5))"
   ]
  },
  {
   "cell_type": "markdown",
   "metadata": {},
   "source": [
    "### РЕКУРСИВНАЯ ФУНКЦИЯ ПРИМЕР 2"
   ]
  },
  {
   "cell_type": "code",
   "execution_count": 17,
   "metadata": {},
   "outputs": [
    {
     "name": "stdout",
     "output_type": "stream",
     "text": [
      "5 ('5', '6', '7', '8', '9')\n",
      "4 ('6', '7', '8', '9')\n",
      "3 ('7', '8', '9')\n",
      "2 ('8', '9')\n",
      "1 ('9',)\n",
      "56789\n"
     ]
    }
   ],
   "source": [
    "def mysum(L):\n",
    "    return l[0] if len(L) == 1 else L[0]+mysum(L[1:])\n",
    "print(listsum(('5','6','7','8','9')))"
   ]
  },
  {
   "cell_type": "markdown",
   "metadata": {},
   "source": [
    "### ОБХОД ВЛОЖЕННЫХ СТРУКТУР ДАННЫХ  (НАПРИМЕР : ДЕРЕВЬЯ СПИСКОВ!)"
   ]
  },
  {
   "cell_type": "code",
   "execution_count": 18,
   "metadata": {},
   "outputs": [],
   "source": [
    "def sumtree (L):\n",
    "    tot  = 0\n",
    "    print(L)\n",
    "    for x in L :\n",
    "        if not isinstance(x,list):\n",
    "            tot +=x\n",
    "        else:\n",
    "            tot += sumtree(x)\n",
    "    print('TOT =', tot)        \n",
    "    return tot"
   ]
  },
  {
   "cell_type": "code",
   "execution_count": 19,
   "metadata": {},
   "outputs": [
    {
     "name": "stdout",
     "output_type": "stream",
     "text": [
      "[1, [2, [3, 4], 5], 6, [7, 8]]\n",
      "[2, [3, 4], 5]\n",
      "[3, 4]\n",
      "TOT = 7\n",
      "TOT = 14\n",
      "[7, 8]\n",
      "TOT = 15\n",
      "TOT = 36\n",
      "36\n"
     ]
    }
   ],
   "source": [
    "LL=[1, [2, [3,4], 5], 6, [7,8]]\n",
    "print (sumtree(LL))\n"
   ]
  },
  {
   "cell_type": "markdown",
   "metadata": {},
   "source": [
    "### КОСВЕННЫЕ ВЫЗОВЫ"
   ]
  },
  {
   "cell_type": "code",
   "execution_count": 20,
   "metadata": {},
   "outputs": [
    {
     "name": "stdout",
     "output_type": "stream",
     "text": [
      "ECHO :  ПРЯМОЙ ВЫЗОВ\n",
      "ECHO :  ВЫЗОВ ПОД ДРУГИМ ИМЕНЕМ\n",
      "ECHO :  КОСВЕННЫЙ ВЫЗОВ\n"
     ]
    }
   ],
   "source": [
    "def my_echo (message):\n",
    "    print('ECHO : ',message)\n",
    "    \n",
    "my_echo('ПРЯМОЙ ВЫЗОВ')    \n",
    "\n",
    "my_echo_ = my_echo\n",
    "\n",
    "my_echo_ ('ВЫЗОВ ПОД ДРУГИМ ИМЕНЕМ')\n",
    "\n",
    "def my_indirect_echo(foo, arg):\n",
    "    foo(arg)\n",
    "    \n",
    "my_indirect_echo (my_echo, 'КОСВЕННЫЙ ВЫЗОВ')    \n"
   ]
  },
  {
   "cell_type": "code",
   "execution_count": 21,
   "metadata": {},
   "outputs": [
    {
     "name": "stdout",
     "output_type": "stream",
     "text": [
      "Branch :  Tea\n",
      "Lanch  :  Juse\n",
      "Dinner :  Coffe\n",
      "Branch :  Apple\n",
      "Lanch  :  Chees\n",
      "Dinner :  Soup\n"
     ]
    }
   ],
   "source": [
    "def my_echo1 (message):\n",
    "    print('Branch : ',message)\n",
    "\n",
    "def my_echo2 (message):\n",
    "    print('Lanch  : ',message)\n",
    "\n",
    "def my_echo3 (message):\n",
    "    print('Dinner : ',message)\n",
    "\n",
    "    \n",
    "menu = [(my_echo1, 'Tea'),(my_echo2, 'Juse'),(my_echo3, 'Coffe'),(my_echo1, 'Apple'),(my_echo2, 'Chees'),(my_echo3, 'Soup')]\n",
    "\n",
    "for (func, arg) in menu:\n",
    "    func(arg)\n",
    "\n"
   ]
  },
  {
   "cell_type": "code",
   "execution_count": 22,
   "metadata": {},
   "outputs": [
    {
     "name": "stdout",
     "output_type": "stream",
     "text": [
      "Hello : Max\n",
      "Hello : Jen\n"
     ]
    }
   ],
   "source": [
    "def make (label):\n",
    "    def eho(message):\n",
    "        print (label + ' : ' + message)\n",
    "    return eho    \n",
    "\n",
    "F_make = make ('Hello')\n",
    "F_make('Max')\n",
    "F_make('Jen')"
   ]
  },
  {
   "cell_type": "markdown",
   "metadata": {},
   "source": [
    "### АТРИБУТЫ ФУНКЦИЙ . ИНТРОСПЕКЦИЯ ФУНКЦИЙ"
   ]
  },
  {
   "cell_type": "code",
   "execution_count": 38,
   "metadata": {},
   "outputs": [
    {
     "data": {
      "text/plain": [
       "['__annotations__',\n",
       " '__call__',\n",
       " '__class__',\n",
       " '__closure__',\n",
       " '__code__',\n",
       " '__defaults__',\n",
       " '__delattr__',\n",
       " '__dict__',\n",
       " '__dir__',\n",
       " '__doc__',\n",
       " '__eq__',\n",
       " '__format__',\n",
       " '__ge__',\n",
       " '__get__',\n",
       " '__getattribute__',\n",
       " '__globals__',\n",
       " '__gt__',\n",
       " '__hash__',\n",
       " '__init__',\n",
       " '__init_subclass__',\n",
       " '__kwdefaults__',\n",
       " '__le__',\n",
       " '__lt__',\n",
       " '__module__',\n",
       " '__name__',\n",
       " '__ne__',\n",
       " '__new__',\n",
       " '__qualname__',\n",
       " '__reduce__',\n",
       " '__reduce_ex__',\n",
       " '__repr__',\n",
       " '__setattr__',\n",
       " '__sizeof__',\n",
       " '__str__',\n",
       " '__subclasshook__']"
      ]
     },
     "execution_count": 38,
     "metadata": {},
     "output_type": "execute_result"
    }
   ],
   "source": [
    "# ВСЕ ВСТРОЕННЫЕ АТРИБУТЫ\n",
    "dir(make)"
   ]
  },
  {
   "cell_type": "code",
   "execution_count": 40,
   "metadata": {},
   "outputs": [
    {
     "data": {
      "text/plain": [
       "'make'"
      ]
     },
     "execution_count": 40,
     "metadata": {},
     "output_type": "execute_result"
    }
   ],
   "source": [
    "make.__name__"
   ]
  },
  {
   "cell_type": "code",
   "execution_count": 44,
   "metadata": {},
   "outputs": [
    {
     "data": {
      "text/plain": [
       "['__class__',\n",
       " '__delattr__',\n",
       " '__dir__',\n",
       " '__doc__',\n",
       " '__eq__',\n",
       " '__format__',\n",
       " '__ge__',\n",
       " '__getattribute__',\n",
       " '__gt__',\n",
       " '__hash__',\n",
       " '__init__',\n",
       " '__init_subclass__',\n",
       " '__le__',\n",
       " '__lt__',\n",
       " '__ne__',\n",
       " '__new__',\n",
       " '__reduce__',\n",
       " '__reduce_ex__',\n",
       " '__repr__',\n",
       " '__setattr__',\n",
       " '__sizeof__',\n",
       " '__str__',\n",
       " '__subclasshook__',\n",
       " 'co_argcount',\n",
       " 'co_cellvars',\n",
       " 'co_code',\n",
       " 'co_consts',\n",
       " 'co_filename',\n",
       " 'co_firstlineno',\n",
       " 'co_flags',\n",
       " 'co_freevars',\n",
       " 'co_kwonlyargcount',\n",
       " 'co_lnotab',\n",
       " 'co_name',\n",
       " 'co_names',\n",
       " 'co_nlocals',\n",
       " 'co_posonlyargcount',\n",
       " 'co_stacksize',\n",
       " 'co_varnames',\n",
       " 'replace']"
      ]
     },
     "execution_count": 44,
     "metadata": {},
     "output_type": "execute_result"
    }
   ],
   "source": [
    "# ВСЕ ВСТРОЕННЫЕ АТРИБУТЫ\n",
    "dir(make.__code__)"
   ]
  },
  {
   "cell_type": "code",
   "execution_count": 43,
   "metadata": {},
   "outputs": [
    {
     "data": {
      "text/plain": [
       "('label', 'eho')"
      ]
     },
     "execution_count": 43,
     "metadata": {},
     "output_type": "execute_result"
    }
   ],
   "source": [
    "# ВСЕ ВСТРОЕННЫЕ АТРИБУТЫ\n",
    "make.__code__.co_varnames"
   ]
  },
  {
   "cell_type": "markdown",
   "metadata": {},
   "source": [
    "### АТРИБУТЫ ПОЛЬЗОВАТЕЛЯ"
   ]
  },
  {
   "cell_type": "code",
   "execution_count": 46,
   "metadata": {},
   "outputs": [
    {
     "name": "stdout",
     "output_type": "stream",
     "text": [
      "1\n",
      "3\n"
     ]
    }
   ],
   "source": [
    "#print (make.count)\n",
    "make.count  = 1\n",
    "print (make.count)\n",
    "make.count  += 2\n",
    "print (make.count)"
   ]
  },
  {
   "cell_type": "markdown",
   "metadata": {},
   "source": [
    "### АННОТАЦИИ"
   ]
  },
  {
   "cell_type": "code",
   "execution_count": 26,
   "metadata": {},
   "outputs": [
    {
     "name": "stdout",
     "output_type": "stream",
     "text": [
      "['abcxyzxyz', 'defxyzxyz', 'ghixyzxyz']\n"
     ]
    },
    {
     "data": {
      "text/plain": [
       "{'b': 'string', 'c': 'list of strings ', 'rep': 'int', 'return': list}"
      ]
     },
     "execution_count": 26,
     "metadata": {},
     "output_type": "execute_result"
    }
   ],
   "source": [
    "def afunc (b : 'string', c: 'list of strings ', rep: 'int' = 2 ) -> list:\n",
    "    res = []\n",
    "    for i in range (len(c)):\n",
    "        res.append(c[i]+b*rep)\n",
    "    return res\n",
    "\n",
    "LLL = afunc('xyz',['abc','def','ghi'])\n",
    "print(LLL)\n",
    "afunc.__annotations__"
   ]
  },
  {
   "cell_type": "markdown",
   "metadata": {},
   "source": [
    "###  АНОНИМНЫЕ ФУНКЦИИ : lambda"
   ]
  },
  {
   "cell_type": "code",
   "execution_count": 31,
   "metadata": {},
   "outputs": [
    {
     "name": "stdout",
     "output_type": "stream",
     "text": [
      "9\n"
     ]
    }
   ],
   "source": [
    "def fff(x,y,z): return x+y+z\n",
    "print (fff(2,3,4,))"
   ]
  },
  {
   "cell_type": "code",
   "execution_count": 56,
   "metadata": {},
   "outputs": [
    {
     "name": "stdout",
     "output_type": "stream",
     "text": [
      "9\n"
     ]
    }
   ],
   "source": [
    "ffl = lambda x,y,z: x + y + z \n",
    "print (ffl(2,3,4,))"
   ]
  },
  {
   "cell_type": "code",
   "execution_count": 63,
   "metadata": {},
   "outputs": [
    {
     "name": "stdout",
     "output_type": "stream",
     "text": [
      "16\n",
      "27\n"
     ]
    }
   ],
   "source": [
    "\n",
    "D_1 = {'one': (lambda x : x), 'two': (lambda x : x*x), 'three': (lambda x : x*x*x)}\n",
    "key = 'two'\n",
    "RES = D_1[key] (4)\n",
    "print (RES)\n",
    "key = 'three'\n",
    "RES = D_1[key] (3)\n",
    "print (RES)"
   ]
  },
  {
   "cell_type": "markdown",
   "metadata": {},
   "source": [
    "###  ИСПОЛЬЗОВАНИЕ МАР"
   ]
  },
  {
   "cell_type": "code",
   "execution_count": 26,
   "metadata": {},
   "outputs": [
    {
     "name": "stdout",
     "output_type": "stream",
     "text": [
      "[1, 2, 3, 4, 5, 6, 7, 8, 9]\n"
     ]
    }
   ],
   "source": [
    "old_list = ['1','2','3','4','5','6','7','8','9']\n",
    "new_list = list(map(int, old_list))\n",
    "print(new_list)"
   ]
  },
  {
   "cell_type": "code",
   "execution_count": 27,
   "metadata": {},
   "outputs": [
    {
     "name": "stdout",
     "output_type": "stream",
     "text": [
      "[1.6, 3.2, 36.96, 6.4, 8.0]\n"
     ]
    }
   ],
   "source": [
    "miles = [1.0, 2.0, 23.1, 4.0, 5.0]\n",
    "kilometrs = list (map(lambda x : x*1.6, miles))\n",
    "print(kilometrs)"
   ]
  },
  {
   "cell_type": "code",
   "execution_count": 28,
   "metadata": {},
   "outputs": [
    {
     "data": {
      "text/plain": [
       "{1: 'one', 2: 'twu'}"
      ]
     },
     "execution_count": 28,
     "metadata": {},
     "output_type": "execute_result"
    }
   ],
   "source": [
    "dict (map(lambda *args: args, [1,2],['one','twu']))"
   ]
  },
  {
   "cell_type": "code",
   "execution_count": 29,
   "metadata": {},
   "outputs": [
    {
     "data": {
      "text/plain": [
       "['1 | 3', '2 | 4']"
      ]
     },
     "execution_count": 29,
     "metadata": {},
     "output_type": "execute_result"
    }
   ],
   "source": [
    "def funcmap (el1,el2):\n",
    "    return '%s | %s' % (el1,el2)\n",
    "list (map(funcmap, [1,2],[3,4,5]))"
   ]
  },
  {
   "cell_type": "code",
   "execution_count": 30,
   "metadata": {},
   "outputs": [
    {
     "name": "stdout",
     "output_type": "stream",
     "text": [
      "[12, 14, 16, 18]\n"
     ]
    }
   ],
   "source": [
    "LL1 = [1,2,3,4,5]\n",
    "LL2 = [11,12,13,14]\n",
    "LLS  = list(map(lambda x,y: x+y, LL1,LL2))\n",
    "print (LLS)"
   ]
  },
  {
   "cell_type": "code",
   "execution_count": null,
   "metadata": {},
   "outputs": [],
   "source": []
  }
 ],
 "metadata": {
  "kernelspec": {
   "display_name": "Python 3",
   "language": "python",
   "name": "python3"
  },
  "language_info": {
   "codemirror_mode": {
    "name": "ipython",
    "version": 3
   },
   "file_extension": ".py",
   "mimetype": "text/x-python",
   "name": "python",
   "nbconvert_exporter": "python",
   "pygments_lexer": "ipython3",
   "version": "3.8.5"
  }
 },
 "nbformat": 4,
 "nbformat_minor": 4
}

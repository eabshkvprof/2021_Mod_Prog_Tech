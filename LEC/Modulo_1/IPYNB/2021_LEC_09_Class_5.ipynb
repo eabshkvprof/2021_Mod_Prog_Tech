{
 "cells": [
  {
   "cell_type": "markdown",
   "metadata": {},
   "source": [
    "# LEC 09 PYTHON // CLASS 2  (Example 5)"
   ]
  },
  {
   "cell_type": "markdown",
   "metadata": {},
   "source": [
    "### ГЕНЕРАТОРЫ"
   ]
  },
  {
   "cell_type": "markdown",
   "metadata": {},
   "source": [
    "#### ГЕНЕРАТОР - ФУНКЦИЯ"
   ]
  },
  {
   "cell_type": "code",
   "execution_count": 3,
   "metadata": {},
   "outputs": [],
   "source": [
    "def cs_18_students_generator () :\n",
    "    yield 'Adoniev'\n",
    "    for  stud in ['Voronkov','Dubovec','Zorina','Kovalenk','Kuzmenk','Mogilevich','Semenihin']:\n",
    "        yield stud\n",
    "    yield 'Cherepnin'"
   ]
  },
  {
   "cell_type": "markdown",
   "metadata": {},
   "source": [
    "#### СВОЙСТВА"
   ]
  },
  {
   "cell_type": "code",
   "execution_count": 4,
   "metadata": {},
   "outputs": [
    {
     "data": {
      "text/plain": [
       "<function __main__.cs_18_students_generator()>"
      ]
     },
     "execution_count": 4,
     "metadata": {},
     "output_type": "execute_result"
    }
   ],
   "source": [
    "cs_18_students_generator"
   ]
  },
  {
   "cell_type": "markdown",
   "metadata": {},
   "source": [
    "#### Генератор в цикле FOR"
   ]
  },
  {
   "cell_type": "code",
   "execution_count": 6,
   "metadata": {},
   "outputs": [
    {
     "name": "stdout",
     "output_type": "stream",
     "text": [
      "Студент группы КН-19  Adoniev\n",
      "Студент группы КН-19  Voronkov\n",
      "Студент группы КН-19  Dubovec\n",
      "Студент группы КН-19  Zorina\n",
      "Студент группы КН-19  Kovalenk\n",
      "Студент группы КН-19  Kuzmenk\n",
      "Студент группы КН-19  Mogilevich\n",
      "Студент группы КН-19  Semenihin\n",
      "Студент группы КН-19  Cherepnin\n"
     ]
    }
   ],
   "source": [
    "for person  in cs_18_students_generator():    ### ВЫЗЫВАЕТСЯ МЕТОД  __next__ ИТЕРАТОРА\n",
    "    print ('Студент группы КН-19 ',person)"
   ]
  },
  {
   "cell_type": "markdown",
   "metadata": {},
   "source": [
    "#### ИСПОЛЬЗОВАНИЕ ГЕНЕРАТОРА - ВЫРАЖЕНИЯ"
   ]
  },
  {
   "cell_type": "code",
   "execution_count": 7,
   "metadata": {},
   "outputs": [
    {
     "data": {
      "text/plain": [
       "True"
      ]
     },
     "execution_count": 7,
     "metadata": {},
     "output_type": "execute_result"
    }
   ],
   "source": [
    "num = (i for i in range (1,21))   # ГЕНЕРАТОР - ВЫРАЖЕНИЕ\n",
    "hasattr(num,'__iter__')  # ПРОВЕРЯЕМ ОТДЕЛЬНО __ITER__   --> TRUE"
   ]
  },
  {
   "cell_type": "code",
   "execution_count": 8,
   "metadata": {},
   "outputs": [
    {
     "name": "stdout",
     "output_type": "stream",
     "text": [
      "1 Студент группы КН-18  Adoniev\n",
      "2 Студент группы КН-18  Voronkov\n",
      "3 Студент группы КН-18  Dubovec\n",
      "4 Студент группы КН-18  Zorina\n",
      "5 Студент группы КН-18  Kovalenk\n",
      "6 Студент группы КН-18  Kuzmenk\n",
      "7 Студент группы КН-18  Mogilevich\n",
      "8 Студент группы КН-18  Semenihin\n",
      "9 Студент группы КН-18  Cherepnin\n"
     ]
    }
   ],
   "source": [
    "for person  in cs_18_students_generator():    ### ВЫЗЫВАЕТСЯ МЕТОД  __next__ ИТЕРАТОРА\n",
    "    print (next(num), 'Студент группы КН-18 ', person)"
   ]
  },
  {
   "cell_type": "markdown",
   "metadata": {},
   "source": [
    "#### ??? Почему только 9 раз выполнился цикл, хотя предполагается 20 студентов"
   ]
  },
  {
   "cell_type": "markdown",
   "metadata": {},
   "source": [
    "### ПРИМЕР ИТЕРИРУЕМОГО КЛАССА\n",
    "#### СЛУЧАЙНЫЕ ЧИСЛА, КАЖДОЕ СЛЕДУЮЩЕЕ БОЛЬШЕ ПРЕДЫДУЩЕГО"
   ]
  },
  {
   "cell_type": "code",
   "execution_count": 9,
   "metadata": {},
   "outputs": [],
   "source": [
    "from random import random\n",
    "\n",
    "class RandMyClass :\n",
    "    def __init__(self, quantity):\n",
    "        self.qty = quantity\n",
    "        self.cur = 0\n",
    "    \n",
    "    def __iter__ (self):\n",
    "        return self \n",
    "    \n",
    "    def __next__(self):\n",
    "        if self.qty > 0 :\n",
    "            incr = random()\n",
    "            self.cur += incr \n",
    "            self.qty -= 1\n",
    "            print (self.qty,incr, self.cur  )\n",
    "            return round(self.cur, 2)\n",
    "        else :\n",
    "            raise StopIteration\n",
    "            "
   ]
  },
  {
   "cell_type": "code",
   "execution_count": 10,
   "metadata": {},
   "outputs": [
    {
     "data": {
      "text/plain": [
       "mappingproxy({'__module__': '__main__',\n",
       "              '__init__': <function __main__.RandMyClass.__init__(self, quantity)>,\n",
       "              '__iter__': <function __main__.RandMyClass.__iter__(self)>,\n",
       "              '__next__': <function __main__.RandMyClass.__next__(self)>,\n",
       "              '__dict__': <attribute '__dict__' of 'RandMyClass' objects>,\n",
       "              '__weakref__': <attribute '__weakref__' of 'RandMyClass' objects>,\n",
       "              '__doc__': None})"
      ]
     },
     "execution_count": 10,
     "metadata": {},
     "output_type": "execute_result"
    }
   ],
   "source": [
    "RandMyClass.__dict__  # СМОТРИМ МЕТОДЫ КЛАССА !!!! ITER & NEXT   есть!  "
   ]
  },
  {
   "cell_type": "code",
   "execution_count": 11,
   "metadata": {},
   "outputs": [
    {
     "data": {
      "text/plain": [
       "True"
      ]
     },
     "execution_count": 11,
     "metadata": {},
     "output_type": "execute_result"
    }
   ],
   "source": [
    "hasattr(RandMyClass,'__iter__')  # ПРОВЕРЯЕМ ОТДЕЛЬНО __ITER__   --> TRUE"
   ]
  },
  {
   "cell_type": "code",
   "execution_count": 12,
   "metadata": {},
   "outputs": [],
   "source": [
    "my_rand_iter =  RandMyClass (5)"
   ]
  },
  {
   "cell_type": "code",
   "execution_count": 13,
   "metadata": {},
   "outputs": [
    {
     "name": "stdout",
     "output_type": "stream",
     "text": [
      "4 0.9720635343594968 0.9720635343594968\n",
      "РЕЗУЛЬТАТ 0.97\n",
      "3 0.5563081387998425 1.5283716731593393\n",
      "РЕЗУЛЬТАТ 1.53\n",
      "2 0.3338471394188287 1.862218812578168\n",
      "РЕЗУЛЬТАТ 1.86\n",
      "1 0.699989349016648 2.562208161594816\n",
      "РЕЗУЛЬТАТ 2.56\n",
      "0 0.365960827019818 2.928168988614634\n",
      "РЕЗУЛЬТАТ 2.93\n"
     ]
    }
   ],
   "source": [
    "for i in my_rand_iter:\n",
    "    print('РЕЗУЛЬТАТ', i)"
   ]
  },
  {
   "cell_type": "code",
   "execution_count": null,
   "metadata": {},
   "outputs": [],
   "source": []
  }
 ],
 "metadata": {
  "kernelspec": {
   "display_name": "Python 3",
   "language": "python",
   "name": "python3"
  },
  "language_info": {
   "codemirror_mode": {
    "name": "ipython",
    "version": 3
   },
   "file_extension": ".py",
   "mimetype": "text/x-python",
   "name": "python",
   "nbconvert_exporter": "python",
   "pygments_lexer": "ipython3",
   "version": "3.8.5"
  }
 },
 "nbformat": 4,
 "nbformat_minor": 4
}

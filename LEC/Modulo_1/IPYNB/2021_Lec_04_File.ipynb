{
 "cells": [
  {
   "cell_type": "markdown",
   "metadata": {},
   "source": [
    "# EXAMPLES LEC 04 PYTHON FILE"
   ]
  },
  {
   "cell_type": "code",
   "execution_count": 2,
   "metadata": {},
   "outputs": [
    {
     "name": "stdout",
     "output_type": "stream",
     "text": [
      "------ ОТКРЫВАЕМ ДЛЯ ЗАПИСИ ------\n",
      "File Name = my_file_text.txt | Mode = w | Encoding  cp1251 | Closed ? False\n",
      "READ = False | WRITE = True\n",
      " Closed ? True\n",
      "------ ОТКРЫВАЕМ ДЛЯ ЧТЕНИЯ ------\n",
      "File Name = my_file_text.txt | Mode = r | Encoding  cp1251 | Closed ? False\n",
      "READ = True | WRITE = False\n",
      " Closed ? True\n",
      "47\n",
      "hsdga1223355kjsdhg \n",
      "жваыдал\n",
      "івдвлповадїїїїплова\n"
     ]
    }
   ],
   "source": [
    "print('------ ОТКРЫВАЕМ ДЛЯ ЗАПИСИ ------')\n",
    "my_file = open('my_file_text.txt', 'w')\n",
    "str_out = \"hsdga1223355kjsdhg \\nжваыдал\\nівдвлповадїїїїплова\"\n",
    "print('File Name =' ,my_file.name,'| Mode =' ,my_file.mode, '| Encoding ', my_file.encoding,'| Closed ?', my_file.closed)\n",
    "print('READ =' ,my_file.readable(), '| WRITE =' ,my_file.writable())\n",
    "my_file.write(str_out)\n",
    "my_file.close()\n",
    "print(' Closed ?', my_file.closed)\n",
    "\n",
    "print('------ ОТКРЫВАЕМ ДЛЯ ЧТЕНИЯ ------')\n",
    "my_file_ = open('my_file_text.txt')\n",
    "str_in = my_file_.read() \n",
    "print('File Name =' ,my_file_.name,'| Mode =' ,my_file_.mode, '| Encoding ', my_file_.encoding,'| Closed ?', my_file_.closed)\n",
    "print('READ =' ,my_file_.readable(), '| WRITE =' ,my_file_.writable())\n",
    "my_file_.close()\n",
    "print(' Closed ?', my_file_.closed)\n",
    "print(len(str_in))\n",
    "print(str_in)"
   ]
  },
  {
   "cell_type": "code",
   "execution_count": 3,
   "metadata": {},
   "outputs": [
    {
     "name": "stdout",
     "output_type": "stream",
     "text": [
      "0\n",
      "\n"
     ]
    }
   ],
   "source": [
    "# ОТКРЫТИЕ ДЛЯ ЗАПИСИ - НОВЫЙ ПУСТОЙ ФАЙЛ !!!\n",
    "my_file = open('my_file_text.txt', 'w')\n",
    "my_file_.close()\n",
    "my_file_ = open('my_file_text.txt')\n",
    "str_in = my_file_.read() \n",
    "my_file_.close()\n",
    "print(len(str_in))\n",
    "print(str_in)"
   ]
  },
  {
   "cell_type": "code",
   "execution_count": 3,
   "metadata": {},
   "outputs": [
    {
     "name": "stdout",
     "output_type": "stream",
     "text": [
      "40\n",
      "Длина текста = 40 Длина введенного текста = 40 Длина бйтовго массива = 42\n",
      "42\n",
      "h     104\n",
      "s     115\n",
      "d     100\n",
      "g     103\n",
      "a     97\n",
      "k     107\n",
      "j     106\n",
      "s     115\n",
      "d     100\n",
      "h     104\n",
      "g     103\n",
      "      32\n",
      "\n",
      "     13\n",
      "ж     10\n",
      "в     230\n",
      "а     226\n",
      "ы     224\n",
      "д     251\n",
      "а     228\n",
      "л     224\n",
      "\n",
      "     235\n",
      "і     13\n",
      "в     10\n",
      "д     179\n",
      "в     226\n",
      "л     228\n",
      "п     226\n",
      "о     235\n",
      "в     239\n",
      "а     238\n",
      "д     226\n",
      "ї     224\n",
      "ї     228\n",
      "ї     191\n",
      "ї     191\n",
      "п     191\n",
      "л     191\n",
      "о     239\n",
      "в     235\n",
      "а     238\n"
     ]
    }
   ],
   "source": [
    "# ЗАПИСЫВАЕМ ТЕКСТОВЫЙ ФАЙЛ\n",
    "my_file = open('my_file_text.txt', 'w')\n",
    "str_out = \"hsdgakjsdhg \\nжваыдал\\nівдвлповадїїїїплова\"\n",
    "my_file.write(str_out)\n",
    "my_file.close()\n",
    "\n",
    "# ОТКРЫВАЕМ ДЛЯ ЧТЕНИЯ В ТЕКСТОВОМ РЕЖИМЕ\n",
    "my_file_ = open('my_file_text.txt')\n",
    "str_in = my_file_.read() \n",
    "my_file_.close()\n",
    "print(len(str_in))\n",
    "\n",
    "# ОТКРЫВАЕМ ДЛЯ ЧТЕНИЯ В БАЙТОВОМ  РЕЖИМЕ\n",
    "my_file_b = open('my_file_text.txt','rb')\n",
    "str_in_b = my_file_b.read() \n",
    "my_file_b.close()\n",
    "\n",
    "print('Длина текста =', len(str_out),'Длина введенного текста =', len(str_in),\\\n",
    "      'Длина бйтовго массива =', len(str_in_b))\n",
    "print(len(str_in_b))\n",
    "\n",
    "for i in range(len(str_out)):\n",
    "    print(str_out[i], '   ', str_in_b[i])"
   ]
  },
  {
   "cell_type": "code",
   "execution_count": 4,
   "metadata": {},
   "outputs": [
    {
     "name": "stdout",
     "output_type": "stream",
     "text": [
      "File Name = my_mult_line_.txt | Mode = w+ | Encoding  cp1251\n",
      "READ = True | WRITE = True\n",
      "This is line 01\n",
      "This is line 02\n",
      "This is line 03\n",
      "This is line 04\n",
      "This is line 05\n",
      "This is line 06\n",
      "This is line 07\n",
      "This is line 08\n",
      "This is line 09\n",
      "This is line 10\n",
      "\n"
     ]
    }
   ],
   "source": [
    "# ОТКРЫВАЕМ ДЛЯ ЗАПИСИ В РЕЖИЕ ДОБАВЛЕНИЯ\n",
    "my_mult_line_text = open('my_mult_line_.txt', 'w+')\n",
    "print('File Name =', my_mult_line_text.name,'| Mode =' , my_mult_line_text.mode, '| Encoding ', my_mult_line_text.encoding)\n",
    "print('READ =' , my_mult_line_text.readable(), '| WRITE =' , my_mult_line_text.writable())\n",
    "\n",
    "for i in range (10) :\n",
    "    my_mult_line_text.write('This is line %02d\\n' % (i+1))\n",
    "my_mult_line_text.close()\n",
    "\n",
    "# СЧИТЫВАЕМ ФАЙЛ\n",
    "my_mult_line_file_1 = open('my_mult_line_.txt', 'r')\n",
    "my_mult_line_text_1 = my_mult_line_file_1.read()\n",
    "my_mult_line_file_1.close()\n",
    "print(my_mult_line_text_1)"
   ]
  },
  {
   "cell_type": "code",
   "execution_count": 5,
   "metadata": {},
   "outputs": [
    {
     "name": "stdout",
     "output_type": "stream",
     "text": [
      "---------ЧИТАЕМ ТОЛЬКО ОДНУ СТРОКУ_-------\n",
      "This is line 01\n",
      "\n",
      "------ПЕРЕБИРАЕМ СТРОКИ______-------------\n",
      "This is line 01\n",
      "\n",
      "This is line 02\n",
      "\n",
      "This is line 03\n",
      "\n",
      "This is line 04\n",
      "\n",
      "This is line 05\n",
      "\n",
      "This is line 06\n",
      "\n",
      "This is line 07\n",
      "\n",
      "This is line 08\n",
      "\n",
      "This is line 09\n",
      "\n",
      "This is line 10\n",
      "\n",
      "----ЧИТАЕМ КАК СПИСОК --------------------\n",
      "['This is line 01\\n', 'This is line 02\\n', 'This is line 03\\n', 'This is line 04\\n', 'This is line 05\\n', 'This is line 06\\n', 'This is line 07\\n', 'This is line 08\\n', 'This is line 09\\n', 'This is line 10\\n']\n",
      "----ПЕРЕБМРАЕМ ЭЛЕМЕНТЫ СПИСКА------------\n",
      "This is line 01\n",
      "\n",
      "This is line 02\n",
      "\n",
      "This is line 03\n",
      "\n",
      "This is line 04\n",
      "\n",
      "This is line 05\n",
      "\n",
      "This is line 06\n",
      "\n",
      "This is line 07\n",
      "\n",
      "This is line 08\n",
      "\n",
      "This is line 09\n",
      "\n",
      "This is line 10\n",
      "\n",
      "-------------------------------\n"
     ]
    }
   ],
   "source": [
    "# ПОСТРОЧНАЯ ОББРАБОТКА ФАЙЛА\n",
    "print ('---------ЧИТАЕМ ТОЛЬКО ОДНУ СТРОКУ_-------')\n",
    "my_mult_line_file_2 = open('my_mult_line_.txt', 'r')\n",
    "my_mult_line_text_2 = my_mult_line_file_2.readline()\n",
    "print(my_mult_line_text_2)\n",
    "\n",
    "print ('------ПЕРЕБИРАЕМ СТРОКИ______-------------')\n",
    "with open('my_mult_line_.txt', 'r') as file_ :\n",
    "    for line in file_ :\n",
    "        print (line)\n",
    "my_mult_line_file_2.close()\n",
    "\n",
    "print ('----ЧИТАЕМ КАК СПИСОК --------------------')\n",
    "my_mult_line_file_3 = open('my_mult_line_.txt', 'r')\n",
    "my_mult_line_text_3 = my_mult_line_file_3.readlines()\n",
    "print(my_mult_line_text_3)\n",
    "\n",
    "print ('----ПЕРЕБМРАЕМ ЭЛЕМЕНТЫ СПИСКА------------')\n",
    "for x in my_mult_line_text_3:\n",
    "    print(x)\n",
    "print ('-------------------------------')\n",
    "my_mult_line_file_3.close()"
   ]
  },
  {
   "cell_type": "markdown",
   "metadata": {},
   "source": [
    "### КОЛИЧЕСТВО СТРОК"
   ]
  },
  {
   "cell_type": "code",
   "execution_count": 6,
   "metadata": {},
   "outputs": [
    {
     "name": "stdout",
     "output_type": "stream",
     "text": [
      "------ КОЛИЧЕСТВО СТРОК -------------\n",
      "10\n"
     ]
    }
   ],
   "source": [
    "print ('------ КОЛИЧЕСТВО СТРОК -------------')\n",
    "line_count = 0\n",
    "with open('my_mult_line_.txt', 'r') as file_ :\n",
    "    for line in file_ :\n",
    "        line_count +=1\n",
    "print (line_count)        "
   ]
  },
  {
   "cell_type": "markdown",
   "metadata": {},
   "source": [
    "### ПОЗИЦИОНИРОВАНИЕ"
   ]
  },
  {
   "cell_type": "code",
   "execution_count": 7,
   "metadata": {},
   "outputs": [
    {
     "name": "stdout",
     "output_type": "stream",
     "text": [
      "------ ПОЗИЦИОНИРОВАНИЕ -------------\n",
      "This is line 01\n",
      "This is line 02\n",
      "This is line 03\n",
      "This is line 04\n",
      "This is line 05\n",
      "This is line 06\n",
      "This is line 07\n",
      "This is line 08\n",
      "This is line 09\n",
      "This is line 10\n",
      "\n",
      "160 10 16\n"
     ]
    }
   ],
   "source": [
    "print ('------ ПОЗИЦИОНИРОВАНИЕ -------------')\n",
    "# ФОРМИРУЕМ ФАЙЛ 10 строк\n",
    "my_mult_line_text = open('my_mult_line_.txt', 'w+')\n",
    "for i in range (10) :\n",
    "    my_mult_line_text.write('This is line %02d\\n' % (i+1))\n",
    "my_mult_line_text.close()\n",
    "\n",
    "    # СЧИТАЕМ КОЛИЧЕСТВО СТРОК    \n",
    "line_count = 0\n",
    "with open('my_mult_line_.txt', 'r') as file_ :\n",
    "    for line in file_ :\n",
    "        line_count +=1   \n",
    "        \n",
    "# ЧИТАЕМ ФАЙЛ  10 строк    \n",
    "my_mult_line_file_1 = open('my_mult_line_.txt', 'r')\n",
    "my_mult_line_text_1 = my_mult_line_file_1.read()\n",
    "print(my_mult_line_text_1)\n",
    "\n",
    "# ОПРЕДЕЛЯМ ДЛИНУ СТРОКИ   \n",
    "simbol_count = len(my_mult_line_text_1)\n",
    "line_len = int(simbol_count / line_count)\n",
    "print (simbol_count, line_count, line_len)        \n"
   ]
  },
  {
   "cell_type": "code",
   "execution_count": 8,
   "metadata": {},
   "outputs": [
    {
     "name": "stdout",
     "output_type": "stream",
     "text": [
      "ТЕКУЩАЯ ПОЗИЦИЯ =  170\n",
      "СТРОКА №  3  \n",
      "This is line 03\n",
      "ТЕКУЩАЯ ПОЗИЦИЯ =  49\n"
     ]
    }
   ],
   "source": [
    "position = my_mult_line_file_1.tell()\n",
    "print ('ТЕКУЩАЯ ПОЗИЦИЯ = ', position)\n",
    "line_num = 2\n",
    "offset  =  line_num * line_len \n",
    "my_mult_line_file_1.seek(offset,0)\n",
    "my_line_text = my_mult_line_file_1.read(line_len)\n",
    "print ('СТРОКА № ', (line_num+1), '', my_line_text)\n",
    "position = my_mult_line_file_1.tell()\n",
    "print ('ТЕКУЩАЯ ПОЗИЦИЯ = ', position)"
   ]
  },
  {
   "cell_type": "code",
   "execution_count": null,
   "metadata": {},
   "outputs": [],
   "source": []
  },
  {
   "cell_type": "code",
   "execution_count": null,
   "metadata": {},
   "outputs": [],
   "source": []
  }
 ],
 "metadata": {
  "kernelspec": {
   "display_name": "Python 3",
   "language": "python",
   "name": "python3"
  },
  "language_info": {
   "codemirror_mode": {
    "name": "ipython",
    "version": 3
   },
   "file_extension": ".py",
   "mimetype": "text/x-python",
   "name": "python",
   "nbconvert_exporter": "python",
   "pygments_lexer": "ipython3",
   "version": "3.8.5"
  }
 },
 "nbformat": 4,
 "nbformat_minor": 4
}

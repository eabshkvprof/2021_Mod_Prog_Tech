{
 "cells": [
  {
   "cell_type": "markdown",
   "metadata": {},
   "source": [
    "# LEC 11 NumPy Examples"
   ]
  },
  {
   "cell_type": "markdown",
   "metadata": {},
   "source": [
    "## NumPy\n",
    "## https://docs.scipy.org/doc/numpy/reference/ufuncs.html"
   ]
  },
  {
   "cell_type": "code",
   "execution_count": 1,
   "metadata": {},
   "outputs": [],
   "source": [
    "# ИМПОРТ МОДУЛЯ\n",
    "import numpy as np"
   ]
  },
  {
   "cell_type": "markdown",
   "metadata": {},
   "source": [
    "####  **Создание массивов numpy**. Из других объектов Python "
   ]
  },
  {
   "cell_type": "markdown",
   "metadata": {},
   "source": [
    "####  **Создаем Pyton List  и массив numpy**  **Тип разный !!!!**"
   ]
  },
  {
   "cell_type": "code",
   "execution_count": 2,
   "metadata": {},
   "outputs": [],
   "source": [
    "x = [1,2,3,4]        # это список Python\n",
    "y = np.array([1,2,3,4]) # это массив numpy"
   ]
  },
  {
   "cell_type": "code",
   "execution_count": 3,
   "metadata": {},
   "outputs": [
    {
     "name": "stdout",
     "output_type": "stream",
     "text": [
      "<class 'list'> [1, 2, 3, 4]\n",
      "<class 'numpy.ndarray'> [1 2 3 4]\n"
     ]
    }
   ],
   "source": [
    "print (type(x), x)\n",
    "print (type(y), y)"
   ]
  },
  {
   "cell_type": "markdown",
   "metadata": {},
   "source": [
    "####  **Создаем  массив numpy**"
   ]
  },
  {
   "cell_type": "code",
   "execution_count": 4,
   "metadata": {},
   "outputs": [
    {
     "name": "stdout",
     "output_type": "stream",
     "text": [
      "<class 'numpy.ndarray'>\n",
      "[[1.+0.j 2.+0.j]\n",
      " [0.+0.j 0.+0.j]\n",
      " [1.+1.j 3.+0.j]]\n",
      "['1' '2' '3']\n"
     ]
    }
   ],
   "source": [
    "z = np.array([[1,2.0],[0,0],(1+1j,3.)]) # смесь списков и кортежей\n",
    "print(type(z))  # !!! МАССИВ 2 х 2  все элементы комплексные числа\n",
    "print(z)\n",
    "gfgf = np.array([1, '2',3])\n",
    "print(gfgf)"
   ]
  },
  {
   "cell_type": "markdown",
   "metadata": {},
   "source": [
    "####  **Создание массивов numpy**. Встроенные функции"
   ]
  },
  {
   "cell_type": "code",
   "execution_count": 5,
   "metadata": {},
   "outputs": [
    {
     "name": "stdout",
     "output_type": "stream",
     "text": [
      "[[0 0 0]\n",
      " [0 0 0]]\n"
     ]
    }
   ],
   "source": [
    "arr_int_0 = np.zeros((2,3), np.int8)  # МАСИВ НУЛЕЙ  2 Х 3 (ЦЕЛЫЕ 1 БАЙТ)\n",
    "print (arr_int_0)"
   ]
  },
  {
   "cell_type": "code",
   "execution_count": 6,
   "metadata": {},
   "outputs": [
    {
     "name": "stdout",
     "output_type": "stream",
     "text": [
      "[[0. 0. 0.]\n",
      " [0. 0. 0.]]\n"
     ]
    }
   ],
   "source": [
    "arr_flt_0 = np.zeros((2,3), np.float32) # МАСИВ НУЛЕЙ  2 Х 3 (32-РАЗРЯДА, ПЛАВАЮЩИЕ)\n",
    "print (arr_flt_0)"
   ]
  },
  {
   "cell_type": "code",
   "execution_count": 7,
   "metadata": {},
   "outputs": [
    {
     "name": "stdout",
     "output_type": "stream",
     "text": [
      "[[1.+0.5j 1.+0.5j 1.+0.5j]\n",
      " [1.+0.5j 1.+0.5j 1.+0.5j]]\n"
     ]
    }
   ],
   "source": [
    "arr_compl = np.full((2,3), 1.0 + .5j, np.complex64) # МАСИВ 2 Х 3 ЗАДАННЫХ КОМПЛЕКСНЫХ\n",
    "print (arr_compl)"
   ]
  },
  {
   "cell_type": "code",
   "execution_count": 8,
   "metadata": {},
   "outputs": [
    {
     "name": "stdout",
     "output_type": "stream",
     "text": [
      "[1.   1.25 1.5  1.75 2.   2.25 2.5  2.75 3.  ]\n"
     ]
    }
   ],
   "source": [
    "arr_exmpl = np.arange(1,3.1,0.25, dtype = np.float64) # ЗАПОЛНЕНИЕ МАССИВА ОТ ДО С ШАГОМ\n",
    "print (arr_exmpl)"
   ]
  },
  {
   "cell_type": "code",
   "execution_count": 9,
   "metadata": {},
   "outputs": [
    {
     "name": "stdout",
     "output_type": "stream",
     "text": [
      "[1.  1.6 2.2 2.8 3.4 4. ]\n"
     ]
    }
   ],
   "source": [
    "arr_exmpl_ = np.linspace(1.0, 4.0 , 6) # РАВНОМЕРНОЕ ЗАПОЛНЕНИЕ МАССИВА \n",
    "print (arr_exmpl_)"
   ]
  },
  {
   "cell_type": "code",
   "execution_count": 10,
   "metadata": {},
   "outputs": [
    {
     "name": "stdout",
     "output_type": "stream",
     "text": [
      "[[[0 0 0]\n",
      "  [1 1 1]]\n",
      "\n",
      " [[0 1 2]\n",
      "  [0 1 2]]]\n"
     ]
    }
   ],
   "source": [
    "arr_exampl = np.indices((2,3)) # СОЗДАНИЕ ИДЕКСОВ РЕГУЛЯРНЫХ СЕТОК\n",
    "print (arr_exampl)"
   ]
  },
  {
   "cell_type": "markdown",
   "metadata": {},
   "source": [
    "####  **Срезы работают. Вывод разный**"
   ]
  },
  {
   "cell_type": "code",
   "execution_count": 16,
   "metadata": {},
   "outputs": [
    {
     "name": "stdout",
     "output_type": "stream",
     "text": [
      "[2, 3]\n",
      "[2 3]\n",
      "2\n",
      "4\n"
     ]
    }
   ],
   "source": [
    "print (x[1:3])\n",
    "print (y[1:3])\n",
    "print (y[1])\n",
    "print (y[3])"
   ]
  },
  {
   "cell_type": "markdown",
   "metadata": {},
   "source": [
    "####  ИНДКСАЦИЯ ! МАССИВ ИНДЕКСОВ !! ЛОГИЧЕСКАЯ ИНДЕКСАЦИЯ"
   ]
  },
  {
   "cell_type": "code",
   "execution_count": 12,
   "metadata": {},
   "outputs": [
    {
     "ename": "TypeError",
     "evalue": "list indices must be integers or slices, not list",
     "output_type": "error",
     "traceback": [
      "\u001b[1;31m---------------------------------------------------------------------------\u001b[0m",
      "\u001b[1;31mTypeError\u001b[0m                                 Traceback (most recent call last)",
      "\u001b[1;32m<ipython-input-12-a1caa9d36ba1>\u001b[0m in \u001b[0;36m<module>\u001b[1;34m\u001b[0m\n\u001b[1;32m----> 1\u001b[1;33m \u001b[0mprint\u001b[0m \u001b[1;33m(\u001b[0m\u001b[0mx\u001b[0m\u001b[1;33m[\u001b[0m\u001b[1;33m[\u001b[0m\u001b[1;36m0\u001b[0m\u001b[1;33m,\u001b[0m \u001b[1;36m2\u001b[0m\u001b[1;33m]\u001b[0m\u001b[1;33m]\u001b[0m\u001b[1;33m)\u001b[0m  \u001b[1;31m#  НЕ РАБОТАЕТ\u001b[0m\u001b[1;33m\u001b[0m\u001b[1;33m\u001b[0m\u001b[0m\n\u001b[0m",
      "\u001b[1;31mTypeError\u001b[0m: list indices must be integers or slices, not list"
     ]
    }
   ],
   "source": [
    " print (x[[0, 2]])  #  НЕ РАБОТАЕТ"
   ]
  },
  {
   "cell_type": "code",
   "execution_count": 13,
   "metadata": {},
   "outputs": [
    {
     "name": "stdout",
     "output_type": "stream",
     "text": [
      "[1 3]\n"
     ]
    }
   ],
   "source": [
    "print (y[[0, 2]])   #  РАБОТАЕТ"
   ]
  },
  {
   "cell_type": "code",
   "execution_count": 73,
   "metadata": {},
   "outputs": [
    {
     "name": "stdout",
     "output_type": "stream",
     "text": [
      "[False False  True  True]\n",
      "[3 4]\n"
     ]
    }
   ],
   "source": [
    "print ( y>2)   \n",
    "print ( y[y>2])   #  РАБОТАЕТ ЛОГИЧЕСКАЯ ИНДЕКСАЦИЯ"
   ]
  },
  {
   "cell_type": "markdown",
   "metadata": {},
   "source": [
    "####  **МАТЕМАТИЧЕСКИЕ ОПЕРАЦИИ  (+, -, *, /, sign, abs, ...)**"
   ]
  },
  {
   "cell_type": "code",
   "execution_count": 17,
   "metadata": {},
   "outputs": [
    {
     "name": "stdout",
     "output_type": "stream",
     "text": [
      "[-2.   -1.75 -1.5  -1.25 -1.   -0.75 -0.5  -0.25  0.    0.25  0.5   0.75\n",
      "  1.    1.25  1.5   1.75  2.  ]\n"
     ]
    }
   ],
   "source": [
    "x1 = np.arange(-2.0, 2.1, 0.25)\n",
    "print (x1)"
   ]
  },
  {
   "cell_type": "code",
   "execution_count": 18,
   "metadata": {},
   "outputs": [
    {
     "name": "stdout",
     "output_type": "stream",
     "text": [
      "[ 2.    1.75  1.5   1.25  1.    0.75  0.5   0.25 -0.   -0.25 -0.5  -0.75\n",
      " -1.   -1.25 -1.5  -1.75 -2.  ]\n",
      "[-2.   -1.75 -1.5  -1.25 -1.   -0.75 -0.5  -0.25  0.    0.25  0.5   0.75\n",
      "  1.    1.25  1.5   1.75  2.  ]\n"
     ]
    }
   ],
   "source": [
    "print (np.negative(x1)) # ОТРИЦАНИЕ\n",
    "print (np.positive(x1))"
   ]
  },
  {
   "cell_type": "code",
   "execution_count": 19,
   "metadata": {},
   "outputs": [
    {
     "name": "stdout",
     "output_type": "stream",
     "text": [
      "[-1. -1. -1. -1. -1. -1. -1. -1.  0.  1.  1.  1.  1.  1.  1.  1.  1.]\n"
     ]
    }
   ],
   "source": [
    "x3 = np.sign(x1)  # ЗНАК\n",
    "print (x3)"
   ]
  },
  {
   "cell_type": "code",
   "execution_count": 20,
   "metadata": {},
   "outputs": [
    {
     "name": "stdout",
     "output_type": "stream",
     "text": [
      "[ 2.    1.75  1.5   1.25  1.    0.75  0.5   0.25 -0.   -0.25 -0.5  -0.75\n",
      " -1.   -1.25 -1.5  -1.75 -2.  ]\n"
     ]
    }
   ],
   "source": [
    "x2 = np.negative(x1) \n",
    "print (x2)"
   ]
  },
  {
   "cell_type": "code",
   "execution_count": 21,
   "metadata": {},
   "outputs": [
    {
     "name": "stdout",
     "output_type": "stream",
     "text": [
      "[0. 0. 0. 0. 0. 0. 0. 0. 0. 0. 0. 0. 0. 0. 0. 0. 0.]\n"
     ]
    }
   ],
   "source": [
    "print (x1+x2)   # СЛОЖЕНИЕ"
   ]
  },
  {
   "cell_type": "code",
   "execution_count": 22,
   "metadata": {},
   "outputs": [
    {
     "name": "stdout",
     "output_type": "stream",
     "text": [
      "[ 4.   3.5  3.   2.5  2.   1.5  1.   0.5 -0.  -0.5 -1.  -1.5 -2.  -2.5\n",
      " -3.  -3.5 -4. ]\n"
     ]
    }
   ],
   "source": [
    "print (x2-x1)  # ВЫЧИТАНИЕ"
   ]
  },
  {
   "cell_type": "code",
   "execution_count": 23,
   "metadata": {},
   "outputs": [
    {
     "name": "stdout",
     "output_type": "stream",
     "text": [
      "[2.   1.75 1.5  1.25 1.   0.75 0.5  0.25 0.   0.25 0.5  0.75 1.   1.25\n",
      " 1.5  1.75 2.  ]\n"
     ]
    }
   ],
   "source": [
    "print (x1*x3) # УМНОЖЕНИЕ"
   ]
  },
  {
   "cell_type": "code",
   "execution_count": 24,
   "metadata": {},
   "outputs": [
    {
     "name": "stdout",
     "output_type": "stream",
     "text": [
      "[-1. -1. -1. -1. -1. -1. -1. -1. nan -1. -1. -1. -1. -1. -1. -1. -1.]\n",
      "[-0.4  -0.35 -0.3  -0.25 -0.2  -0.15 -0.1  -0.05  0.    0.05  0.1   0.15\n",
      "  0.2   0.25  0.3   0.35  0.4 ]\n"
     ]
    },
    {
     "name": "stderr",
     "output_type": "stream",
     "text": [
      "<ipython-input-24-4ec3f57de172>:1: RuntimeWarning: invalid value encountered in true_divide\n",
      "  print (x1 / x2) # ДЕЛЕНИЕ ПОЭЛЕМЕНТНО\n"
     ]
    }
   ],
   "source": [
    "print (x1 / x2) # ДЕЛЕНИЕ ПОЭЛЕМЕНТНО\n",
    "print (x1 / 5) # ДЕЛЕНИЕ !! НА СКАЛЯР"
   ]
  },
  {
   "cell_type": "code",
   "execution_count": 25,
   "metadata": {},
   "outputs": [
    {
     "name": "stdout",
     "output_type": "stream",
     "text": [
      "0 -2.0 -0.5\n",
      "1 -1.75 -0.5714285714285714\n",
      "2 -1.5 -0.6666666666666666\n",
      "3 -1.25 -0.8\n",
      "4 -1.0 -1.0\n",
      "5 -0.75 -1.3333333333333333\n",
      "6 -0.5 -2.0\n",
      "7 -0.25 -4.0\n",
      "8 0.0 1.0\n",
      "9 0.25 0.25\n",
      "10 0.5 0.5\n",
      "11 0.75 0.75\n",
      "12 1.0 1.0\n",
      "13 1.25 1.25\n",
      "14 1.5 1.5\n",
      "15 1.75 1.75\n",
      "16 2.0 2.0\n"
     ]
    }
   ],
   "source": [
    "for i  in range(len(x1)) :\n",
    "    print (i, x1[i], (x1**x3)[i])    "
   ]
  },
  {
   "cell_type": "markdown",
   "metadata": {},
   "source": [
    " #### ТРИГОНОМЕТРИЧЕСКИЕ ФУНКЦИИ  (sin, cos, ... , arcsin, arccos, ...)"
   ]
  },
  {
   "cell_type": "code",
   "execution_count": 83,
   "metadata": {},
   "outputs": [
    {
     "name": "stdout",
     "output_type": "stream",
     "text": [
      "0 -180 -1.2246467991473532e-16\n",
      "1 -170 -0.17364817766693028\n",
      "2 -160 -0.3420201433256689\n",
      "3 -150 -0.49999999999999994\n",
      "4 -140 -0.6427876096865395\n",
      "5 -130 -0.766044443118978\n",
      "6 -120 -0.8660254037844387\n",
      "7 -110 -0.9396926207859084\n",
      "8 -100 -0.984807753012208\n",
      "9 -90 -1.0\n",
      "10 -80 -0.984807753012208\n",
      "11 -70 -0.9396926207859083\n",
      "12 -60 -0.8660254037844386\n",
      "13 -50 -0.766044443118978\n",
      "14 -40 -0.6427876096865393\n",
      "15 -30 -0.49999999999999994\n",
      "16 -20 -0.3420201433256687\n",
      "17 -10 -0.17364817766693033\n",
      "18 0 0.0\n",
      "19 10 0.17364817766693033\n",
      "20 20 0.3420201433256687\n",
      "21 30 0.49999999999999994\n",
      "22 40 0.6427876096865393\n",
      "23 50 0.766044443118978\n",
      "24 60 0.8660254037844386\n",
      "25 70 0.9396926207859083\n",
      "26 80 0.984807753012208\n",
      "27 90 1.0\n",
      "28 100 0.984807753012208\n",
      "29 110 0.9396926207859084\n",
      "30 120 0.8660254037844387\n",
      "31 130 0.766044443118978\n",
      "32 140 0.6427876096865395\n",
      "33 150 0.49999999999999994\n",
      "34 160 0.3420201433256689\n",
      "35 170 0.17364817766693028\n",
      "36 180 1.2246467991473532e-16\n"
     ]
    }
   ],
   "source": [
    "angle = np.arange (-180, 181, 10)\n",
    "rat  =  np.pi / 180.0\n",
    "for i  in range(len(angle)) :\n",
    "    print (i, angle[i], (np.sin(rat*angle[i])))   \n"
   ]
  },
  {
   "cell_type": "markdown",
   "metadata": {},
   "source": [
    "### CРАВНЕНИЯ (greater, greater_equal, less, less_equal, equal, not_equal)"
   ]
  },
  {
   "cell_type": "code",
   "execution_count": 84,
   "metadata": {},
   "outputs": [
    {
     "name": "stdout",
     "output_type": "stream",
     "text": [
      "[ True  True  True  True  True  True  True  True False False False False\n",
      " False False False False False]\n"
     ]
    }
   ],
   "source": [
    "ar_less = x1 < x2\n",
    "print(ar_less)"
   ]
  },
  {
   "cell_type": "code",
   "execution_count": 85,
   "metadata": {},
   "outputs": [
    {
     "name": "stdout",
     "output_type": "stream",
     "text": [
      "[2.   1.75 1.5  1.25 1.   0.75 0.5  0.25 0.   0.25 0.5  0.75 1.   1.25\n",
      " 1.5  1.75 2.  ]\n"
     ]
    }
   ],
   "source": [
    "ar_max = np.fmax(x1,x2) # ПОЭЛЕМЕНТНО\n",
    "print(ar_max)"
   ]
  },
  {
   "cell_type": "code",
   "execution_count": 86,
   "metadata": {},
   "outputs": [
    {
     "name": "stdout",
     "output_type": "stream",
     "text": [
      "[-2.   -1.75 -1.5  -1.25 -1.   -1.   -1.   -1.    0.    0.25  0.5   0.75\n",
      "  1.    1.    1.    1.    1.  ]\n",
      "[-1.   -1.   -1.   -1.   -1.   -0.75 -0.5  -0.25  0.    1.    1.    1.\n",
      "  1.    1.25  1.5   1.75  2.  ]\n"
     ]
    }
   ],
   "source": [
    "print(np.minimum(x1,x3))\n",
    "print(np.maximum(x1,x3))"
   ]
  },
  {
   "cell_type": "markdown",
   "metadata": {},
   "source": [
    "### ЛОГИКА (and, or, not ....)"
   ]
  },
  {
   "cell_type": "code",
   "execution_count": 87,
   "metadata": {},
   "outputs": [
    {
     "name": "stdout",
     "output_type": "stream",
     "text": [
      "[ True  True  True  True  True  True  True  True False False False False\n",
      " False False False False False]\n"
     ]
    }
   ],
   "source": [
    "print(np.logical_and(x1,ar_less))"
   ]
  },
  {
   "cell_type": "markdown",
   "metadata": {},
   "source": [
    "### АГРЕГАТОРЫ (min, max, ...."
   ]
  },
  {
   "cell_type": "code",
   "execution_count": 88,
   "metadata": {},
   "outputs": [
    {
     "name": "stdout",
     "output_type": "stream",
     "text": [
      "-2.0\n",
      "2.0\n"
     ]
    }
   ],
   "source": [
    "print(np.min(x1))\n",
    "print(np.max(x1))"
   ]
  },
  {
   "cell_type": "markdown",
   "metadata": {},
   "source": [
    "### ГЕНЕРАТОР СЛУЧАЙНЫХ ЧИСЕЛ"
   ]
  },
  {
   "cell_type": "code",
   "execution_count": 90,
   "metadata": {},
   "outputs": [
    {
     "data": {
      "text/plain": [
       "-1.968815707590407"
      ]
     },
     "execution_count": 90,
     "metadata": {},
     "output_type": "execute_result"
    }
   ],
   "source": [
    "from numpy.random import Generator, PCG64  # PCG64  - генератор случайных бит (один из возможных)\n",
    "rg = Generator(PCG64())\n",
    "rg.standard_normal()    # СЛУЧАЙНОЕ ЧИСЛО"
   ]
  },
  {
   "cell_type": "code",
   "execution_count": 91,
   "metadata": {},
   "outputs": [
    {
     "data": {
      "text/plain": [
       "array([ 0.55534952, -0.00955145, -1.29144777,  0.20594065, -0.39556069])"
      ]
     },
     "execution_count": 91,
     "metadata": {},
     "output_type": "execute_result"
    }
   ],
   "source": [
    "rg.standard_normal(5)    # ОДНОМЕРНЫЙ МАССИВ СЛУЧАЙНЫХ ЧИСЕЛ"
   ]
  },
  {
   "cell_type": "code",
   "execution_count": 92,
   "metadata": {},
   "outputs": [
    {
     "data": {
      "text/plain": [
       "array([[ 0.11529056, -2.14305329, -0.56377024],\n",
       "       [-0.86275835, -0.22350541,  0.92971033]])"
      ]
     },
     "execution_count": 92,
     "metadata": {},
     "output_type": "execute_result"
    }
   ],
   "source": [
    "rg.standard_normal((2, 3)) # МАТРИЦА  СЛУЧАЙНЫХ ЧИСЕЛ"
   ]
  },
  {
   "cell_type": "code",
   "execution_count": 93,
   "metadata": {},
   "outputs": [
    {
     "data": {
      "text/plain": [
       "0.07041233206440523"
      ]
     },
     "execution_count": 93,
     "metadata": {},
     "output_type": "execute_result"
    }
   ],
   "source": [
    "rg.random()"
   ]
  },
  {
   "cell_type": "code",
   "execution_count": 94,
   "metadata": {},
   "outputs": [
    {
     "data": {
      "text/plain": [
       "array([0.25828467, 0.35036879, 0.53142678, 0.98834619, 0.55966695])"
      ]
     },
     "execution_count": 94,
     "metadata": {},
     "output_type": "execute_result"
    }
   ],
   "source": [
    "rg.random((5,))"
   ]
  },
  {
   "cell_type": "code",
   "execution_count": 95,
   "metadata": {},
   "outputs": [
    {
     "data": {
      "text/plain": [
       "array([  4,   8,   8,   8, -10, -10,  -4,  -9,  -7,   0], dtype=int64)"
      ]
     },
     "execution_count": 95,
     "metadata": {},
     "output_type": "execute_result"
    }
   ],
   "source": [
    "rg.integers(-10,10,10,np.int64,False)"
   ]
  },
  {
   "cell_type": "code",
   "execution_count": 96,
   "metadata": {},
   "outputs": [
    {
     "data": {
      "text/plain": [
       "b'7\\xcd\\xf2\\xed\\xb5\\xfb\\x16\\xc39\\xc3'"
      ]
     },
     "execution_count": 96,
     "metadata": {},
     "output_type": "execute_result"
    }
   ],
   "source": [
    "rg.bytes(10)"
   ]
  },
  {
   "cell_type": "code",
   "execution_count": 97,
   "metadata": {},
   "outputs": [
    {
     "name": "stdout",
     "output_type": "stream",
     "text": [
      "[ 0.11040042 -0.00298043 -0.00098666  0.11216427  0.18248963 -0.12037642\n",
      "  0.03491146 -0.04258487  0.12075146  0.10258283]\n"
     ]
    }
   ],
   "source": [
    "mu, sigma = 0, 0.1       # среднее и отклонение \n",
    "s = rg.normal(mu, sigma, 10)\n",
    "print (s)"
   ]
  },
  {
   "cell_type": "markdown",
   "metadata": {},
   "source": [
    "### СОРТИРОВКИ и др"
   ]
  },
  {
   "cell_type": "code",
   "execution_count": 98,
   "metadata": {},
   "outputs": [
    {
     "name": "stdout",
     "output_type": "stream",
     "text": [
      "[-11   8   6  -7   8  14  12  -6 -16   9]\n"
     ]
    }
   ],
   "source": [
    "rand_int = rg.integers(-20,20,10,np.int64,False)\n",
    "print (rand_int)"
   ]
  },
  {
   "cell_type": "code",
   "execution_count": 99,
   "metadata": {},
   "outputs": [
    {
     "name": "stdout",
     "output_type": "stream",
     "text": [
      "[-16 -11  -7  -6   6   8   8   9  12  14]\n"
     ]
    }
   ],
   "source": [
    "print(np.sort(rand_int))"
   ]
  },
  {
   "cell_type": "code",
   "execution_count": 100,
   "metadata": {},
   "outputs": [
    {
     "name": "stdout",
     "output_type": "stream",
     "text": [
      "[8 0 3 7 2 1 4 9 6 5]\n"
     ]
    }
   ],
   "source": [
    "print(np.argsort(rand_int))"
   ]
  },
  {
   "cell_type": "code",
   "execution_count": 101,
   "metadata": {},
   "outputs": [
    {
     "name": "stdout",
     "output_type": "stream",
     "text": [
      "5\n"
     ]
    }
   ],
   "source": [
    "print(np.argmax(rand_int))"
   ]
  },
  {
   "cell_type": "code",
   "execution_count": 102,
   "metadata": {},
   "outputs": [
    {
     "name": "stdout",
     "output_type": "stream",
     "text": [
      "8\n"
     ]
    }
   ],
   "source": [
    "print(np.argmin(rand_int))"
   ]
  },
  {
   "cell_type": "code",
   "execution_count": 103,
   "metadata": {},
   "outputs": [
    {
     "name": "stdout",
     "output_type": "stream",
     "text": [
      "[-13  11   3   2  16  17  -8  13  18   9]\n"
     ]
    }
   ],
   "source": [
    "rand_int_ = rg.integers(-20,20,10,np.int64,False)\n",
    "print (rand_int_)"
   ]
  },
  {
   "cell_type": "code",
   "execution_count": 104,
   "metadata": {},
   "outputs": [
    {
     "name": "stdout",
     "output_type": "stream",
     "text": [
      "['-11' 'no' '6' 'no' 'no' 'no' '12' 'no' 'no' 'no']\n"
     ]
    }
   ],
   "source": [
    "print (np.where(rand_int > rand_int_, rand_int, 'no'))"
   ]
  },
  {
   "cell_type": "markdown",
   "metadata": {},
   "source": [
    "### ЛИНЕЙНАЯ АЛГЕБРА"
   ]
  },
  {
   "cell_type": "code",
   "execution_count": 105,
   "metadata": {},
   "outputs": [
    {
     "name": "stdout",
     "output_type": "stream",
     "text": [
      "[-4 -2 -3  0 -6  4 -8  8 -5  1]\n",
      "[ -5 -10  -2  -6   8   7   0  -2  -9  -8]\n"
     ]
    }
   ],
   "source": [
    "vect_1 = rg.integers(-10,10,10,np.int64,False)  # СОЗДАЕМ 2 ВЕКТОРА 10 компонент\n",
    "vect_2 = rg.integers(-10,10,10,np.int64,False)\n",
    "print (vect_1)\n",
    "print (vect_2)"
   ]
  },
  {
   "cell_type": "code",
   "execution_count": 106,
   "metadata": {},
   "outputs": [
    {
     "name": "stdout",
     "output_type": "stream",
     "text": [
      "15.329709716755891\n"
     ]
    }
   ],
   "source": [
    "vect_norm = np.linalg.norm(vect_1)  # ЭВКЛИДОВА НОРМА ВЕКТОРА\n",
    "print(vect_norm)"
   ]
  },
  {
   "cell_type": "code",
   "execution_count": 107,
   "metadata": {},
   "outputs": [
    {
     "name": "stdout",
     "output_type": "stream",
     "text": [
      "47\n"
     ]
    }
   ],
   "source": [
    "scal_mult = np.dot(vect_1,vect_2)  # СКАЛЯРНОЕ ПРОИЗВЕДЕНИЕ ВЕКТОРОВ\n",
    "print(scal_mult)"
   ]
  },
  {
   "cell_type": "code",
   "execution_count": 111,
   "metadata": {},
   "outputs": [
    {
     "name": "stdout",
     "output_type": "stream",
     "text": [
      "(100,)\n",
      "(10, 10)\n",
      "[[-4.24651074e+00  2.04786682e+00 -6.51347399e+00 -9.16686296e-01\n",
      "   3.90312696e+00  4.25556779e+00  0.00000000e+00  5.95155811e+00\n",
      "   9.78488803e-01 -5.22066593e-01]\n",
      " [-7.29187012e-01  3.85138655e+00 -3.24761391e+00 -8.25047493e-02\n",
      "   5.30452311e+00  6.30562878e+00  1.52744412e+00  1.11877871e+00\n",
      "  -4.87792969e-01  4.60550737e+00]\n",
      " [-7.00833321e-01 -1.57414985e+00 -4.23978710e+00 -3.63668370e+00\n",
      "  -1.05158663e+00  0.00000000e+00  3.04077923e+00  1.48277688e+00\n",
      "  -4.29072857e+00 -6.75294578e+00]\n",
      " [-6.59377575e-01 -9.62077260e-01  3.59838009e+00  7.78704453e+00\n",
      "  -1.45289183e-01  4.48825598e+00  8.42705548e+00 -7.72874475e-01\n",
      "  -3.43688488e-01 -1.12344861e+00]\n",
      " [ 4.75981474e+00  0.00000000e+00 -1.01164341e-01 -3.56643963e+00\n",
      "  -3.12849522e+00  4.90753055e+00 -2.08239841e+00 -2.77344048e+00\n",
      "   1.94538546e+00  3.42401862e-01]\n",
      " [-2.53996670e+00 -2.47646749e+00 -4.78355503e+00 -5.03544712e+00\n",
      "  -5.88754773e+00  5.66706455e+00  1.29823995e+00 -8.78589153e-01\n",
      "  -3.08088541e+00 -1.45852995e+00]\n",
      " [-1.84573603e+00 -9.10187483e+00  6.85700083e+00 -2.24485123e+00\n",
      "   2.57935047e-01  6.37068748e-02 -6.89742708e+00 -6.26761436e-01\n",
      "  -7.47633696e-01  2.65835166e+00]\n",
      " [ 3.24674845e-02  1.26626778e+00  5.37456751e-01  1.54906392e+00\n",
      "  -2.96630931e+00  1.84674239e+00 -8.48484206e+00  7.30904639e+00\n",
      "  -2.51453495e+00  3.78029644e+00]\n",
      " [ 4.62185144e+00  1.20159221e+00 -9.57360744e+00  6.64189696e-01\n",
      "  -1.37695491e+00  2.73700225e+00  2.99659014e+00  2.77058780e+00\n",
      "  -1.49880934e+00 -7.48762226e+00]\n",
      " [-1.74327278e+00  1.04000187e+00 -1.71781301e+00  2.49405956e+00\n",
      "   1.73344517e+00 -2.72515225e+00  5.34439087e-03 -3.91157198e+00\n",
      "   4.28928244e+00 -2.30847931e+00]]\n"
     ]
    }
   ],
   "source": [
    "# СОЗДАЕМ СЛУЧАЙНУЮ МАТРИЦУ А (10 Х 10)\n",
    "matr_A = rg.random(100,np.float32) * rg.integers(-10,10,100,np.int64,False)\n",
    "print (np.shape(matr_A))\n",
    "# print(matr_A)\n",
    "matr_A = np.reshape(matr_A , (10, 10))\n",
    "print (np.shape(matr_A))\n",
    "print (matr_A)"
   ]
  },
  {
   "cell_type": "code",
   "execution_count": 113,
   "metadata": {},
   "outputs": [
    {
     "name": "stdout",
     "output_type": "stream",
     "text": [
      "[  1.34346485  -7.18674946   3.14102077  -4.1366148    1.51165509\n",
      " -10.08797705  -0.89595342   5.78297853   4.57978606 -12.26486206]\n"
     ]
    }
   ],
   "source": [
    "# СОЗДАЕМ СЛУЧАЙНЫЙ ВЕКТОР В (10)\n",
    "vect_B = rg.random(10,np.float32) * rg.integers(-15,15,10,np.int64,False)\n",
    "print (vect_B)"
   ]
  },
  {
   "cell_type": "code",
   "execution_count": 114,
   "metadata": {},
   "outputs": [
    {
     "name": "stdout",
     "output_type": "stream",
     "text": [
      "[[-0.03861314  0.00322154 -0.07147382 -0.02576876  0.01646697 -0.0463378\n",
      "   0.01674417 -0.04136912  0.09644149 -0.09277343]\n",
      " [-0.02170082  0.04195173  0.16500361  0.01743303  0.09615076 -0.0549157\n",
      "  -0.10616196  0.09395437 -0.12571771  0.08576962]\n",
      " [ 0.02470039 -0.02655967  0.14868169  0.06195426  0.11658056 -0.08895023\n",
      "  -0.0241257   0.04247121 -0.12729589  0.00448731]\n",
      " [-0.06347762  0.03844371 -0.04227413  0.0452585  -0.06646805  0.01549851\n",
      "   0.02646178  0.05730905  0.06615182  0.08279383]\n",
      " [-0.0064004   0.09809993  0.08346539 -0.00675617  0.00496183 -0.08436018\n",
      "   0.05182382 -0.01404469  0.00375186  0.03483484]\n",
      " [ 0.01955167  0.05368646  0.08899823  0.06472211  0.10622933 -0.01132441\n",
      "   0.01684637  0.05104446 -0.03775821  0.05921217]\n",
      " [ 0.04735514 -0.06095823 -0.09974492  0.00824856 -0.04703183  0.02634713\n",
      "  -0.03438565 -0.10679922  0.01740447 -0.13911876]\n",
      " [ 0.12782576 -0.11325453 -0.06610226  0.00351604 -0.00450075 -0.03647562\n",
      "  -0.01690943 -0.0268397   0.01293584 -0.14620251]\n",
      " [ 0.15644178 -0.14499962 -0.14579226 -0.00072743  0.06311789 -0.0092138\n",
      "  -0.01485114 -0.08231182  0.00459054 -0.04942213]\n",
      " [-0.02127067  0.01039626 -0.22950332 -0.05865957 -0.12456436  0.08795629\n",
      "   0.00607551 -0.07463297  0.07076989 -0.12653823]]\n"
     ]
    }
   ],
   "source": [
    "# НАХОДИМ ОБРАТНУЮ МАТРИЦУ\n",
    "matr_invers = np.linalg.matrix_power(matr_A, -1)  # ОБРАТНАЯ МАТРИЦА\n",
    "print (matr_invers)"
   ]
  },
  {
   "cell_type": "code",
   "execution_count": 115,
   "metadata": {},
   "outputs": [
    {
     "name": "stdout",
     "output_type": "stream",
     "text": [
      "[ 1.62470994 -0.17441029  1.13755207 -1.34317691 -0.10269363 -0.69198493\n",
      "  1.01657581  2.83698354  1.15016141 -0.21807308]\n"
     ]
    }
   ],
   "source": [
    "# НАХОДИМ РЕШЕНИЕ КАК ПРОИЗВЕДЕНИЕ ОБРАТНОЙ МАТРИЦЫ НА ВЕКТОР\n",
    "vect_X = np.matmul(matr_invers, vect_B)\n",
    "print (vect_X)"
   ]
  },
  {
   "cell_type": "code",
   "execution_count": 116,
   "metadata": {},
   "outputs": [],
   "source": [
    "# НАХОДИМ РЕШЕНИЕ СИСТЕМЫ АЛГЕБРАИЧЕСКИХ УРАВНЕНИЙ \"В ЛОБ\"\n",
    "vect_X_ = np.linalg.solve(matr_A, vect_B)"
   ]
  },
  {
   "cell_type": "code",
   "execution_count": 117,
   "metadata": {},
   "outputs": [
    {
     "name": "stdout",
     "output_type": "stream",
     "text": [
      "[ 1.62470994 -0.17441029  1.13755207 -1.34317691 -0.10269363 -0.69198493\n",
      "  1.01657581  2.83698354  1.15016141 -0.21807308]\n"
     ]
    }
   ],
   "source": [
    "print (vect_X_)"
   ]
  }
 ],
 "metadata": {
  "kernelspec": {
   "display_name": "Python 3",
   "language": "python",
   "name": "python3"
  },
  "language_info": {
   "codemirror_mode": {
    "name": "ipython",
    "version": 3
   },
   "file_extension": ".py",
   "mimetype": "text/x-python",
   "name": "python",
   "nbconvert_exporter": "python",
   "pygments_lexer": "ipython3",
   "version": "3.8.5"
  }
 },
 "nbformat": 4,
 "nbformat_minor": 4
}

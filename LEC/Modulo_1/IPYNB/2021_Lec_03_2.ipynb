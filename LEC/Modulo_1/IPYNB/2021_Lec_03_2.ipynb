{
 "cells": [
  {
   "cell_type": "markdown",
   "metadata": {},
   "source": [
    "# EXAMPLES LEC 03 PYTHON TUPLE"
   ]
  },
  {
   "cell_type": "code",
   "execution_count": 4,
   "metadata": {},
   "outputs": [],
   "source": [
    "my_tuple1 = ()\n",
    "my_tuple2 = (5, 6, \"7\", 8, '9', 10)\n",
    "my_tuple3 = ('це', 'приклад','tuple')\n",
    "my_tuple4 = ('це', 'приклад',('вкладеного','кортежу'))\n",
    "my_tuple5 = tuple ('вкладеного кортежу')\n",
    "my_tuple6 = tuple(range(10, 20, 2))"
   ]
  },
  {
   "cell_type": "markdown",
   "metadata": {},
   "source": [
    "### PRINT  (ПЕЧАТЬ)"
   ]
  },
  {
   "cell_type": "code",
   "execution_count": 5,
   "metadata": {},
   "outputs": [
    {
     "name": "stdout",
     "output_type": "stream",
     "text": [
      "()\n",
      "(5, 6, '7', 8, '9', 10)\n",
      "('це', 'приклад', 'tuple')\n",
      "('це', 'приклад', ('вкладеного', 'кортежу'))\n",
      "('в', 'к', 'л', 'а', 'д', 'е', 'н', 'о', 'г', 'о', ' ', 'к', 'о', 'р', 'т', 'е', 'ж', 'у')\n",
      "(10, 12, 14, 16, 18)\n"
     ]
    }
   ],
   "source": [
    "print(my_tuple1)\n",
    "print(my_tuple2)\n",
    "print(my_tuple3)\n",
    "print(my_tuple4)\n",
    "print(my_tuple5)\n",
    "print(my_tuple6)"
   ]
  },
  {
   "cell_type": "markdown",
   "metadata": {},
   "source": [
    "### ОСНОВНЫЕ ОПЕРАЦИИ"
   ]
  },
  {
   "cell_type": "code",
   "execution_count": 6,
   "metadata": {},
   "outputs": [
    {
     "name": "stdout",
     "output_type": "stream",
     "text": [
      "7\n",
      "вкладеного\n",
      "('л', 'д', 'н')\n",
      "('у', 'ж', 'е', 'т', 'р', 'о', 'к', ' ', 'о', 'г', 'о', 'н', 'е', 'д')\n"
     ]
    }
   ],
   "source": [
    "print(my_tuple2[2])  ## index\n",
    "print(my_tuple4[2][0])  ## index\n",
    "print(my_tuple5[2:7:2])  ## slyce  tuple ('вкладеного кортежу')\n",
    "print(my_tuple5[-1:3:-1])  ## slyce tuple ('вкладеного кортежу')"
   ]
  },
  {
   "cell_type": "code",
   "execution_count": 11,
   "metadata": {},
   "outputs": [
    {
     "name": "stdout",
     "output_type": "stream",
     "text": [
      "(5, 6, '7', 8, '9', 10, 10, 12, 14, 16, 18)\n",
      "('це', 'приклад', 'tuple', 'це', 'приклад', 'tuple', 'це', 'приклад', 'tuple')\n"
     ]
    }
   ],
   "source": [
    "print(my_tuple2+my_tuple6)  ## concatenation (5, 6, \"7\", 8, '9', 10) + (range(10, 20, 2))\n",
    "print(my_tuple3 * 3)  ## multiplication 3 * ('це', 'приклад','tuple')"
   ]
  },
  {
   "cell_type": "markdown",
   "metadata": {},
   "source": [
    "### LEN (ДЛИНА КОРТЕЖА)"
   ]
  },
  {
   "cell_type": "code",
   "execution_count": 8,
   "metadata": {},
   "outputs": [
    {
     "name": "stdout",
     "output_type": "stream",
     "text": [
      "6 3\n"
     ]
    }
   ],
   "source": [
    "print(len(my_tuple2), len(my_tuple4))"
   ]
  },
  {
   "cell_type": "markdown",
   "metadata": {},
   "source": [
    "### IN (ПРОВЕРКА ПРИНАДЛЕЖНОСТИ)"
   ]
  },
  {
   "cell_type": "code",
   "execution_count": 11,
   "metadata": {},
   "outputs": [
    {
     "name": "stdout",
     "output_type": "stream",
     "text": [
      "True False\n"
     ]
    }
   ],
   "source": [
    "print ('це' in my_tuple3, 'Ї'in my_tuple4)"
   ]
  },
  {
   "cell_type": "markdown",
   "metadata": {},
   "source": [
    "### IN in loop FOR"
   ]
  },
  {
   "cell_type": "code",
   "execution_count": 13,
   "metadata": {},
   "outputs": [
    {
     "name": "stdout",
     "output_type": "stream",
     "text": [
      "це\n",
      "приклад\n",
      "tuple\n",
      "це\n",
      "приклад\n",
      "('вкладеного', 'кортежу')\n"
     ]
    }
   ],
   "source": [
    "for el in my_tuple3:\n",
    "    print (el)\n",
    "\n",
    "for el in my_tuple4:\n",
    "    print (el)"
   ]
  },
  {
   "cell_type": "markdown",
   "metadata": {},
   "source": [
    "### MIN() , MAX(), SUM()"
   ]
  },
  {
   "cell_type": "code",
   "execution_count": 14,
   "metadata": {},
   "outputs": [
    {
     "name": "stdout",
     "output_type": "stream",
     "text": [
      "10\n",
      "18\n",
      "70\n",
      "tuple\n"
     ]
    },
    {
     "ename": "TypeError",
     "evalue": "'<' not supported between instances of 'str' and 'int'",
     "output_type": "error",
     "traceback": [
      "\u001b[1;31m---------------------------------------------------------------------------\u001b[0m",
      "\u001b[1;31mTypeError\u001b[0m                                 Traceback (most recent call last)",
      "\u001b[1;32m<ipython-input-14-a5def6691043>\u001b[0m in \u001b[0;36m<module>\u001b[1;34m\u001b[0m\n\u001b[0;32m      3\u001b[0m \u001b[0mprint\u001b[0m \u001b[1;33m(\u001b[0m\u001b[0msum\u001b[0m\u001b[1;33m(\u001b[0m\u001b[0mmy_tuple6\u001b[0m\u001b[1;33m)\u001b[0m\u001b[1;33m)\u001b[0m\u001b[1;33m\u001b[0m\u001b[1;33m\u001b[0m\u001b[0m\n\u001b[0;32m      4\u001b[0m \u001b[0mprint\u001b[0m \u001b[1;33m(\u001b[0m\u001b[0mmin\u001b[0m\u001b[1;33m(\u001b[0m\u001b[0mmy_tuple3\u001b[0m\u001b[1;33m)\u001b[0m\u001b[1;33m)\u001b[0m\u001b[1;33m\u001b[0m\u001b[1;33m\u001b[0m\u001b[0m\n\u001b[1;32m----> 5\u001b[1;33m \u001b[0mprint\u001b[0m \u001b[1;33m(\u001b[0m\u001b[0mmin\u001b[0m\u001b[1;33m(\u001b[0m\u001b[0mmy_tuple2\u001b[0m\u001b[1;33m)\u001b[0m\u001b[1;33m)\u001b[0m  \u001b[1;31m##  НЕВОЖМОЖНО СРАВНИВАТЬ СТРОКИ И ЧИСЛА\u001b[0m\u001b[1;33m\u001b[0m\u001b[1;33m\u001b[0m\u001b[0m\n\u001b[0m",
      "\u001b[1;31mTypeError\u001b[0m: '<' not supported between instances of 'str' and 'int'"
     ]
    }
   ],
   "source": [
    "print (min(my_tuple6))\n",
    "print (max(my_tuple6))\n",
    "print (sum(my_tuple6))\n",
    "print (min(my_tuple3))\n",
    "print (min(my_tuple2))  ##  НЕВОЖМОЖНО СРАВНИВАТЬ СТРОКИ И ЧИСЛА"
   ]
  },
  {
   "cell_type": "markdown",
   "metadata": {},
   "source": [
    "###METHODS -->  "
   ]
  },
  {
   "cell_type": "code",
   "execution_count": 19,
   "metadata": {},
   "outputs": [
    {
     "name": "stdout",
     "output_type": "stream",
     "text": [
      "('в', 'к', 'л', 'а', 'д', 'е', 'н', ' ', 'с', 'п', 'и', 'с', 'о', 'к')\n"
     ]
    },
    {
     "ename": "TypeError",
     "evalue": "'tuple' object does not support item assignment",
     "output_type": "error",
     "traceback": [
      "\u001b[1;31m---------------------------------------------------------------------------\u001b[0m",
      "\u001b[1;31mTypeError\u001b[0m                                 Traceback (most recent call last)",
      "\u001b[1;32m<ipython-input-19-14e3f313d18d>\u001b[0m in \u001b[0;36m<module>\u001b[1;34m\u001b[0m\n\u001b[0;32m      1\u001b[0m \u001b[0mmy_tuple5\u001b[0m \u001b[1;33m=\u001b[0m \u001b[0mtuple\u001b[0m\u001b[1;33m(\u001b[0m\u001b[1;34m'вкладен список'\u001b[0m\u001b[1;33m)\u001b[0m\u001b[1;33m\u001b[0m\u001b[1;33m\u001b[0m\u001b[0m\n\u001b[0;32m      2\u001b[0m \u001b[0mprint\u001b[0m\u001b[1;33m(\u001b[0m\u001b[0mmy_tuple5\u001b[0m\u001b[1;33m)\u001b[0m\u001b[1;33m\u001b[0m\u001b[1;33m\u001b[0m\u001b[0m\n\u001b[1;32m----> 3\u001b[1;33m \u001b[0mmy_tuple5\u001b[0m \u001b[1;33m[\u001b[0m\u001b[1;36m3\u001b[0m\u001b[1;33m]\u001b[0m \u001b[1;33m=\u001b[0m \u001b[1;34m'Q'\u001b[0m  \u001b[1;31m##!!! НЕ ИЗМЕНЯЕМ\u001b[0m\u001b[1;33m\u001b[0m\u001b[1;33m\u001b[0m\u001b[0m\n\u001b[0m\u001b[0;32m      4\u001b[0m \u001b[0mprint\u001b[0m\u001b[1;33m(\u001b[0m\u001b[0mmy_tuple5\u001b[0m\u001b[1;33m)\u001b[0m\u001b[1;33m\u001b[0m\u001b[1;33m\u001b[0m\u001b[0m\n",
      "\u001b[1;31mTypeError\u001b[0m: 'tuple' object does not support item assignment"
     ]
    }
   ],
   "source": [
    "my_tuple5 = tuple('вкладен список')\n",
    "print(my_tuple5)\n",
    "my_tuple5 [3] = 'Q'  ##!!! НЕ ИЗМЕНЯЕМ\n",
    "print(my_tuple5)"
   ]
  },
  {
   "cell_type": "markdown",
   "metadata": {},
   "source": [
    "###METHODS --> INDEX()   COUNT()"
   ]
  },
  {
   "cell_type": "code",
   "execution_count": 22,
   "metadata": {},
   "outputs": [
    {
     "name": "stdout",
     "output_type": "stream",
     "text": [
      "1\n",
      "7\n"
     ]
    },
    {
     "ename": "ValueError",
     "evalue": "tuple.index(x): x not in tuple",
     "output_type": "error",
     "traceback": [
      "\u001b[1;31m---------------------------------------------------------------------------\u001b[0m",
      "\u001b[1;31mValueError\u001b[0m                                Traceback (most recent call last)",
      "\u001b[1;32m<ipython-input-22-ca546f3f0daa>\u001b[0m in \u001b[0;36m<module>\u001b[1;34m\u001b[0m\n\u001b[0;32m      2\u001b[0m \u001b[0mprint\u001b[0m\u001b[1;33m(\u001b[0m\u001b[0mmy_tuple5\u001b[0m\u001b[1;33m.\u001b[0m\u001b[0mindex\u001b[0m\u001b[1;33m(\u001b[0m\u001b[1;34m'к'\u001b[0m\u001b[1;33m)\u001b[0m\u001b[1;33m)\u001b[0m\u001b[1;33m\u001b[0m\u001b[1;33m\u001b[0m\u001b[0m\n\u001b[0;32m      3\u001b[0m \u001b[0mprint\u001b[0m\u001b[1;33m(\u001b[0m\u001b[0mmy_tuple5\u001b[0m\u001b[1;33m.\u001b[0m\u001b[0mindex\u001b[0m\u001b[1;33m(\u001b[0m\u001b[1;34m' '\u001b[0m\u001b[1;33m)\u001b[0m\u001b[1;33m)\u001b[0m\u001b[1;33m\u001b[0m\u001b[1;33m\u001b[0m\u001b[0m\n\u001b[1;32m----> 4\u001b[1;33m \u001b[0mprint\u001b[0m\u001b[1;33m(\u001b[0m\u001b[0mmy_tuple5\u001b[0m\u001b[1;33m.\u001b[0m\u001b[0mindex\u001b[0m\u001b[1;33m(\u001b[0m\u001b[1;34m'k'\u001b[0m\u001b[1;33m)\u001b[0m\u001b[1;33m)\u001b[0m\u001b[1;33m\u001b[0m\u001b[1;33m\u001b[0m\u001b[0m\n\u001b[0m",
      "\u001b[1;31mValueError\u001b[0m: tuple.index(x): x not in tuple"
     ]
    }
   ],
   "source": [
    "my_tuple5 = tuple('вкладен список')\n",
    "print(my_tuple5.index('к'))\n",
    "print(my_tuple5.index(' '))\n",
    "print(my_tuple5.index('k'))"
   ]
  },
  {
   "cell_type": "code",
   "execution_count": 23,
   "metadata": {},
   "outputs": [
    {
     "name": "stdout",
     "output_type": "stream",
     "text": [
      "2\n",
      "0\n"
     ]
    }
   ],
   "source": [
    "print(my_tuple5.count('к'))\n",
    "print(my_tuple5.count('k'))"
   ]
  },
  {
   "cell_type": "markdown",
   "metadata": {},
   "source": [
    "### СОРТИРОВКА КОРТЕЖЕЙ"
   ]
  },
  {
   "cell_type": "code",
   "execution_count": 25,
   "metadata": {},
   "outputs": [
    {
     "name": "stdout",
     "output_type": "stream",
     "text": [
      "ПРОИЗВОЛЬНЫЙ КОРТЕЖ\n",
      " ('g', 's', 'f', 'a', 'j', 'h', 'f', 'd', 'і', 'п', 'у', 'к', 'щ', 'ш', 'к', 'щ', 'у', 'ц', 'ш', 'г', '1', '2', '4', '1', '3', '8')\n",
      "ВРЕМЕННЫЙ СПИСОК\n",
      " ['g', 's', 'f', 'a', 'j', 'h', 'f', 'd', 'і', 'п', 'у', 'к', 'щ', 'ш', 'к', 'щ', 'у', 'ц', 'ш', 'г', '1', '2', '4', '1', '3', '8']\n",
      "ОТСОРТИРОВАННЫЙ СПИСОК\n",
      " ['1', '1', '2', '3', '4', '8', 'a', 'd', 'f', 'f', 'g', 'h', 'j', 's', 'г', 'к', 'к', 'п', 'у', 'у', 'ц', 'ш', 'ш', 'щ', 'щ', 'і']\n",
      "ОТСОРТИРОВАННЫЙ КОРТЕЖ\n",
      " ('1', '1', '2', '3', '4', '8', 'a', 'd', 'f', 'f', 'g', 'h', 'j', 's', 'г', 'к', 'к', 'п', 'у', 'у', 'ц', 'ш', 'ш', 'щ', 'щ', 'і')\n"
     ]
    }
   ],
   "source": [
    "my_tuple_10 = tuple('gsfajhfdіпукщшкщуцшг124138')\n",
    "print(\"ПРОИЗВОЛЬНЫЙ КОРТЕЖ\\n\", my_tuple_10)\n",
    "# print (my_tuple_10.sort())  # NOT POSSIBLE\n",
    "temp_list = list(my_tuple_10)\n",
    "print(\"ВРЕМЕННЫЙ СПИСОК\\n\",temp_list)\n",
    "temp_list.sort()\n",
    "print(\"ОТСОРТИРОВАННЫЙ СПИСОК\\n\",temp_list)\n",
    "my_tuple_10 = tuple(temp_list)\n",
    "print(\"ОТСОРТИРОВАННЫЙ КОРТЕЖ\\n\", my_tuple_10)"
   ]
  },
  {
   "cell_type": "markdown",
   "metadata": {},
   "source": [
    "### СПИСОК КАК ЭЛЕМЕНТ КОРТЕЖА МЕНЯТЬ МОЖНО!!!"
   ]
  },
  {
   "cell_type": "code",
   "execution_count": 27,
   "metadata": {},
   "outputs": [
    {
     "name": "stdout",
     "output_type": "stream",
     "text": [
      "КОРТЕЖ - ВЛОЖЕННЫЕ СПИСКИ \n",
      " ('a', 'b', ['c', 'd'], 'e', 'f', ['g', 'h'])\n",
      "ЭЛЕМЕНТ 2 \n",
      " ['c', 'd']\n",
      "ЭЛЕМЕНТ 2 \n",
      " ['W', 'Q']\n"
     ]
    }
   ],
   "source": [
    "my_tuple_11 = ('a','b',['c','d'],'e', 'f',['g','h'])\n",
    "print(\"КОРТЕЖ - ВЛОЖЕННЫЕ СПИСКИ \\n\",my_tuple_11)\n",
    "print(\"ЭЛЕМЕНТ 2 \\n\",my_tuple_11[2])\n",
    "my_tuple_11[2][0:2] = list('WQ')\n",
    "print(\"ЭЛЕМЕНТ 2 \\n\",my_tuple_11[2])"
   ]
  },
  {
   "cell_type": "markdown",
   "metadata": {},
   "source": [
    "### ИЗМЕННИЕ КОРТЕЖА:  УДАЛЕНИЕ ЭЛЕМЕНТА, ДОБАВЛЕНИЕ ЭЛЕМЕНТА!!!"
   ]
  },
  {
   "cell_type": "code",
   "execution_count": 56,
   "metadata": {},
   "outputs": [
    {
     "name": "stdout",
     "output_type": "stream",
     "text": [
      "('a', 'b', ['W', 'Q'], 'e', 'f')\n"
     ]
    }
   ],
   "source": [
    "my_new_tuple  = my_tuple_11[0:len(my_tuple_11)-1]\n",
    "print(my_new_tuple)"
   ]
  },
  {
   "cell_type": "code",
   "execution_count": 57,
   "metadata": {},
   "outputs": [
    {
     "name": "stdout",
     "output_type": "stream",
     "text": [
      "('a', 'b', ['W', 'Q'], 'e', 'f', '1', '2', '3', '4', '5')\n"
     ]
    }
   ],
   "source": [
    "my_new_tuple = my_new_tuple + tuple('12345')\n",
    "print(my_new_tuple)"
   ]
  },
  {
   "cell_type": "code",
   "execution_count": null,
   "metadata": {},
   "outputs": [],
   "source": []
  }
 ],
 "metadata": {
  "kernelspec": {
   "display_name": "Python 3",
   "language": "python",
   "name": "python3"
  },
  "language_info": {
   "codemirror_mode": {
    "name": "ipython",
    "version": 3
   },
   "file_extension": ".py",
   "mimetype": "text/x-python",
   "name": "python",
   "nbconvert_exporter": "python",
   "pygments_lexer": "ipython3",
   "version": "3.8.5"
  }
 },
 "nbformat": 4,
 "nbformat_minor": 4
}

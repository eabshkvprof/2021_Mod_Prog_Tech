{
 "cells": [
  {
   "cell_type": "markdown",
   "metadata": {},
   "source": [
    "# EXAMPLES LEC 03 PYTHON LISTS"
   ]
  },
  {
   "cell_type": "code",
   "execution_count": 4,
   "metadata": {},
   "outputs": [],
   "source": [
    "my_list1 = []\n",
    "my_list2 = [5, 6, 7, 8, 9, 10]\n",
    "my_list3 = ['це', 'приклад','списку']\n",
    "my_list4 = ['це', 'приклад',['вкладеного','списку']]\n",
    "my_list5 = list('вкладеного списку')\n",
    "my_list6 = list(range(-10, 0))"
   ]
  },
  {
   "cell_type": "markdown",
   "metadata": {},
   "source": [
    "### PRINT  (ПЕЧАТЬ)"
   ]
  },
  {
   "cell_type": "code",
   "execution_count": 5,
   "metadata": {},
   "outputs": [
    {
     "name": "stdout",
     "output_type": "stream",
     "text": [
      "[]\n",
      "[5, 6, 7, 8, 9, 10]\n",
      "['це', 'приклад', 'списку']\n",
      "['це', 'приклад', ['вкладеного', 'списку']]\n",
      "['в', 'к', 'л', 'а', 'д', 'е', 'н', 'о', 'г', 'о', ' ', 'с', 'п', 'и', 'с', 'к', 'у']\n",
      "[-10, -9, -8, -7, -6, -5, -4, -3, -2, -1]\n"
     ]
    }
   ],
   "source": [
    "print(my_list1)\n",
    "print(my_list2)\n",
    "print(my_list3)\n",
    "print(my_list4)\n",
    "print(my_list5)\n",
    "print(my_list6)"
   ]
  },
  {
   "cell_type": "markdown",
   "metadata": {},
   "source": [
    "### ОСНОВНЫЕ ОПЕРАЦИИ"
   ]
  },
  {
   "cell_type": "code",
   "execution_count": 15,
   "metadata": {},
   "outputs": [
    {
     "name": "stdout",
     "output_type": "stream",
     "text": [
      "7\n",
      "вкладеного\n",
      "['л', 'д', 'н']\n",
      "['у', 'к', 'с', 'и', 'п', 'с', ' ', 'о', 'г', 'о', 'н', 'е', 'д']\n"
     ]
    }
   ],
   "source": [
    "print(my_list2[2])  ## index: my_list2 = [5, 6, 7, 8, 9, 10]\n",
    "print(my_list4[2][0])  ## index: my_list4 = ['це', 'приклад',['вкладеного','списку']]\n",
    "print(my_list5[2:7:2])  ## slyce: my_list5 = list('вкладеного списку')\n",
    "print(my_list5[-1:3:-1])  ## slyce: my_list5 = list('вкладеного списку')"
   ]
  },
  {
   "cell_type": "code",
   "execution_count": 9,
   "metadata": {},
   "outputs": [
    {
     "name": "stdout",
     "output_type": "stream",
     "text": [
      "[5, 6, 7, 8, 9, 10, -10, -9, -8, -7, -6, -5, -4, -3, -2, -1]\n",
      "['це', 'приклад', 'списку', 'це', 'приклад', 'списку', 'це', 'приклад', 'списку']\n"
     ]
    }
   ],
   "source": [
    "print(my_list2+my_list6)  ## concatenation --> [5, 6, 7, 8, 9, 10] + list(range(-10, 0))\n",
    "print(my_list3 * 3)  ## multiplication  ---> 3* ['це', 'приклад','списку']"
   ]
  },
  {
   "cell_type": "markdown",
   "metadata": {},
   "source": [
    "### LEN (ДЛИНА СПИСКА)"
   ]
  },
  {
   "cell_type": "code",
   "execution_count": 13,
   "metadata": {},
   "outputs": [
    {
     "name": "stdout",
     "output_type": "stream",
     "text": [
      "0 3\n"
     ]
    }
   ],
   "source": [
    "print(len(my_list1), len(my_list4))"
   ]
  },
  {
   "cell_type": "markdown",
   "metadata": {},
   "source": [
    "### IN (ПРОВЕРКА ПРИНАДЛЕЖНОСТИ)"
   ]
  },
  {
   "cell_type": "code",
   "execution_count": 16,
   "metadata": {},
   "outputs": [
    {
     "name": "stdout",
     "output_type": "stream",
     "text": [
      "True False\n"
     ]
    }
   ],
   "source": [
    "print ('це' in my_list3, 'Ї'in my_list4)  #  ['це', 'приклад','списку'] | ['це', 'приклад',['вкладеного','списку']]"
   ]
  },
  {
   "cell_type": "markdown",
   "metadata": {},
   "source": [
    "### IN in loop FOR"
   ]
  },
  {
   "cell_type": "code",
   "execution_count": 17,
   "metadata": {},
   "outputs": [
    {
     "name": "stdout",
     "output_type": "stream",
     "text": [
      "це\n",
      "приклад\n",
      "списку\n"
     ]
    }
   ],
   "source": [
    "for el in my_list3:\n",
    "    print (el)"
   ]
  },
  {
   "cell_type": "markdown",
   "metadata": {},
   "source": [
    "### MIN() , MAX(), SUM()"
   ]
  },
  {
   "cell_type": "code",
   "execution_count": 20,
   "metadata": {},
   "outputs": [
    {
     "name": "stdout",
     "output_type": "stream",
     "text": [
      "5\n",
      "10\n",
      "45\n"
     ]
    },
    {
     "ename": "TypeError",
     "evalue": "'<' not supported between instances of 'list' and 'str'",
     "output_type": "error",
     "traceback": [
      "\u001b[1;31m---------------------------------------------------------------------------\u001b[0m",
      "\u001b[1;31mTypeError\u001b[0m                                 Traceback (most recent call last)",
      "\u001b[1;32m<ipython-input-20-d0c340961971>\u001b[0m in \u001b[0;36m<module>\u001b[1;34m\u001b[0m\n\u001b[0;32m      2\u001b[0m \u001b[0mprint\u001b[0m \u001b[1;33m(\u001b[0m\u001b[0mmax\u001b[0m\u001b[1;33m(\u001b[0m\u001b[0mmy_list2\u001b[0m\u001b[1;33m)\u001b[0m\u001b[1;33m)\u001b[0m\u001b[1;33m\u001b[0m\u001b[1;33m\u001b[0m\u001b[0m\n\u001b[0;32m      3\u001b[0m \u001b[0mprint\u001b[0m \u001b[1;33m(\u001b[0m\u001b[0msum\u001b[0m\u001b[1;33m(\u001b[0m\u001b[0mmy_list2\u001b[0m\u001b[1;33m)\u001b[0m\u001b[1;33m)\u001b[0m\u001b[1;33m\u001b[0m\u001b[1;33m\u001b[0m\u001b[0m\n\u001b[1;32m----> 4\u001b[1;33m \u001b[0mprint\u001b[0m \u001b[1;33m(\u001b[0m\u001b[0mmin\u001b[0m\u001b[1;33m(\u001b[0m\u001b[0mmy_list4\u001b[0m\u001b[1;33m)\u001b[0m\u001b[1;33m)\u001b[0m\u001b[1;33m\u001b[0m\u001b[1;33m\u001b[0m\u001b[0m\n\u001b[0m",
      "\u001b[1;31mTypeError\u001b[0m: '<' not supported between instances of 'list' and 'str'"
     ]
    }
   ],
   "source": [
    "print (min(my_list2))\n",
    "print (max(my_list2))\n",
    "print (sum(my_list2))\n",
    "print (min(my_list4))"
   ]
  },
  {
   "cell_type": "markdown",
   "metadata": {},
   "source": [
    "###METHODS -->  "
   ]
  },
  {
   "cell_type": "code",
   "execution_count": 46,
   "metadata": {},
   "outputs": [
    {
     "name": "stdout",
     "output_type": "stream",
     "text": [
      "['в', 'к', 'л', 'а', 'д', 'е', 'н', ' ', 'с', 'п', 'и', 'с', 'о', 'к']\n",
      "['в', 'к', 'л', 'Q', 'Z', 'Q', 'Z', ' ', 'с', 'п', 'и', 'с', 'о', 'к']\n",
      "['в', 'к', 'л', 'Q', 'Z', 'Q', 'Z', ' ', 'с', 'п', 'и', 'с', 'о', 'к', 'ADDED']\n",
      "['в', 'к', 'л', 'Q', 'Z', 'Q', 'Z', ' ', 'с', 'п', 'и', 'с', 'о', 'к', 'ADDED', 'A', 'D', 'D', 'E', 'D']\n",
      "['в', 'к', 'л', 'Z', 'Q', 'Z', ' ', 'с', 'п', 'и', 'с', 'о', 'к', 'ADDED', 'A', 'D', 'D', 'E', 'D']\n",
      "['в', 'к', 'л', 'Z', 'Q', 'Z', ' ', 'с', 'п', 'и', 'с', 'о', 'к', 'A', 'D', 'D', 'E', 'D']\n"
     ]
    }
   ],
   "source": [
    "# my_list5 = list('вкладеного списку')\n",
    "my_list5 = list('вкладен список')\n",
    "print(my_list5)\n",
    "my_list5 [3:7:] = 'Q','Z','Q','Z'  ##ИЗМЕНЯЕМ\n",
    "print(my_list5)\n",
    "my_list5.append('ADDED') ##ДОБАВЛЯЕМ\n",
    "print(my_list5)\n",
    "my_list5.extend('ADDED') ##РАСШИРЯЕМ\n",
    "print(my_list5)\n",
    "my_list5.pop(3) ##ВЫБРАСЫВАЕМ\n",
    "print(my_list5)\n",
    "my_list5.remove ('ADDED') ## УДАЛЯЕМ ОБРАЗЕЦ\n",
    "print(my_list5)"
   ]
  },
  {
   "cell_type": "markdown",
   "metadata": {},
   "source": [
    "###METHODS --> SORT()   REVERS()"
   ]
  },
  {
   "cell_type": "code",
   "execution_count": 49,
   "metadata": {},
   "outputs": [
    {
     "name": "stdout",
     "output_type": "stream",
     "text": [
      "[' ', 'A', 'D', 'D', 'D', 'E', 'Q', 'Z', 'Z', 'в', 'и', 'к', 'к', 'л', 'о', 'п', 'с', 'с']\n"
     ]
    }
   ],
   "source": [
    "my_list5.sort()\n",
    "print(my_list5)"
   ]
  },
  {
   "cell_type": "code",
   "execution_count": 54,
   "metadata": {},
   "outputs": [
    {
     "name": "stdout",
     "output_type": "stream",
     "text": [
      "['с', 'с', 'п', 'о', 'л', 'к', 'к', 'и', 'в', 'Z', 'Z', 'Q', 'E', 'D', 'D', 'D', 'A', ' ']\n"
     ]
    }
   ],
   "source": [
    "my_list5.reverse()\n",
    "print(my_list5)"
   ]
  },
  {
   "cell_type": "markdown",
   "metadata": {},
   "source": [
    "###ADDITIONL FUNCTIONS ver >=3.0 !!! --> SORTED(),    REVERSED()"
   ]
  },
  {
   "cell_type": "code",
   "execution_count": 57,
   "metadata": {},
   "outputs": [
    {
     "name": "stdout",
     "output_type": "stream",
     "text": [
      "[' ', 'a', 'd', 'd', 'd', 'e', 'q', 'z', 'z', 'в', 'и', 'к', 'к', 'л', 'о', 'п', 'с', 'с']\n"
     ]
    }
   ],
   "source": [
    "print(sorted([x.lower() for x in my_list5], reverse=False))"
   ]
  },
  {
   "cell_type": "markdown",
   "metadata": {},
   "source": [
    "### SIMPLE EXAMPLE"
   ]
  },
  {
   "cell_type": "code",
   "execution_count": 6,
   "metadata": {},
   "outputs": [
    {
     "name": "stdout",
     "output_type": "stream",
     "text": [
      "py_magick.pdf\n"
     ]
    }
   ],
   "source": [
    "url_str ='http://dl.dropbox.com/u/7334460/Magick_py/py_magick.pdf'\n",
    "last_slesh_index = url_str.rfind('/')\n",
    "file_name = url_str[last_slesh_index+1 : ]\n",
    "print(file_name)"
   ]
  },
  {
   "cell_type": "code",
   "execution_count": null,
   "metadata": {},
   "outputs": [],
   "source": []
  }
 ],
 "metadata": {
  "kernelspec": {
   "display_name": "Python 3",
   "language": "python",
   "name": "python3"
  },
  "language_info": {
   "codemirror_mode": {
    "name": "ipython",
    "version": 3
   },
   "file_extension": ".py",
   "mimetype": "text/x-python",
   "name": "python",
   "nbconvert_exporter": "python",
   "pygments_lexer": "ipython3",
   "version": "3.8.5"
  }
 },
 "nbformat": 4,
 "nbformat_minor": 4
}

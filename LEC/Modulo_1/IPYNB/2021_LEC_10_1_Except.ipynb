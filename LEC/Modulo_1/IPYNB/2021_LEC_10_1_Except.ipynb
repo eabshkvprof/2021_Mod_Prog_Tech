{
 "cells": [
  {
   "cell_type": "markdown",
   "metadata": {},
   "source": [
    "# LEC 10 PYTHON Exceptions"
   ]
  },
  {
   "cell_type": "markdown",
   "metadata": {},
   "source": [
    "### ОБРАБОТКА ОШИБОК"
   ]
  },
  {
   "cell_type": "code",
   "execution_count": null,
   "metadata": {},
   "outputs": [],
   "source": [
    "def Example_0 ():\n",
    "    print('START')\n",
    "    val = int(input('Pls Input Number :'))\n",
    "    tmp = 10/val\n",
    "    print ('10 / Your number = ', tmp)\n",
    "    print (\"STOP\")        "
   ]
  },
  {
   "cell_type": "code",
   "execution_count": null,
   "metadata": {},
   "outputs": [],
   "source": [
    "Example_0()   # ВВОДИМ ЧИСЛО "
   ]
  },
  {
   "cell_type": "code",
   "execution_count": null,
   "metadata": {},
   "outputs": [],
   "source": [
    "Example_0()   # ВВОДИМ 0 "
   ]
  },
  {
   "cell_type": "code",
   "execution_count": null,
   "metadata": {},
   "outputs": [],
   "source": [
    "def Example_1 ():\n",
    "    print('START')\n",
    "    try:\n",
    "        val = int(input('Pls Input Number :'))\n",
    "        tmp = 10/val\n",
    "        print ('10 / Your number = ', tmp)\n",
    "    except ZeroDivisionError:\n",
    "        print ('ZERRO is not valid')\n",
    "    print (\"STOP\")        "
   ]
  },
  {
   "cell_type": "code",
   "execution_count": null,
   "metadata": {},
   "outputs": [],
   "source": [
    "Example_1()   # ВВОДИМ 0 "
   ]
  },
  {
   "cell_type": "code",
   "execution_count": null,
   "metadata": {},
   "outputs": [],
   "source": [
    "Example_1()   # ВВОДИМ СТРОКУ "
   ]
  },
  {
   "cell_type": "code",
   "execution_count": null,
   "metadata": {},
   "outputs": [],
   "source": [
    "def Example_2 ():\n",
    "    print('START')\n",
    "    try:\n",
    "        val = int(input('Pls Input Number :'))\n",
    "        tmp = 10/val\n",
    "        print ('10 / Your number = ', tmp)\n",
    "    except (ZeroDivisionError, ValueError):\n",
    "        print ('ERROR !! ')\n",
    "    print (\"STOP\")    "
   ]
  },
  {
   "cell_type": "code",
   "execution_count": null,
   "metadata": {},
   "outputs": [],
   "source": [
    "Example_2()   # ВВОДИМ 0"
   ]
  },
  {
   "cell_type": "code",
   "execution_count": null,
   "metadata": {},
   "outputs": [],
   "source": [
    "Example_2()   #  ВВОДИМ СТРОКУ"
   ]
  },
  {
   "cell_type": "code",
   "execution_count": null,
   "metadata": {},
   "outputs": [],
   "source": [
    "def Example_3 ():\n",
    "    print('START')\n",
    "    try:\n",
    "        val = int(input('Pls Input Number :'))\n",
    "        tmp = 10/val\n",
    "        print ('10 / Your number = ', tmp)\n",
    "    except ZeroDivisionError:\n",
    "        print ('!! ZERRO')\n",
    "    except ValueError:\n",
    "        print ('!! VALUE')\n",
    "    print (\"STOP\")    \n",
    "    "
   ]
  },
  {
   "cell_type": "code",
   "execution_count": null,
   "metadata": {},
   "outputs": [],
   "source": [
    "Example_3()   # ВВОДИМ 0"
   ]
  },
  {
   "cell_type": "code",
   "execution_count": null,
   "metadata": {},
   "outputs": [],
   "source": [
    "Example_3()   # ВВОДИМ СТРОКУ"
   ]
  },
  {
   "cell_type": "code",
   "execution_count": null,
   "metadata": {},
   "outputs": [],
   "source": [
    "def Example_4 ():\n",
    "    print('START')\n",
    "    try:\n",
    "        val = int(input('Pls Input Number :'))\n",
    "        tmp = 10/val\n",
    "        print ('10 / Your number = ', tmp)\n",
    "    except Exception as e:\n",
    "        print ('ERROR !! '+ str(e))\n",
    "    print (\"STOP\")    "
   ]
  },
  {
   "cell_type": "code",
   "execution_count": null,
   "metadata": {},
   "outputs": [],
   "source": [
    "Example_4()   # ВВОДИМ 0"
   ]
  },
  {
   "cell_type": "code",
   "execution_count": null,
   "metadata": {},
   "outputs": [],
   "source": [
    "Example_4()   # ВВОДИМ СТРОКУ"
   ]
  },
  {
   "cell_type": "markdown",
   "metadata": {},
   "source": [
    "### ЧТЕНИЕ ФАЙЛА"
   ]
  },
  {
   "cell_type": "code",
   "execution_count": null,
   "metadata": {},
   "outputs": [],
   "source": [
    "def Example_5 ():\n",
    "    print('START FILE READING')\n",
    "    try:\n",
    "        #f = open ('test.txt', 'r') \n",
    "        f = open ('my_file_text.txt', 'r')\n",
    "        for line in f :\n",
    "            print (line)\n",
    "        f.close()    \n",
    "    except Exception as e:\n",
    "        print ('ERROR !! '+ str(e))\n",
    "    else:\n",
    "        print (\"FILE WAS READED\")    \n",
    "    finally:\n",
    "        print (\"EXAMPLE ENDED\")        "
   ]
  },
  {
   "cell_type": "code",
   "execution_count": null,
   "metadata": {},
   "outputs": [],
   "source": [
    "Example_5() # ФАЙЛ ЕСТЬ"
   ]
  },
  {
   "cell_type": "code",
   "execution_count": null,
   "metadata": {},
   "outputs": [],
   "source": [
    "Example_5() # ФАЙЛА НЕТ"
   ]
  },
  {
   "cell_type": "markdown",
   "metadata": {},
   "source": [
    "### СОЗДАНИЕ СОБСТВЕННОГО ИСКЛЮЧЕНИЯ"
   ]
  },
  {
   "cell_type": "code",
   "execution_count": null,
   "metadata": {},
   "outputs": [],
   "source": [
    "class MyError (Exception):\n",
    "    def __init__(self,text):\n",
    "        self.txt = text"
   ]
  },
  {
   "cell_type": "code",
   "execution_count": null,
   "metadata": {},
   "outputs": [],
   "source": [
    "def pos_num_input ():\n",
    "    a = input ('Input positive integer :')\n",
    "    try:\n",
    "        a = int(a)\n",
    "        if a < 0 :\n",
    "            raise MyError('You give negative number!')\n",
    "            return (a)\n",
    "    except ValueError:\n",
    "        print ('Error type of value')\n",
    "    except MyError as msg:\n",
    "        print (msg)\n",
    "    else :\n",
    "        print ('You give ' , a)\n"
   ]
  },
  {
   "cell_type": "code",
   "execution_count": null,
   "metadata": {},
   "outputs": [],
   "source": [
    "pos_num_input () # ВВОД ПОЛОЖИТЕЛЬНОГО ЧИСЛА"
   ]
  },
  {
   "cell_type": "code",
   "execution_count": null,
   "metadata": {},
   "outputs": [],
   "source": [
    "pos_num_input () # ВВОД ОТРИЦАТЕЛЬНОГО  ЧИСЛА"
   ]
  },
  {
   "cell_type": "code",
   "execution_count": null,
   "metadata": {},
   "outputs": [],
   "source": [
    "pos_num_input () # ВВОД НЕ ЧИСЛА"
   ]
  },
  {
   "cell_type": "code",
   "execution_count": null,
   "metadata": {},
   "outputs": [],
   "source": []
  }
 ],
 "metadata": {
  "kernelspec": {
   "display_name": "Python 3",
   "language": "python",
   "name": "python3"
  },
  "language_info": {
   "codemirror_mode": {
    "name": "ipython",
    "version": 3
   },
   "file_extension": ".py",
   "mimetype": "text/x-python",
   "name": "python",
   "nbconvert_exporter": "python",
   "pygments_lexer": "ipython3",
   "version": "3.8.5"
  }
 },
 "nbformat": 4,
 "nbformat_minor": 4
}

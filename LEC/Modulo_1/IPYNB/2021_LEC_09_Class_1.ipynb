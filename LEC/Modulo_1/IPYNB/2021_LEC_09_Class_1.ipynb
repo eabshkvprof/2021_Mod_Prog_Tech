{
 "cells": [
  {
   "cell_type": "markdown",
   "metadata": {},
   "source": [
    "# LEC 09 PYTHON // CLASS 2  (Example 1)"
   ]
  },
  {
   "cell_type": "markdown",
   "metadata": {},
   "source": [
    "### ПЕРЕЗАГРУЗКА ОПЕРАТОРА __INIT__"
   ]
  },
  {
   "cell_type": "markdown",
   "metadata": {},
   "source": [
    "### ПЕРВЫЙ КЛАСС"
   ]
  },
  {
   "cell_type": "code",
   "execution_count": 1,
   "metadata": {},
   "outputs": [],
   "source": [
    "class FirstClass:\n",
    "    def __init__(self):\n",
    "        self.data = 'ЭТО ПЕРВЫЙ КЛАСС'\n",
    "    def setdata(self, value):\n",
    "        self.data = value\n",
    "    def display (self):\n",
    "        print(self.data)"
   ]
  },
  {
   "cell_type": "code",
   "execution_count": 13,
   "metadata": {},
   "outputs": [
    {
     "name": "stdout",
     "output_type": "stream",
     "text": [
      "ЭТО ПЕРВЫЙ КЛАСС\n"
     ]
    }
   ],
   "source": [
    "x = FirstClass()\n",
    "# При инициализации data  экземпляра присвоена строка 'ЭТО ПЕРВЫЙ КЛАСС'\n",
    "x.display()"
   ]
  },
  {
   "cell_type": "code",
   "execution_count": 15,
   "metadata": {},
   "outputs": [
    {
     "name": "stdout",
     "output_type": "stream",
     "text": [
      "3.14\n"
     ]
    }
   ],
   "source": [
    "# Переопределяем data экземпляра -  присваеваем чило 3.14\n",
    "x.setdata (3.14)\n",
    "x.display()"
   ]
  },
  {
   "cell_type": "markdown",
   "metadata": {},
   "source": [
    "### ВТОРОЙ КЛАСС (ПОДКЛАСС ПЕРВОГО)"
   ]
  },
  {
   "cell_type": "code",
   "execution_count": 20,
   "metadata": {},
   "outputs": [],
   "source": [
    "class SecondClass(FirstClass):  # Класс 2 на базе первого \n",
    "    def __init__(self, value):  # При инициализации экземпляра класса 2 \n",
    "        self.data = 'ЭТО ВТОРОЙ КЛАСС'+ str(value) # data экземпляра класса 2 "
   ]
  },
  {
   "cell_type": "code",
   "execution_count": 21,
   "metadata": {},
   "outputs": [],
   "source": [
    "y = SecondClass(' ПРИМЕР переопределения __init__') # экземпляр класса 2 передаем строку"
   ]
  },
  {
   "cell_type": "code",
   "execution_count": 22,
   "metadata": {},
   "outputs": [
    {
     "name": "stdout",
     "output_type": "stream",
     "text": [
      "ЭТО ВТОРОЙ КЛАСС ПРИМЕР переопределения __init__\n"
     ]
    }
   ],
   "source": [
    "y.display() # Вызываем функцию класса 1, а data из экземпляра класса 2 "
   ]
  },
  {
   "cell_type": "markdown",
   "metadata": {
    "jupyter": {
     "source_hidden": true
    }
   },
   "source": [
    "### КЛАСС ТРИ"
   ]
  },
  {
   "cell_type": "code",
   "execution_count": 23,
   "metadata": {},
   "outputs": [],
   "source": [
    "class Class_3:\n",
    "    def __init__(self, name, pay):\n",
    "        self.data_1 = name\n",
    "        self.data_2 = pay\n",
    "    def display (self):\n",
    "        print(self.data_1, self.data_2)"
   ]
  },
  {
   "cell_type": "code",
   "execution_count": 24,
   "metadata": {},
   "outputs": [],
   "source": [
    "person_1 = Class_3('Ivanov',100)\n",
    "person_2 = Class_3('Perov', 200)"
   ]
  },
  {
   "cell_type": "code",
   "execution_count": 25,
   "metadata": {},
   "outputs": [
    {
     "name": "stdout",
     "output_type": "stream",
     "text": [
      "Ivanov 100\n"
     ]
    }
   ],
   "source": [
    "person_1.display()"
   ]
  },
  {
   "cell_type": "code",
   "execution_count": 26,
   "metadata": {},
   "outputs": [
    {
     "name": "stdout",
     "output_type": "stream",
     "text": [
      "Perov 200\n"
     ]
    }
   ],
   "source": [
    "person_2.display()"
   ]
  },
  {
   "cell_type": "markdown",
   "metadata": {},
   "source": [
    "### КЛАСС ЧЕТРЫЕ"
   ]
  },
  {
   "cell_type": "markdown",
   "metadata": {},
   "source": [
    "### ПЕРЕОПРЕДЕЛЯЕМ INIT КЛАССА, НАСЛЕДУЯ INIT СУПЕРКАЛАССА"
   ]
  },
  {
   "cell_type": "code",
   "execution_count": 27,
   "metadata": {},
   "outputs": [],
   "source": [
    "# Класс 3  суперкласс для класса 4\n",
    "class Class_4 (Class_3):\n",
    "    def __init__(self, name, pay, position): # Новый __инит__ для Класса 4\n",
    "        Class_3.__init__(self, name, pay)    # !!! Изменяет __инит__ Класса 3 \n",
    "        self.data_3 = position               # !!! В __инит__ Класса 3 Новая переменная\n",
    "    def display (self):\n",
    "        print(self.data_1, self.data_2, self.data_3)"
   ]
  },
  {
   "cell_type": "code",
   "execution_count": 28,
   "metadata": {},
   "outputs": [],
   "source": [
    "person_3 = Class_4('Kulik', 300, 'director')"
   ]
  },
  {
   "cell_type": "code",
   "execution_count": 29,
   "metadata": {},
   "outputs": [
    {
     "name": "stdout",
     "output_type": "stream",
     "text": [
      "Kulik 300 director\n"
     ]
    }
   ],
   "source": [
    "person_3.display() "
   ]
  },
  {
   "cell_type": "code",
   "execution_count": null,
   "metadata": {},
   "outputs": [],
   "source": []
  },
  {
   "cell_type": "code",
   "execution_count": null,
   "metadata": {},
   "outputs": [],
   "source": []
  }
 ],
 "metadata": {
  "kernelspec": {
   "display_name": "Python 3",
   "language": "python",
   "name": "python3"
  },
  "language_info": {
   "codemirror_mode": {
    "name": "ipython",
    "version": 3
   },
   "file_extension": ".py",
   "mimetype": "text/x-python",
   "name": "python",
   "nbconvert_exporter": "python",
   "pygments_lexer": "ipython3",
   "version": "3.8.5"
  }
 },
 "nbformat": 4,
 "nbformat_minor": 4
}

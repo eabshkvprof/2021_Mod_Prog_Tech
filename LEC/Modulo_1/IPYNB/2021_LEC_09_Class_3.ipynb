{
 "cells": [
  {
   "cell_type": "markdown",
   "metadata": {},
   "source": [
    "# LEC 09 PYTHON // CLASS 2  (Example 3)"
   ]
  },
  {
   "cell_type": "markdown",
   "metadata": {},
   "source": [
    "### ПЕРЕЗАГРУЗКА АРИФМЕТИЧЕСКИХ ОПЕРАТОРОВ"
   ]
  },
  {
   "cell_type": "markdown",
   "metadata": {},
   "source": [
    "### НА ПРИМЕРЕ КЛАССА ВЕКТОРОВ"
   ]
  },
  {
   "cell_type": "code",
   "execution_count": 2,
   "metadata": {},
   "outputs": [],
   "source": [
    "class Vector2D :                  # КЛАСС ДВУМЕРНЫХ ВЕКТОРОВ\n",
    "    def __init__(self,x,y):       # ИНИЦИАЛИЗАЦИЯ ЭКЗЕМПЛЯРА (ВЕКТОРА)\n",
    "        self.x = x\n",
    "        self.y = y\n",
    "    \n",
    "    def __repr__(self):             # ПЕРЕОПРЕДЕЛЕНИЕ ВЫВОДА \n",
    "        return 'Vector 2D ({},{})'.format(self.x,self.y)\n",
    "    \n",
    "    def __str__(self):             # ПЕРЕОПРЕДЕЛЕНИЕ ВЫВОДА  В ВИДЕ СТРОКИ\n",
    "        return '({},{})'.format(self.x,self.y)\n",
    "    \n",
    "    def __neg__(self):             # ПЕРЕОПРЕДЕЛЕНИЕ ОТРИЦАНИЯ\n",
    "        return Vector2D(-self.x, -self.y)\n",
    "        \n",
    "    def __add__(self, other):             # ПЕРЕОПРЕДЕЛЕНИЕ ОПЕРАЦИИ СЛОЖЕНИЯ ДЛЯ ВЕКТОРОВ\n",
    "        return Vector2D(self.x + other.x, self.y + other.y)\n",
    "    \n",
    "    def __iadd__(self, other):            # ПЕРЕОПРЕДЕЛЕНИЕ ОПЕРАЦИИ ИНКРЕМЕНТНОГО СЛОЖЕНИЯ ДЛЯ ВЕКТОРОВ\n",
    "        self.x += other.x\n",
    "        self.y += other.y\n",
    "        return self\n",
    "    \n",
    "    def __sub__(self, other):             # ПЕРЕОПРЕДЕЛЕНИЕ ОПЕРАЦИИ ВЫЧИТАНИЯ ДЛЯ ВЕКТОРОВ  \n",
    "        return Vector2D(self.x - other.x, self.y - other.y)\n",
    "    \n",
    "    def __isub__(self, other):           # ПЕРЕОПРЕДЕЛЕНИЕ ОПЕРАЦИИ ИНКРЕМЕНТНОГО ВЫЧИТАНИЯ ДЛЯ ВЕКТОРОВ\n",
    "        self.x -= other.x\n",
    "        self.y -= other.y\n",
    "        return self\n",
    "    \n",
    "     \n",
    "    def __abs__(self):                     # ПЕРЕОПРЕДЕЛЕНИЕ ФБСОЛЮТНОГО ЗНАЧЕНИЯ\n",
    "        import math\n",
    "        return math.sqrt(self.x*self.x + self.y * self.y)\n",
    "    \n",
    "    \n",
    "    "
   ]
  },
  {
   "cell_type": "code",
   "execution_count": 3,
   "metadata": {},
   "outputs": [
    {
     "data": {
      "text/plain": [
       "Vector 2D (3,4)"
      ]
     },
     "execution_count": 3,
     "metadata": {},
     "output_type": "execute_result"
    }
   ],
   "source": [
    "x = Vector2D(3,4)\n",
    "x                             # ВЫЗЫВАЕМ  ПЕРЕОПРЕДЕЛЕННУЮ REPR() "
   ]
  },
  {
   "cell_type": "code",
   "execution_count": 4,
   "metadata": {},
   "outputs": [
    {
     "name": "stdout",
     "output_type": "stream",
     "text": [
      "(3,4)\n"
     ]
    }
   ],
   "source": [
    "print(x)                 # ВЫЗЫВАЕМ  ПЕРЕОПРЕДЕЛЕННУЮ STR() "
   ]
  },
  {
   "cell_type": "code",
   "execution_count": 5,
   "metadata": {},
   "outputs": [
    {
     "data": {
      "text/plain": [
       "Vector 2D (10,20)"
      ]
     },
     "execution_count": 5,
     "metadata": {},
     "output_type": "execute_result"
    }
   ],
   "source": [
    "y = Vector2D(10,20)\n",
    "y"
   ]
  },
  {
   "cell_type": "code",
   "execution_count": 6,
   "metadata": {},
   "outputs": [
    {
     "data": {
      "text/plain": [
       "Vector 2D (13,24)"
      ]
     },
     "execution_count": 6,
     "metadata": {},
     "output_type": "execute_result"
    }
   ],
   "source": [
    "x+y"
   ]
  },
  {
   "cell_type": "code",
   "execution_count": 7,
   "metadata": {},
   "outputs": [
    {
     "data": {
      "text/plain": [
       "Vector 2D (-7,-16)"
      ]
     },
     "execution_count": 7,
     "metadata": {},
     "output_type": "execute_result"
    }
   ],
   "source": [
    "x-y"
   ]
  },
  {
   "cell_type": "code",
   "execution_count": 8,
   "metadata": {},
   "outputs": [
    {
     "data": {
      "text/plain": [
       "Vector 2D (6,8)"
      ]
     },
     "execution_count": 8,
     "metadata": {},
     "output_type": "execute_result"
    }
   ],
   "source": [
    "z=x+x\n",
    "z"
   ]
  },
  {
   "cell_type": "code",
   "execution_count": 9,
   "metadata": {},
   "outputs": [
    {
     "data": {
      "text/plain": [
       "Vector 2D (-6,-8)"
      ]
     },
     "execution_count": 9,
     "metadata": {},
     "output_type": "execute_result"
    }
   ],
   "source": [
    "-z"
   ]
  },
  {
   "cell_type": "code",
   "execution_count": 14,
   "metadata": {},
   "outputs": [],
   "source": [
    "z -= x"
   ]
  },
  {
   "cell_type": "code",
   "execution_count": 15,
   "metadata": {},
   "outputs": [
    {
     "data": {
      "text/plain": [
       "Vector 2D (-3,-4)"
      ]
     },
     "execution_count": 15,
     "metadata": {},
     "output_type": "execute_result"
    }
   ],
   "source": [
    "z"
   ]
  },
  {
   "cell_type": "code",
   "execution_count": 16,
   "metadata": {},
   "outputs": [
    {
     "data": {
      "text/plain": [
       "5.0"
      ]
     },
     "execution_count": 16,
     "metadata": {},
     "output_type": "execute_result"
    }
   ],
   "source": [
    "abs(x)"
   ]
  },
  {
   "cell_type": "code",
   "execution_count": null,
   "metadata": {},
   "outputs": [],
   "source": []
  }
 ],
 "metadata": {
  "kernelspec": {
   "display_name": "Python 3",
   "language": "python",
   "name": "python3"
  },
  "language_info": {
   "codemirror_mode": {
    "name": "ipython",
    "version": 3
   },
   "file_extension": ".py",
   "mimetype": "text/x-python",
   "name": "python",
   "nbconvert_exporter": "python",
   "pygments_lexer": "ipython3",
   "version": "3.8.5"
  }
 },
 "nbformat": 4,
 "nbformat_minor": 4
}

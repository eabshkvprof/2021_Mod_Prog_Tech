{
 "cells": [
  {
   "cell_type": "markdown",
   "metadata": {},
   "source": [
    "# LEC 09 PYTHON // CLASS 2 (Example 2)¶"
   ]
  },
  {
   "cell_type": "markdown",
   "metadata": {},
   "source": [
    "### ПЕРЕЗАГРУЗКА ОПЕРАТОРА __str__, __repr__"
   ]
  },
  {
   "cell_type": "markdown",
   "metadata": {},
   "source": [
    "### ПЕРВЫЙ КЛАСС"
   ]
  },
  {
   "cell_type": "code",
   "execution_count": 2,
   "metadata": {},
   "outputs": [],
   "source": [
    "class FirstClass:\n",
    "    def setdata(self, value):\n",
    "        self.data = value\n",
    "    def display (self):\n",
    "        print(self.data)"
   ]
  },
  {
   "cell_type": "code",
   "execution_count": 3,
   "metadata": {},
   "outputs": [
    {
     "data": {
      "text/plain": [
       "<__main__.FirstClass at 0x23b6d1a2ca0>"
      ]
     },
     "execution_count": 3,
     "metadata": {},
     "output_type": "execute_result"
    }
   ],
   "source": [
    "x = FirstClass()\n",
    "y = FirstClass()\n",
    "x                   ### ОБРАТИТЕ ВНИМАНИЕ НА ОТОБРАЖЕНИЕ"
   ]
  },
  {
   "cell_type": "code",
   "execution_count": 4,
   "metadata": {},
   "outputs": [
    {
     "name": "stdout",
     "output_type": "stream",
     "text": [
      "<__main__.FirstClass object at 0x0000023B6D1A2CA0>\n"
     ]
    }
   ],
   "source": [
    "print(x)                   ### ОБРАТИТЕ ВНИМАНИЕ НА ОТОБРАЖЕНИЕ"
   ]
  },
  {
   "cell_type": "code",
   "execution_count": 5,
   "metadata": {},
   "outputs": [
    {
     "name": "stdout",
     "output_type": "stream",
     "text": [
      "ЭТО ПЕРВЫЙ КЛАСС\n"
     ]
    }
   ],
   "source": [
    "x.setdata('ЭТО ПЕРВЫЙ КЛАСС')\n",
    "x.display()"
   ]
  },
  {
   "cell_type": "markdown",
   "metadata": {},
   "source": [
    "### ВТОРОЙ КЛАСС"
   ]
  },
  {
   "cell_type": "code",
   "execution_count": 10,
   "metadata": {},
   "outputs": [],
   "source": [
    "class SecondClass (FirstClass):\n",
    "    def display (self):\n",
    "        print('ТЕКУЩЕЕ ЗНАЧЕНИЕ = \"%s\" ' % self.data)"
   ]
  },
  {
   "cell_type": "code",
   "execution_count": 11,
   "metadata": {},
   "outputs": [
    {
     "data": {
      "text/plain": [
       "<__main__.SecondClass at 0x23b6d1a2940>"
      ]
     },
     "execution_count": 11,
     "metadata": {},
     "output_type": "execute_result"
    }
   ],
   "source": [
    "z  = SecondClass()\n",
    "z.setdata (\"HO HO\")\n",
    "z                   ### ОБРАТИТЕ ВНИМАНИЕ НА ОТОБРАЖЕНИЕ"
   ]
  },
  {
   "cell_type": "code",
   "execution_count": 8,
   "metadata": {},
   "outputs": [
    {
     "name": "stdout",
     "output_type": "stream",
     "text": [
      "ТЕКУЩЕЕ ЗНАЧЕНИЕ = \"HO HO\" \n"
     ]
    }
   ],
   "source": [
    "z.display()                 "
   ]
  },
  {
   "cell_type": "markdown",
   "metadata": {},
   "source": [
    "### ТРЕТИЙ КЛАСС = ПЕРВЙ КЛАСС , НО  --- ПЕРЕОПРЕДЕЛЯЕМ REPR  "
   ]
  },
  {
   "cell_type": "code",
   "execution_count": 12,
   "metadata": {},
   "outputs": [],
   "source": [
    "class ThrClass:\n",
    "    def __repr__ (self):\n",
    "        return 'ЭТО КЛАСС ТРИ ({})'.format(self.data)\n",
    "    def setdata(self, value):\n",
    "        self.data = value\n",
    "    def display (self):\n",
    "        print(self.data)"
   ]
  },
  {
   "cell_type": "code",
   "execution_count": 16,
   "metadata": {},
   "outputs": [
    {
     "data": {
      "text/plain": [
       "ЭТО КЛАСС ТРИ (ВЫВОД через __REPR__)"
      ]
     },
     "execution_count": 16,
     "metadata": {},
     "output_type": "execute_result"
    }
   ],
   "source": [
    "w = ThrClass()\n",
    "w.setdata ('ВЫВОД через __REPR__')\n",
    "w                                   ### ОБРАТИТЕ ВНИМАНИЕ НА ОТОБРАЖЕНИЕ"
   ]
  },
  {
   "cell_type": "code",
   "execution_count": 17,
   "metadata": {},
   "outputs": [
    {
     "name": "stdout",
     "output_type": "stream",
     "text": [
      "ЭТО КЛАСС ТРИ (ВЫВОД через __REPR__)\n"
     ]
    }
   ],
   "source": [
    "print(w)                                   ### ОБРАТИТЕ ВНИМАНИЕ НА ОТОБРАЖЕНИЕ"
   ]
  },
  {
   "cell_type": "code",
   "execution_count": 20,
   "metadata": {},
   "outputs": [],
   "source": [
    "class ForClass:\n",
    "    def __str__ (self):\n",
    "        return '({})'.format(self.data)    \n",
    "    def setdata(self, value):\n",
    "        self.data = value\n",
    "    def display (self):\n",
    "        print(self.data)"
   ]
  },
  {
   "cell_type": "code",
   "execution_count": 21,
   "metadata": {},
   "outputs": [
    {
     "data": {
      "text/plain": [
       "<__main__.ForClass at 0x23b6d1f6550>"
      ]
     },
     "execution_count": 21,
     "metadata": {},
     "output_type": "execute_result"
    }
   ],
   "source": [
    "v= ForClass()\n",
    "v.setdata ('ВЫВОД через __STR__')\n",
    "v                                   ### ОБРАТИТЕ ВНИМАНИЕ НА ОТОБРАЖЕНИЕ"
   ]
  },
  {
   "cell_type": "code",
   "execution_count": 22,
   "metadata": {},
   "outputs": [
    {
     "name": "stdout",
     "output_type": "stream",
     "text": [
      "(ВЫВОД через __STR__)\n"
     ]
    }
   ],
   "source": [
    "print(v)                                   ### ОБРАТИТЕ ВНИМАНИЕ НА ОТОБРАЖЕНИЕ"
   ]
  },
  {
   "cell_type": "code",
   "execution_count": null,
   "metadata": {},
   "outputs": [],
   "source": []
  }
 ],
 "metadata": {
  "kernelspec": {
   "display_name": "Python 3",
   "language": "python",
   "name": "python3"
  },
  "language_info": {
   "codemirror_mode": {
    "name": "ipython",
    "version": 3
   },
   "file_extension": ".py",
   "mimetype": "text/x-python",
   "name": "python",
   "nbconvert_exporter": "python",
   "pygments_lexer": "ipython3",
   "version": "3.8.5"
  }
 },
 "nbformat": 4,
 "nbformat_minor": 4
}

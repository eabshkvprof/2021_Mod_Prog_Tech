{
 "cells": [
  {
   "cell_type": "markdown",
   "metadata": {},
   "source": [
    "# LEC 08 PYTHON CLASS 1  (Example 5)"
   ]
  },
  {
   "cell_type": "markdown",
   "metadata": {},
   "source": [
    "### ИСПОЛЬЗОВАНИЕ ВСТРОЕННЫХ АРГУМЕНТОВ"
   ]
  },
  {
   "cell_type": "code",
   "execution_count": 40,
   "metadata": {},
   "outputs": [],
   "source": [
    "def clstree (cls, indent) :\n",
    "    print (\".\" * indent  + cls.__name__)\n",
    "    for supercls  in cls.__bases__ :     #!рекурсія суперкласів\n",
    "\t    clstree(supercls, indent+4)\n",
    "    \n",
    "def instancetree (inst) :\n",
    "    print (\"tree of \", inst)\n",
    "    clstree (inst.__class__ , 4)\t\n",
    "    \n",
    "\n",
    "class A             : pass\n",
    "class B(A)          : pass\n",
    "class C(A)          : pass\n",
    "class D(B,C)        : pass\n",
    "class E             : pass\n",
    "class F(D,E)        : pass\n",
    "   "
   ]
  },
  {
   "cell_type": "markdown",
   "metadata": {},
   "source": [
    "### СТРОИМ ДЕРЕВЬЯ"
   ]
  },
  {
   "cell_type": "code",
   "execution_count": 41,
   "metadata": {},
   "outputs": [
    {
     "name": "stdout",
     "output_type": "stream",
     "text": [
      "tree of  <__main__.B object at 0x00000226396CBE48>\n",
      "....B\n",
      "........A\n",
      "............object\n"
     ]
    }
   ],
   "source": [
    "instancetree (B())"
   ]
  },
  {
   "cell_type": "code",
   "execution_count": 42,
   "metadata": {},
   "outputs": [
    {
     "name": "stdout",
     "output_type": "stream",
     "text": [
      "tree of  <__main__.F object at 0x00000226396E1308>\n",
      "....F\n",
      "........D\n",
      "............B\n",
      "................A\n",
      "....................object\n",
      "............C\n",
      "................A\n",
      "....................object\n",
      "........E\n",
      "............object\n"
     ]
    }
   ],
   "source": [
    "instancetree (F())"
   ]
  },
  {
   "cell_type": "code",
   "execution_count": null,
   "metadata": {},
   "outputs": [],
   "source": []
  }
 ],
 "metadata": {
  "kernelspec": {
   "display_name": "Python 3",
   "language": "python",
   "name": "python3"
  },
  "language_info": {
   "codemirror_mode": {
    "name": "ipython",
    "version": 3
   },
   "file_extension": ".py",
   "mimetype": "text/x-python",
   "name": "python",
   "nbconvert_exporter": "python",
   "pygments_lexer": "ipython3",
   "version": "3.8.5"
  }
 },
 "nbformat": 4,
 "nbformat_minor": 4
}

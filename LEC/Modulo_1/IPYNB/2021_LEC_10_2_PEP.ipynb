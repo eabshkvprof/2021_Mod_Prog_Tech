{
 "cells": [
  {
   "cell_type": "markdown",
   "metadata": {},
   "source": [
    "# LEC 10 PYTHON  PEP"
   ]
  },
  {
   "cell_type": "markdown",
   "metadata": {},
   "source": [
    "## CODING CONVENTION"
   ]
  },
  {
   "cell_type": "markdown",
   "metadata": {},
   "source": [
    "### 1. Indention (4 space)"
   ]
  },
  {
   "cell_type": "markdown",
   "metadata": {},
   "source": [
    "####  **1. YES**"
   ]
  },
  {
   "cell_type": "code",
   "execution_count": null,
   "metadata": {},
   "outputs": [],
   "source": [
    "# Добавлено 4 пробела (экстра выравниваение) для выделения \"длинных\" аргументов \n",
    "def long_function_name(\n",
    "        var_one, var_two, var_three,\n",
    "        var_four):\n",
    "    print(var_one)\n",
    "\n",
    "# Выровнивание по  открывающему  разделителю\n",
    "foo = long_function_name(var_one, var_two,\n",
    "                         var_three, var_four)\n",
    "\n",
    "# Добавление 4 пробелов для выделения \"висячих\" аргументов\n",
    "foo = long_function_name(\n",
    "    var_one, var_two,\n",
    "    var_three, var_four)"
   ]
  },
  {
   "cell_type": "markdown",
   "metadata": {},
   "source": [
    "####  **1. NO**"
   ]
  },
  {
   "cell_type": "code",
   "execution_count": null,
   "metadata": {},
   "outputs": [],
   "source": [
    "# Аргументы в первой строке запрещены, если не используется вертикальное выравнивание.\n",
    "foo = long_function_name(var_one, var_two,\n",
    "    var_three, var_four)\n",
    "\n",
    "# Дополнительные отступы необходимы, поскольку отступ не различим.\n",
    "def long_function_name(\n",
    "    var_one, var_two, var_three,\n",
    "    var_four):\n",
    "    print(var_one)\n"
   ]
  },
  {
   "cell_type": "markdown",
   "metadata": {},
   "source": [
    "####  **1. OPTIONAL**"
   ]
  },
  {
   "cell_type": "code",
   "execution_count": null,
   "metadata": {},
   "outputs": [],
   "source": [
    "def Example_1 ():\n",
    "    print('START')\n",
    "    try:\n",
    "        val = int(input('Pls Input Number :'))\n",
    "        tmp = 10/val\n",
    "        print ('10 / Your number = ', tmp)\n",
    "    except ZeroDivisionError:\n",
    "        print ('ZERRO')\n",
    "    print (\"STOP\")        "
   ]
  },
  {
   "cell_type": "markdown",
   "metadata": {},
   "source": [
    "####  **1. ДОПОЛНИТЕЛЬНО**\n",
    "####  IF Длинное условие"
   ]
  },
  {
   "cell_type": "code",
   "execution_count": null,
   "metadata": {},
   "outputs": [],
   "source": [
    "# Добавлем экстра пробелы \n",
    "if (this_is_one_thing\n",
    "        and that_is_another_thing):\n",
    "    do_something()"
   ]
  },
  {
   "cell_type": "markdown",
   "metadata": {},
   "source": [
    "####  Закрывающие скобки "
   ]
  },
  {
   "cell_type": "code",
   "execution_count": null,
   "metadata": {},
   "outputs": [],
   "source": [
    "my_list = [\n",
    "    1, 2, 3,\n",
    "    4, 5, 6,\n",
    "    ]\n",
    "\n",
    "result = some_function_that_takes_arguments(\n",
    "    'a', 'b', 'c',\n",
    "    'd', 'e', 'f',\n",
    "    )\n"
   ]
  },
  {
   "cell_type": "markdown",
   "metadata": {},
   "source": [
    "### 2. ПЕРЕНОС ДЛИННЫХ СТРОК"
   ]
  },
  {
   "cell_type": "code",
   "execution_count": null,
   "metadata": {},
   "outputs": [],
   "source": [
    "with open('/path/to/some/file/you/want/to/read') as file_1, \\\n",
    "     open('/path/to/some/file/being/written', 'w') as file_2:\n",
    "    file_2.write(file_1.read())\n"
   ]
  },
  {
   "cell_type": "markdown",
   "metadata": {},
   "source": [
    "### 3. РАЗРЫВ ДЛИННЫХ СТРОК ДО ИЛИ ПОСЛЕ БИНАРНОЙ ОПЕРАЦИИ"
   ]
  },
  {
   "cell_type": "markdown",
   "metadata": {},
   "source": [
    "####  **3. YES** ТРАДИЦИОННО ДЛЯ МАТЕМАТИКОВ"
   ]
  },
  {
   "cell_type": "code",
   "execution_count": null,
   "metadata": {},
   "outputs": [],
   "source": [
    "# Оператор рядом со своим операндом\n",
    "income = (gross_wages\n",
    "          + taxable_interest\n",
    "          + (dividends - qualified_dividends)\n",
    "          - ira_deduction\n",
    "          - student_loan_interest)\n"
   ]
  },
  {
   "cell_type": "markdown",
   "metadata": {},
   "source": [
    "####  **3. NO** "
   ]
  },
  {
   "cell_type": "code",
   "execution_count": null,
   "metadata": {},
   "outputs": [],
   "source": [
    "# Оператор расположен далеко от совего операнда\n",
    "income = (gross_wages +\n",
    "          taxable_interest +\n",
    "          (dividends - qualified_dividends) -\n",
    "          ira_deduction -\n",
    "          student_loan_interest)\n"
   ]
  },
  {
   "cell_type": "markdown",
   "metadata": {},
   "source": [
    "### 4. ПУСТЫЕ СТРОКИ"
   ]
  },
  {
   "cell_type": "code",
   "execution_count": null,
   "metadata": {},
   "outputs": [],
   "source": [
    "# Отделяйте опеделение классов и глабальные функции  двумя пустыми строками\n",
    "# Отделяйте методы внутри класса дной пустой строкой\n",
    "#\n",
    "# Дополнительные пустые строки должны использоваться \"экономно\" для разделения групп\n",
    "# связанныех функций. \n",
    "# Пустые строки могут быть пропущены между совокуеостью\n",
    "# связанных однострочных функций \n",
    "#\n",
    "# Используйте пустые строки в функциях, экономно, чтобы указать логические разделы."
   ]
  },
  {
   "cell_type": "markdown",
   "metadata": {},
   "source": [
    "### 5. КОДИРОВКА"
   ]
  },
  {
   "cell_type": "code",
   "execution_count": null,
   "metadata": {},
   "outputs": [],
   "source": [
    "# Pyton 2  используется кодировка  ASCII \n",
    "# Pyton 3  используется кодировка  UTF-8\n"
   ]
  },
  {
   "cell_type": "markdown",
   "metadata": {},
   "source": [
    "### 6. ИМПОРТ Каждый импорт на отдельной строке"
   ]
  },
  {
   "cell_type": "markdown",
   "metadata": {},
   "source": [
    "####  **YES**"
   ]
  },
  {
   "cell_type": "code",
   "execution_count": null,
   "metadata": {},
   "outputs": [],
   "source": [
    "import os\n",
    "import sys\n"
   ]
  },
  {
   "cell_type": "markdown",
   "metadata": {},
   "source": [
    "####  **NO**"
   ]
  },
  {
   "cell_type": "code",
   "execution_count": null,
   "metadata": {},
   "outputs": [],
   "source": [
    "import os, sys\n"
   ]
  },
  {
   "cell_type": "code",
   "execution_count": null,
   "metadata": {},
   "outputs": [],
   "source": [
    "# Строки импорта ВСЕГДА должны быть в начале файла\n",
    "# ПОСЛЕ комментариев модуля и строк документации\n",
    "# ДО констант и глобальных имен\n",
    "#\n",
    "# Импорті следует группировать в следующем порядке\n",
    "#  \n",
    "#\n",
    "#  1. Импорт стандартных библиотек \n",
    "#  2. Импорт сторонних библиотек\n",
    "#  3. Импорт локальных библиотек\n",
    "#\n",
    "#  необходимо втавлять пустую строку после каждой группы\n",
    "#\n",
    "# РЕКОМЕНДУЕТСЯ \"абсолютный\" импорт\n",
    "\n",
    "import mypkg.sibling\n",
    "from mypkg import sibling\n",
    "from mypkg.sibling import example\n"
   ]
  },
  {
   "cell_type": "markdown",
   "metadata": {},
   "source": [
    "### 7. Dunder Names “underscore underscore init underscore underscore” \n",
    "### 7. ДУНДЕРЫ"
   ]
  },
  {
   "cell_type": "code",
   "execution_count": null,
   "metadata": {},
   "outputs": [],
   "source": [
    "# \"Dunders\" (то есть имена с двумя ведущими и двумя закрывающимеся подчеркиваниями),\n",
    "# такие как `` __all__``, `` __author__``, `` __version__``,\n",
    "# и т.д. должны быть помещены после строки документации модуля, но перед любым импортом\n",
    "# кроме `` __future__ импорта. \n",
    "# Python обязывает, дабы Будущий импорт появлялся в модуле перед любым другим кодом,\n",
    "# кроме строк документации"
   ]
  },
  {
   "cell_type": "code",
   "execution_count": null,
   "metadata": {},
   "outputs": [],
   "source": [
    "\"\"\"This is the example module.\n",
    "\n",
    "This module does stuff.\n",
    "\"\"\"\n",
    "\n",
    "from __future__ import barry_as_FLUFL\n",
    "\n",
    "    __all__ = ['a', 'b', 'c']\n",
    "    __version__ = '0.1'\n",
    "    __author__ = 'Cardinal Biggles'\n",
    "\n",
    "    import os\n",
    "    import sys\n"
   ]
  },
  {
   "cell_type": "markdown",
   "metadata": {},
   "source": [
    "### 8.  \"ПУСТЫЕ\" (ЛИШНИЕ) ПРОБЕЛЫ\n",
    "#### Необходимо избегать лишние пробелы в следующих ситуациях"
   ]
  },
  {
   "cell_type": "markdown",
   "metadata": {},
   "source": [
    "#### 8.1 Внутри скобок (сразу после открывающей или перед закрывающей"
   ]
  },
  {
   "cell_type": "code",
   "execution_count": null,
   "metadata": {},
   "outputs": [],
   "source": [
    "# YES\n",
    "spam (ham[1], {egss: 2})\n",
    "# NO\n",
    "spam ( ham[ 1 ], { egss: 2 } )\n"
   ]
  },
  {
   "cell_type": "markdown",
   "metadata": {},
   "source": [
    "#### 8.2 Между запятой и закрывающей скобкой"
   ]
  },
  {
   "cell_type": "code",
   "execution_count": null,
   "metadata": {},
   "outputs": [],
   "source": [
    "# YES\n",
    "foo = (0,)\n",
    "# NO\n",
    "foo = (0, )\n"
   ]
  },
  {
   "cell_type": "markdown",
   "metadata": {},
   "source": [
    "#### 8.3 Непосредственно перед запятой, двоеточием, точкой с запятой"
   ]
  },
  {
   "cell_type": "code",
   "execution_count": null,
   "metadata": {},
   "outputs": [],
   "source": [
    "# YES\n",
    "if x == 4: print x, y; x, y = y, x\n",
    "# NO\n",
    "if x == 4 : print x , y ; x , y = y , x\n"
   ]
  },
  {
   "cell_type": "markdown",
   "metadata": {},
   "source": [
    "#### 8.4 Двоеточие в срезах - оператор. Лучше пробелами не выделять"
   ]
  },
  {
   "cell_type": "code",
   "execution_count": null,
   "metadata": {},
   "outputs": [],
   "source": [
    "# YES\n",
    "ham[1:9], ham[1:9:3], ham[:9:3], ham[1::3], ham[1:9:]\n",
    "ham[lower:upper], ham[lower:upper:], ham[lower::step]\n",
    "ham[lower+offset : upper+offset]\n",
    "ham[: upper_fn(x) : step_fn(x)], ham[:: step_fn(x)]\n",
    "ham[lower + offset : upper + offset]\n",
    "\n",
    "# NO\n",
    "ham[lower + offset:upper + offset]\n",
    "ham[1: 9], ham[1 :9], ham[1:9 :3]\n",
    "ham[lower : : upper]\n",
    "ham[ : upper]\n"
   ]
  },
  {
   "cell_type": "markdown",
   "metadata": {},
   "source": [
    "#### 8.5 Перед открывающей скобкой аргументов функции"
   ]
  },
  {
   "cell_type": "code",
   "execution_count": null,
   "metadata": {},
   "outputs": [],
   "source": [
    "#YES\n",
    "spam(1)\n",
    "\n",
    "#NO\n",
    "spam (1)"
   ]
  },
  {
   "cell_type": "markdown",
   "metadata": {},
   "source": [
    "#### 8.6 Перед открывающей скобкой индекса или среза"
   ]
  },
  {
   "cell_type": "code",
   "execution_count": null,
   "metadata": {},
   "outputs": [],
   "source": [
    "#YES\n",
    "dct['key'] = lst[index]\n",
    "\n",
    "#NO\n",
    "dct ['key'] = lst [index]"
   ]
  },
  {
   "cell_type": "markdown",
   "metadata": {},
   "source": [
    "#### 8.7 Более одного пробела вогруг оператора присваивания (для кажущегося выравнивания)"
   ]
  },
  {
   "cell_type": "code",
   "execution_count": null,
   "metadata": {},
   "outputs": [],
   "source": [
    "#YES\n",
    "x = 1\n",
    "y = 2\n",
    "long_variable = 3\n",
    "\n",
    "#NO\n",
    "x             = 1\n",
    "y             = 2\n",
    "long_variable = 3\n"
   ]
  },
  {
   "cell_type": "markdown",
   "metadata": {},
   "source": [
    " ##### ВСЕГДА окружайте ЛЮБЫЕ  бинарные оператор одиночным пробелом с двух строн "
   ]
  },
  {
   "cell_type": "code",
   "execution_count": null,
   "metadata": {},
   "outputs": [],
   "source": [
    "#YES\n",
    "i = i + 1\n",
    "submitted += 1\n",
    "x = x*2 - 1\n",
    "hypot2 = x*x + y*y\n",
    "c = (a+b) * (a-b)\n"
   ]
  },
  {
   "cell_type": "code",
   "execution_count": null,
   "metadata": {},
   "outputs": [],
   "source": [
    "#NO\n",
    "i=i+1\n",
    "submitted +=1\n",
    "x = x * 2 - 1\n",
    "hypot2 = x * x + y * y\n",
    "c = (a + b) * (a - b)\n"
   ]
  },
  {
   "cell_type": "markdown",
   "metadata": {},
   "source": [
    " ##### Избегайте лишних пробелов в любом месте. Потому что это обычно невидимо, \n",
    " ##### и это может сбивать с толку: например, обратная косая черта с последующим пробелом и \n",
    " ##### символ новой строки не считается маркером продолжения строки."
   ]
  },
  {
   "cell_type": "markdown",
   "metadata": {},
   "source": [
    "### 9.  ДОПОЛНИТЕЛЬНО"
   ]
  },
  {
   "cell_type": "markdown",
   "metadata": {},
   "source": [
    " #### Категорически запрещено использовать множество операторов в одной строке"
   ]
  },
  {
   "cell_type": "code",
   "execution_count": null,
   "metadata": {},
   "outputs": [],
   "source": [
    "# YES\n",
    "if foo == 'blah':\n",
    "    do_blah_thing()\n",
    "do_one()\n",
    "do_two()\n",
    "do_three()\n",
    "\n",
    "# NOT DEFINITLY\n",
    "if foo == 'blah': do_blah_thing()\n",
    "do_one(); do_two(); do_three()\n",
    "# NOT DEFINITLY\n",
    "if foo == 'blah': do_blah_thing()\n",
    "else: do_non_blah_thing()\n",
    "# NOT DEFINITLY\n",
    "try: something()\n",
    "finally: cleanup()\n"
   ]
  },
  {
   "cell_type": "markdown",
   "metadata": {},
   "source": [
    "### 10.  КОММЕНТАРИИ"
   ]
  },
  {
   "cell_type": "markdown",
   "metadata": {},
   "source": [
    "#### 10.1  БЛОКИ КОММЕНТАРИЕВ\n",
    "##### Блоки комментариев, как правило, применяются к некоторому (или всему) коду, который следует\n",
    "##### за ним и имеют отступ на том же уровне, что и этот код. \n",
    "##### Каждая строка блока начинается с `` # `` и одного пробела \n",
    "##### Абзацы внутри комментария блока разделяются строкой, содержащей один `` # ``.\n",
    " "
   ]
  },
  {
   "cell_type": "markdown",
   "metadata": {},
   "source": [
    "#### 10.2  ВСТРОЕННЫЙ КОММЕНТАРИЙ\n",
    "##### Встроенный комментарий - это комментарий в той же строке, что и оператор.\n",
    "##### Встроенные комментарии должны быть отделены как минимум двумя пробелами от оператора\n",
    "##### Встроенные комментарии не нужны и на самом деле отвлекают, если они утверждают очевидное.\n",
    " "
   ]
  },
  {
   "cell_type": "code",
   "execution_count": null,
   "metadata": {},
   "outputs": [],
   "source": [
    "# YES\n",
    "x = x + 1                 # Компенсация предела\n",
    "# NO\n",
    "x = x + 1                 # Инкремент x"
   ]
  },
  {
   "cell_type": "markdown",
   "metadata": {},
   "source": [
    "### 11. СТРОКИ ДОКУМЕНТИРОВАНИЯ (SEE PEP 257)"
   ]
  },
  {
   "cell_type": "markdown",
   "metadata": {},
   "source": [
    "##### ГЛАВНОЕ \n",
    "##### `` \"\"\"``, который заканчивает многострочный блок строк документации, должен быть\n",
    "##### на отдельной строке "
   ]
  },
  {
   "cell_type": "code",
   "execution_count": null,
   "metadata": {},
   "outputs": [],
   "source": [
    "\"\"\"Return a foobang\n",
    "Optional plotz says to frobnicate the bizbaz first.\n",
    "\n",
    "\"\"\""
   ]
  },
  {
   "cell_type": "code",
   "execution_count": null,
   "metadata": {},
   "outputs": [],
   "source": []
  }
 ],
 "metadata": {
  "kernelspec": {
   "display_name": "Python 3",
   "language": "python",
   "name": "python3"
  },
  "language_info": {
   "codemirror_mode": {
    "name": "ipython",
    "version": 3
   },
   "file_extension": ".py",
   "mimetype": "text/x-python",
   "name": "python",
   "nbconvert_exporter": "python",
   "pygments_lexer": "ipython3",
   "version": "3.8.5"
  }
 },
 "nbformat": 4,
 "nbformat_minor": 4
}

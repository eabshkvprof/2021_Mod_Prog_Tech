{
 "cells": [
  {
   "cell_type": "markdown",
   "metadata": {},
   "source": [
    "# EXAMPLES LEC 04 PYTHON SET"
   ]
  },
  {
   "cell_type": "code",
   "execution_count": 2,
   "metadata": {},
   "outputs": [],
   "source": [
    "my_set1 = {5, 6, \"7\", 8, '9', 10}\n",
    "my_set2 = set('kgsdfhgfkl')\n",
    "el_tupl = ('це', 'приклад', 'множини', 'фіксованої') # КОРТЕЖ !!!\n",
    "my_set3 = frozenset('123')\n",
    "my_set4 = {'це', 'приклад', 'вкладенї', my_set3, el_tupl} # СОЗДАЕМ ВЛОЖЕННОЕ МНОЖЕСТВО !!!"
   ]
  },
  {
   "cell_type": "markdown",
   "metadata": {},
   "source": [
    "### PRINT  (ПЕЧАТЬ)"
   ]
  },
  {
   "cell_type": "code",
   "execution_count": 3,
   "metadata": {},
   "outputs": [
    {
     "name": "stdout",
     "output_type": "stream",
     "text": [
      "{5, 6, 8, 10, '9', '7'}\n",
      "{'s', 'f', 'k', 'd', 'l', 'h', 'g'}\n",
      "('це', 'приклад', 'множини', 'фіксованої')\n",
      "frozenset({'1', '2', '3'})\n",
      "{'вкладенї', 'це', ('це', 'приклад', 'множини', 'фіксованої'), frozenset({'1', '2', '3'}), 'приклад'}\n"
     ]
    }
   ],
   "source": [
    "# НИКАКОГО ПОРЯДКА  !!!\n",
    "print(my_set1)\n",
    "print(my_set2)\n",
    "print(el_tupl)\n",
    "print(my_set3)\n",
    "print(my_set4)"
   ]
  },
  {
   "cell_type": "markdown",
   "metadata": {},
   "source": [
    "### ОСНОВНЫЕ ОПЕРАЦИИ"
   ]
  },
  {
   "cell_type": "markdown",
   "metadata": {},
   "source": [
    "### LEN (ДЛИНА МНОЖЕСТВА"
   ]
  },
  {
   "cell_type": "code",
   "execution_count": 4,
   "metadata": {},
   "outputs": [
    {
     "name": "stdout",
     "output_type": "stream",
     "text": [
      "МНОЖЕСТВО 1 ИМЕЕТ 6 ЭЛЕМЕНТОВ\n",
      "МНОЖЕСТВО 4 ИМЕЕТ 5 ЭЛЕМЕНТОВ\n"
     ]
    }
   ],
   "source": [
    "print('МНОЖЕСТВО 1 ИМЕЕТ', len(my_set1), 'ЭЛЕМЕНТОВ\\nМНОЖЕСТВО 4 ИМЕЕТ', len(my_set4), 'ЭЛЕМЕНТОВ')"
   ]
  },
  {
   "cell_type": "markdown",
   "metadata": {},
   "source": [
    "### IN (ПРОВЕРКА ПРИНАДЛЕЖНОСТИ)"
   ]
  },
  {
   "cell_type": "code",
   "execution_count": 5,
   "metadata": {},
   "outputs": [
    {
     "name": "stdout",
     "output_type": "stream",
     "text": [
      "True True\n"
     ]
    }
   ],
   "source": [
    "print ('l' in my_set2, '3'in my_set3)"
   ]
  },
  {
   "cell_type": "markdown",
   "metadata": {},
   "source": [
    "### IN in loop FOR"
   ]
  },
  {
   "cell_type": "code",
   "execution_count": 6,
   "metadata": {},
   "outputs": [
    {
     "name": "stdout",
     "output_type": "stream",
     "text": [
      "5\n",
      "6\n",
      "8\n",
      "10\n",
      "9\n",
      "7\n"
     ]
    }
   ],
   "source": [
    "for el in my_set1:\n",
    "    print (el)"
   ]
  },
  {
   "cell_type": "markdown",
   "metadata": {},
   "source": [
    "### METHODS  COPY(), CLEAR(), ADD(), DISCARD(), REMOVE(), POP()"
   ]
  },
  {
   "cell_type": "code",
   "execution_count": 7,
   "metadata": {},
   "outputs": [
    {
     "name": "stdout",
     "output_type": "stream",
     "text": [
      "МНОЖЕСТВО 1 {5, 6, 8, 10, '9', '7'} \n",
      "КОПИЯ 1     {'9', 5, 6, '7', 8, 10}\n",
      "КОПИЯ 1     set()\n",
      "КОПИЯ 2     {'9', (1, 2), 5, 6, '7', 8, 10, 'QQ'}\n",
      "КОПИЯ 3     {'9', (1, 2), 5, 6, '7', 8, 10}\n",
      "КОПИЯ 4     {'9', (1, 2), 5, 6, '7', 8, 10}\n",
      "КОПИЯ 5     {(1, 2), 5, 6, 8, 10, '9', '7'}\n"
     ]
    },
    {
     "ename": "KeyError",
     "evalue": "'QQ'",
     "output_type": "error",
     "traceback": [
      "\u001b[1;31m---------------------------------------------------------------------------\u001b[0m",
      "\u001b[1;31mKeyError\u001b[0m                                  Traceback (most recent call last)",
      "\u001b[1;32m<ipython-input-7-cee9dd557c99>\u001b[0m in \u001b[0;36m<module>\u001b[1;34m\u001b[0m\n\u001b[0;32m     15\u001b[0m \u001b[0mmy_set_2_new\u001b[0m\u001b[1;33m.\u001b[0m\u001b[0mdiscard\u001b[0m\u001b[1;33m(\u001b[0m\u001b[1;34m'QQ'\u001b[0m\u001b[1;33m)\u001b[0m              \u001b[1;31m# УДАЛЯЕМ\u001b[0m\u001b[1;33m\u001b[0m\u001b[1;33m\u001b[0m\u001b[0m\n\u001b[0;32m     16\u001b[0m \u001b[0mprint\u001b[0m\u001b[1;33m(\u001b[0m\u001b[1;34m'КОПИЯ 5    '\u001b[0m\u001b[1;33m,\u001b[0m \u001b[0mmy_set_2_new\u001b[0m\u001b[1;33m)\u001b[0m\u001b[1;33m\u001b[0m\u001b[1;33m\u001b[0m\u001b[0m\n\u001b[1;32m---> 17\u001b[1;33m \u001b[0mmy_set_2_new\u001b[0m\u001b[1;33m.\u001b[0m\u001b[0mremove\u001b[0m\u001b[1;33m(\u001b[0m\u001b[1;34m'QQ'\u001b[0m\u001b[1;33m)\u001b[0m              \u001b[1;31m# УДАЛЯЕМ НЕСУЩЕСТВУЮЩИЙ ЭЛЕМЕНТ  ОШИБКА ПОДНИМАЕТСЯ\u001b[0m\u001b[1;33m\u001b[0m\u001b[1;33m\u001b[0m\u001b[0m\n\u001b[0m\u001b[0;32m     18\u001b[0m \u001b[0mprint\u001b[0m\u001b[1;33m(\u001b[0m\u001b[1;34m'КОПИЯ 6    '\u001b[0m\u001b[1;33m,\u001b[0m \u001b[0mmy_set_2_new\u001b[0m\u001b[1;33m)\u001b[0m\u001b[1;33m\u001b[0m\u001b[1;33m\u001b[0m\u001b[0m\n",
      "\u001b[1;31mKeyError\u001b[0m: 'QQ'"
     ]
    }
   ],
   "source": [
    "my_set_1_new = my_set1.copy() # СОЗДАЕМ КОПИЮ\n",
    "print('МНОЖЕСТВО 1', my_set1, '\\nКОПИЯ 1    ', my_set_1_new)\n",
    "my_set_1_new.clear() # ОЧИЩАЕМ КОПИЮ\n",
    "print('КОПИЯ 1    ', my_set_1_new)\n",
    "\n",
    "my_set_1_new = my_set1.copy() # СНОВА СОЗДАЕМ КОПИЮ\n",
    "my_set_1_new.add((1,2))  # ДОБАВЛЯЕМ\n",
    "my_set_1_new.add('QQ')   # ДОБАВЛЯЕМ\n",
    "print('КОПИЯ 2    ', my_set_1_new)\n",
    "my_set_2_new = my_set_1_new.copy()     # СОЗДАЕМ ВТОРУЮ КОПИЮ\n",
    "my_set_1_new.remove('QQ')              # УДАЛЯЕМ\n",
    "print('КОПИЯ 3    ', my_set_1_new)\n",
    "my_set_1_new.discard('QQ')              # УДАЛЯЕМ НЕСУЩЕСТВУЮЩИЙ ЭЛЕМЕНТ  ОШИБКА не ПОДНИМАЕТСЯ\n",
    "print('КОПИЯ 4    ', my_set_1_new)\n",
    "my_set_2_new.discard('QQ')              # УДАЛЯЕМ\n",
    "print('КОПИЯ 5    ', my_set_2_new)\n",
    "my_set_2_new.remove('QQ')              # УДАЛЯЕМ НЕСУЩЕСТВУЮЩИЙ ЭЛЕМЕНТ  ОШИБКА ПОДНИМАЕТСЯ\n",
    "print('КОПИЯ 6    ', my_set_2_new)"
   ]
  },
  {
   "cell_type": "markdown",
   "metadata": {},
   "source": [
    "### METHODS  POP()"
   ]
  },
  {
   "cell_type": "code",
   "execution_count": 8,
   "metadata": {},
   "outputs": [
    {
     "name": "stdout",
     "output_type": "stream",
     "text": [
      "МНОЖЕСТВО 1 {5, 6, 8, 10, '9', '7'} \n",
      "КОПИЯ 1     {'9', 5, 6, '7', 8, 10}\n",
      "КОПИЯ 2     {5, 6, '7', 8, 10}\n",
      "КОПИЯ 3     {6, '7', 8, 10}\n"
     ]
    }
   ],
   "source": [
    "my_set_1_new = my_set1.copy()\n",
    "print('МНОЖЕСТВО 1', my_set1, '\\nКОПИЯ 1    ', my_set_1_new)\n",
    "element  = my_set_1_new.pop()\n",
    "print('КОПИЯ 2    ', my_set_1_new)\n",
    "element  = my_set_1_new.pop()\n",
    "print('КОПИЯ 3    ', my_set_1_new)"
   ]
  },
  {
   "cell_type": "markdown",
   "metadata": {},
   "source": [
    "### METHODS -->  ВХОЖДЕНИЯ"
   ]
  },
  {
   "cell_type": "code",
   "execution_count": 97,
   "metadata": {},
   "outputs": [
    {
     "name": "stdout",
     "output_type": "stream",
     "text": [
      "SET A {1, 3, 5, 7, 9} \n",
      "SET B {1, 2, 3, 4, 5, 6, 7, 8, 9, 10, 11, 12, 13, 14} \n",
      "\n",
      "SET A ПОДМНОЖЕСТВО SET B ? True\n",
      "SET B ПОДМНОЖЕСТВО SET A ? False \n",
      "\n",
      "SET A НАДМНОЖЕСТВО SET B ? False\n",
      "SET B НАДМНОЖЕСТВО SET A ? True \n",
      "\n",
      "SET A НЕ ИМЕЕТ ЭЛЕМЕНТОВ SET B  ? False\n",
      "SET B НЕ ИМЕЕТ ЭЛЕМЕНТОВ SET A  ? False \n",
      "\n"
     ]
    }
   ],
   "source": [
    "tupl_1 = tuple(range(1, 11, 2))\n",
    "tupl_2 = tuple(range(1, 15, 1))\n",
    "set_A = set(tupl_1)\n",
    "set_B = set(tupl_2)\n",
    "print('SET A', set_A, '\\nSET B', set_B,'\\n')\n",
    "\n",
    "print ('SET A ПОДМНОЖЕСТВО SET B ?', set_A.issubset(set_B))\n",
    "print ('SET B ПОДМНОЖЕСТВО SET A ?', set_B.issubset(set_A),'\\n')\n",
    "\n",
    "print ('SET A НАДМНОЖЕСТВО SET B ?', set_A.issuperset(set_B))\n",
    "print ('SET B НАДМНОЖЕСТВО SET A ?', set_B.issuperset(set_A),'\\n')\n",
    "\n",
    "\n",
    "print ('SET A НЕ ИМЕЕТ ЭЛЕМЕНТОВ SET B  ?', set_A.isdisjoint(set_B))\n",
    "print ('SET B НЕ ИМЕЕТ ЭЛЕМЕНТОВ SET A  ?', set_B.isdisjoint(set_A),'\\n')"
   ]
  },
  {
   "cell_type": "markdown",
   "metadata": {},
   "source": [
    "### METHODS --> ОПЕРАЦИИ с МНОЖЕСТВАМИ"
   ]
  },
  {
   "cell_type": "code",
   "execution_count": 106,
   "metadata": {},
   "outputs": [
    {
     "name": "stdout",
     "output_type": "stream",
     "text": [
      "SET A {1, 3, 5, 7, 9} \n",
      "SET B {1, 2, 3, 4, 5, 6, 7, 8, 9, 10, 11, 12, 13, 14} \n",
      "\n",
      "SET A & SET B {1, 3, 5, 7, 9} \n",
      "\n",
      "SET A | SET B {1, 2, 3, 4, 5, 6, 7, 8, 9, 10, 11, 12, 13, 14} \n",
      "\n",
      "SET A ^ SET B set() \n",
      "\n",
      "SET A Sym Diff SET B {2, 4, 6, 8, 10, 11, 12, 13, 14} \n",
      "\n"
     ]
    }
   ],
   "source": [
    "tupl_1 = tuple(range(1, 11, 2))\n",
    "tupl_2 = tuple(range(1, 15, 1))\n",
    "set_A = set(tupl_1)\n",
    "set_B = set(tupl_2)\n",
    "print('SET A', set_A, '\\nSET B', set_B,'\\n')\n",
    "\n",
    "set_С = set_A.intersection(set_B)\n",
    "print('SET A & SET B', set_С , '\\n')\n",
    "\n",
    "set_С = set_A.union(set_B)\n",
    "print('SET A | SET B', set_С , '\\n')\n",
    "\n",
    "set_С = set_A.difference(set_B)\n",
    "print('SET A ^ SET B', set_С , '\\n')\n",
    "\n",
    "set_С = set_A.symmetric_difference(set_B)\n",
    "print('SET A Sym Diff SET B', set_С , '\\n')\n"
   ]
  },
  {
   "cell_type": "code",
   "execution_count": null,
   "metadata": {},
   "outputs": [],
   "source": []
  }
 ],
 "metadata": {
  "kernelspec": {
   "display_name": "Python 3",
   "language": "python",
   "name": "python3"
  },
  "language_info": {
   "codemirror_mode": {
    "name": "ipython",
    "version": 3
   },
   "file_extension": ".py",
   "mimetype": "text/x-python",
   "name": "python",
   "nbconvert_exporter": "python",
   "pygments_lexer": "ipython3",
   "version": "3.8.5"
  }
 },
 "nbformat": 4,
 "nbformat_minor": 4
}

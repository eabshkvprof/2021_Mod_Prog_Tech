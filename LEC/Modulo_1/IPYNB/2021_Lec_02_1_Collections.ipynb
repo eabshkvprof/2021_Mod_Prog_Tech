{
 "cells": [
  {
   "cell_type": "markdown",
   "metadata": {},
   "source": [
    "#  LEC 02  (1)  COLLECTION'S"
   ]
  },
  {
   "cell_type": "code",
   "execution_count": 1,
   "metadata": {},
   "outputs": [],
   "source": [
    "my_string = 'This is string _example'\n",
    "my_list = ['a','b','c','d','e','f','g','h','l']\n",
    "my_dict = {'a':1,'b':2,'c':3,'e':5,'f':'x','g':131,'y':'my_string','q':my_string}"
   ]
  },
  {
   "cell_type": "markdown",
   "metadata": {},
   "source": [
    "## COMMON FUNCTIONS"
   ]
  },
  {
   "cell_type": "markdown",
   "metadata": {},
   "source": [
    "### TYPE (ТИП ПЕРЕМЕННОЙ)"
   ]
  },
  {
   "cell_type": "code",
   "execution_count": 2,
   "metadata": {},
   "outputs": [
    {
     "data": {
      "text/plain": [
       "str"
      ]
     },
     "execution_count": 2,
     "metadata": {},
     "output_type": "execute_result"
    }
   ],
   "source": [
    "type(my_string)"
   ]
  },
  {
   "cell_type": "code",
   "execution_count": 3,
   "metadata": {},
   "outputs": [
    {
     "data": {
      "text/plain": [
       "list"
      ]
     },
     "execution_count": 3,
     "metadata": {},
     "output_type": "execute_result"
    }
   ],
   "source": [
    "type(my_list)"
   ]
  },
  {
   "cell_type": "code",
   "execution_count": 4,
   "metadata": {},
   "outputs": [
    {
     "data": {
      "text/plain": [
       "dict"
      ]
     },
     "execution_count": 4,
     "metadata": {},
     "output_type": "execute_result"
    }
   ],
   "source": [
    "type(my_dict)"
   ]
  },
  {
   "cell_type": "markdown",
   "metadata": {},
   "source": [
    "### PRINT  (ПЕЧАТЬ)"
   ]
  },
  {
   "cell_type": "code",
   "execution_count": 5,
   "metadata": {},
   "outputs": [
    {
     "name": "stdout",
     "output_type": "stream",
     "text": [
      "This is string _example\n",
      "['a', 'b', 'c', 'd', 'e', 'f', 'g', 'h', 'l']\n",
      "{'a': 1, 'b': 2, 'c': 3, 'e': 5, 'f': 'x', 'g': 131, 'y': 'my_string', 'q': 'This is string _example'}\n"
     ]
    }
   ],
   "source": [
    "print(my_string)\n",
    "print(my_list)\n",
    "print(my_dict)"
   ]
  },
  {
   "cell_type": "markdown",
   "metadata": {},
   "source": [
    "### LEN (КОЛИЧЕСТВО ЧЛЕНОВ КОЛЛЕКЦИИ)"
   ]
  },
  {
   "cell_type": "code",
   "execution_count": 6,
   "metadata": {},
   "outputs": [
    {
     "name": "stdout",
     "output_type": "stream",
     "text": [
      "23\n",
      "9\n",
      "8\n"
     ]
    }
   ],
   "source": [
    "print(len(my_string))\n",
    "print(len(my_list))\n",
    "print(len(my_dict))"
   ]
  },
  {
   "cell_type": "markdown",
   "metadata": {},
   "source": [
    "### IN (ПРОВЕРКА ПРИНАДЛЕЖНОСТИ)\n",
    "#### ***X IN S***  возвращает ***True***    если элемент ***X***   входит в коллекцию ***S***  \n",
    "#### иначе  возвращает    ***False***\n"
   ]
  },
  {
   "cell_type": "code",
   "execution_count": 7,
   "metadata": {},
   "outputs": [
    {
     "name": "stdout",
     "output_type": "stream",
     "text": [
      "True False\n",
      "True False\n",
      "True False\n",
      "False\n",
      "True\n"
     ]
    }
   ],
   "source": [
    "print ('a' in my_string, 'z'in my_string )\n",
    "print ('a' in my_list, 'z' in my_list)\n",
    "print ('a' in my_dict, 'z' in my_dict)\n",
    "print ('x' in my_dict.keys())\n",
    "print ('x' in my_dict.values())"
   ]
  },
  {
   "cell_type": "markdown",
   "metadata": {},
   "source": [
    "### IN in loop FOR"
   ]
  },
  {
   "cell_type": "code",
   "execution_count": 8,
   "metadata": {},
   "outputs": [
    {
     "name": "stdout",
     "output_type": "stream",
     "text": [
      "a\n",
      "b\n",
      "c\n",
      "d\n",
      "e\n",
      "f\n",
      "g\n",
      "h\n",
      "l\n"
     ]
    }
   ],
   "source": [
    "for el in my_list:\n",
    "    print (el)"
   ]
  },
  {
   "cell_type": "code",
   "execution_count": 10,
   "metadata": {},
   "outputs": [
    {
     "name": "stdout",
     "output_type": "stream",
     "text": [
      "KEY  a VALUE  1\n",
      "KEY  b VALUE  2\n",
      "KEY  c VALUE  3\n",
      "KEY  e VALUE  5\n",
      "KEY  f VALUE  x\n",
      "KEY  g VALUE  131\n",
      "KEY  y VALUE  my_string\n",
      "KEY  q VALUE  This is string _example\n"
     ]
    }
   ],
   "source": [
    "for el in my_dict:\n",
    "    print ('KEY ', el, 'VALUE ', my_dict[el])"
   ]
  },
  {
   "cell_type": "markdown",
   "metadata": {},
   "source": [
    "### MIN() , MAX(), SUM()"
   ]
  },
  {
   "cell_type": "code",
   "execution_count": 11,
   "metadata": {},
   "outputs": [
    {
     "name": "stdout",
     "output_type": "stream",
     "text": [
      "  x\n",
      "a l\n",
      "a y\n"
     ]
    }
   ],
   "source": [
    "print (min(my_string), max(my_string))\n",
    "print (min(my_list), max(my_list))\n",
    "print (min(my_dict), max(my_dict))"
   ]
  },
  {
   "cell_type": "code",
   "execution_count": 13,
   "metadata": {},
   "outputs": [
    {
     "name": "stdout",
     "output_type": "stream",
     "text": [
      "[23, -15, 84, 125.34, -15, 45.3, -9]\n",
      "7\n",
      "True False\n"
     ]
    }
   ],
   "source": [
    "my_num_list = [23,-15 ,84 ,125.34 ,-15 , 45.3 , -9]\n",
    "print(my_num_list)\n",
    "print(len(my_num_list))\n",
    "print(-15 in my_num_list, 15 in my_num_list)"
   ]
  },
  {
   "cell_type": "code",
   "execution_count": 14,
   "metadata": {},
   "outputs": [
    {
     "name": "stdout",
     "output_type": "stream",
     "text": [
      "-15 125.34 238.64\n"
     ]
    }
   ],
   "source": [
    "print (min(my_num_list), max(my_num_list), sum(my_num_list))"
   ]
  },
  {
   "cell_type": "markdown",
   "metadata": {},
   "source": [
    "### METHODS -->  .COUNT() ,   .INDEX(),    .COPY(),     .CLEAR()"
   ]
  },
  {
   "cell_type": "code",
   "execution_count": 15,
   "metadata": {},
   "outputs": [
    {
     "name": "stdout",
     "output_type": "stream",
     "text": [
      "2 0\n"
     ]
    }
   ],
   "source": [
    "print(my_num_list.count(-15),my_num_list.count(15))"
   ]
  },
  {
   "cell_type": "code",
   "execution_count": 18,
   "metadata": {},
   "outputs": [
    {
     "name": "stdout",
     "output_type": "stream",
     "text": [
      "1 2\n"
     ]
    }
   ],
   "source": [
    "print(my_num_list.index(-15),my_num_list.index(84))"
   ]
  },
  {
   "cell_type": "code",
   "execution_count": 19,
   "metadata": {},
   "outputs": [],
   "source": [
    "my_num_list_new = my_num_list.copy()"
   ]
  },
  {
   "cell_type": "code",
   "execution_count": 20,
   "metadata": {},
   "outputs": [
    {
     "name": "stdout",
     "output_type": "stream",
     "text": [
      "[23, -15, 84, 125.34, -15, 45.3, -9]\n"
     ]
    }
   ],
   "source": [
    "print(my_num_list_new)"
   ]
  },
  {
   "cell_type": "code",
   "execution_count": 21,
   "metadata": {},
   "outputs": [],
   "source": [
    "my_num_list.clear()"
   ]
  },
  {
   "cell_type": "code",
   "execution_count": 22,
   "metadata": {},
   "outputs": [
    {
     "name": "stdout",
     "output_type": "stream",
     "text": [
      "[]\n",
      "[23, -15, 84, 125.34, -15, 45.3, -9]\n"
     ]
    }
   ],
   "source": [
    "print(my_num_list)\n",
    "print(my_num_list_new)"
   ]
  },
  {
   "cell_type": "markdown",
   "metadata": {},
   "source": [
    "## SLICE"
   ]
  },
  {
   "cell_type": "code",
   "execution_count": 23,
   "metadata": {},
   "outputs": [
    {
     "name": "stdout",
     "output_type": "stream",
     "text": [
      "['A', 'B', 'C', 'D', 'E', 'F', 'G', 'H', 'L']\n"
     ]
    }
   ],
   "source": [
    "my_list_ = ['A','B','C','D','E','F','G','H','L']\n",
    "print (my_list_)\n"
   ]
  },
  {
   "cell_type": "code",
   "execution_count": 24,
   "metadata": {},
   "outputs": [
    {
     "name": "stdout",
     "output_type": "stream",
     "text": [
      "['A', 'B', 'C', 'D', 'E', 'F', 'G', 'H', 'L']\n"
     ]
    }
   ],
   "source": [
    "print(my_list_[:])"
   ]
  },
  {
   "cell_type": "code",
   "execution_count": 25,
   "metadata": {},
   "outputs": [
    {
     "name": "stdout",
     "output_type": "stream",
     "text": [
      "['L', 'H', 'G', 'F', 'E', 'D', 'C', 'B', 'A']\n"
     ]
    }
   ],
   "source": [
    "print(my_list_[::-1])"
   ]
  },
  {
   "cell_type": "code",
   "execution_count": 26,
   "metadata": {},
   "outputs": [
    {
     "name": "stdout",
     "output_type": "stream",
     "text": [
      "['A', 'C', 'E', 'G', 'L']\n"
     ]
    }
   ],
   "source": [
    "print(my_list_[::2])"
   ]
  },
  {
   "cell_type": "code",
   "execution_count": 27,
   "metadata": {},
   "outputs": [
    {
     "name": "stdout",
     "output_type": "stream",
     "text": [
      "['B', 'D', 'F', 'H']\n"
     ]
    }
   ],
   "source": [
    "print(my_list_[1::2])"
   ]
  },
  {
   "cell_type": "code",
   "execution_count": 28,
   "metadata": {},
   "outputs": [
    {
     "name": "stdout",
     "output_type": "stream",
     "text": [
      "['A']\n"
     ]
    }
   ],
   "source": [
    "print(my_list_[:1])"
   ]
  },
  {
   "cell_type": "code",
   "execution_count": 29,
   "metadata": {},
   "outputs": [
    {
     "name": "stdout",
     "output_type": "stream",
     "text": [
      "['L']\n"
     ]
    }
   ],
   "source": [
    "print(my_list_[-1:])"
   ]
  },
  {
   "cell_type": "code",
   "execution_count": 30,
   "metadata": {},
   "outputs": [
    {
     "name": "stdout",
     "output_type": "stream",
     "text": [
      "['D']\n"
     ]
    }
   ],
   "source": [
    "print(my_list_[3:4])"
   ]
  },
  {
   "cell_type": "code",
   "execution_count": 31,
   "metadata": {},
   "outputs": [
    {
     "name": "stdout",
     "output_type": "stream",
     "text": [
      "['G', 'H', 'L']\n"
     ]
    }
   ],
   "source": [
    "print(my_list_[-3:])"
   ]
  },
  {
   "cell_type": "code",
   "execution_count": 32,
   "metadata": {},
   "outputs": [
    {
     "name": "stdout",
     "output_type": "stream",
     "text": [
      "['G', 'F', 'E', 'D', 'C']\n"
     ]
    }
   ],
   "source": [
    "print(my_list_[-3:1:-1])"
   ]
  },
  {
   "cell_type": "code",
   "execution_count": 33,
   "metadata": {},
   "outputs": [
    {
     "name": "stdout",
     "output_type": "stream",
     "text": [
      "['C', 'D', 'E']\n"
     ]
    }
   ],
   "source": [
    "print(my_list_[2:5])"
   ]
  },
  {
   "cell_type": "code",
   "execution_count": null,
   "metadata": {},
   "outputs": [],
   "source": []
  },
  {
   "cell_type": "code",
   "execution_count": null,
   "metadata": {},
   "outputs": [],
   "source": []
  }
 ],
 "metadata": {
  "kernelspec": {
   "display_name": "Python 3",
   "language": "python",
   "name": "python3"
  },
  "language_info": {
   "codemirror_mode": {
    "name": "ipython",
    "version": 3
   },
   "file_extension": ".py",
   "mimetype": "text/x-python",
   "name": "python",
   "nbconvert_exporter": "python",
   "pygments_lexer": "ipython3",
   "version": "3.8.5"
  }
 },
 "nbformat": 4,
 "nbformat_minor": 4
}

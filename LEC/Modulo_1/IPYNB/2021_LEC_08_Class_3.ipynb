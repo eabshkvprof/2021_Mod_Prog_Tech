{
 "cells": [
  {
   "cell_type": "markdown",
   "metadata": {},
   "source": [
    "# LEC 08 PYTHON CLASS 1  (Example 3)"
   ]
  },
  {
   "cell_type": "markdown",
   "metadata": {},
   "source": [
    "### ОПРЕДЕЛЯЕМ КЛАСС"
   ]
  },
  {
   "cell_type": "code",
   "execution_count": 1,
   "metadata": {},
   "outputs": [],
   "source": [
    "class MixedData :                # ОПРЕДЕЛЯЕМ КЛАСС\n",
    "    data = 'STRING'              # ОПРЕДЕЛЯЕМ АТРИБУТ КЛАССА И ПРИСВАИВАЕМ\n",
    "    \n",
    "    def __init__(self, value):   # КОНСТРУКТОР\n",
    "        self.data = value        # ПРИСВОЕНИЕ АТРИБУТУ ЭКЗЕМПЛЯРА\n",
    "    \n",
    "    def dispout(self):           # ВЫВОД\n",
    "        print (self.data, MixedData.data) # !!! АТРИБУТ ЭКЗЕМПЛЯРА, АТРИБУТ КЛАССА"
   ]
  },
  {
   "cell_type": "markdown",
   "metadata": {},
   "source": [
    "### СОЗДАЕМ ДВА ЭКЗЕМПЛЯРА"
   ]
  },
  {
   "cell_type": "code",
   "execution_count": 2,
   "metadata": {},
   "outputs": [],
   "source": [
    "x = MixedData ('FІRST')\n",
    "y = MixedData (2)"
   ]
  },
  {
   "cell_type": "code",
   "execution_count": 3,
   "metadata": {},
   "outputs": [
    {
     "name": "stdout",
     "output_type": "stream",
     "text": [
      "FІRST STRING\n"
     ]
    }
   ],
   "source": [
    "x.dispout()  # ПРИ ВЫВОДЕ  _АТРИБУТ ЭКЗЕМПЛЯРА_ = FIRST  _АТРИБУТ КЛАССА_ = STRING"
   ]
  },
  {
   "cell_type": "code",
   "execution_count": 4,
   "metadata": {},
   "outputs": [
    {
     "name": "stdout",
     "output_type": "stream",
     "text": [
      "2 STRING\n"
     ]
    }
   ],
   "source": [
    "y.dispout() # # ПРИ ВЫВОДЕ  _АТРИБУТ ЭКЗЕМПЛЯРА_= 2  _АТРИБУТ КЛАССА_ = STRING"
   ]
  },
  {
   "cell_type": "code",
   "execution_count": null,
   "metadata": {},
   "outputs": [],
   "source": []
  },
  {
   "cell_type": "code",
   "execution_count": null,
   "metadata": {},
   "outputs": [],
   "source": []
  }
 ],
 "metadata": {
  "kernelspec": {
   "display_name": "Python 3",
   "language": "python",
   "name": "python3"
  },
  "language_info": {
   "codemirror_mode": {
    "name": "ipython",
    "version": 3
   },
   "file_extension": ".py",
   "mimetype": "text/x-python",
   "name": "python",
   "nbconvert_exporter": "python",
   "pygments_lexer": "ipython3",
   "version": "3.8.5"
  }
 },
 "nbformat": 4,
 "nbformat_minor": 4
}

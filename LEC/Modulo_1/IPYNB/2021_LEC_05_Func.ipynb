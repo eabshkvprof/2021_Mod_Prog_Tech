{
 "cells": [
  {
   "cell_type": "markdown",
   "metadata": {},
   "source": [
    "# EXAMPLES LEC 05 PYTHON FUNCTION 01"
   ]
  },
  {
   "cell_type": "markdown",
   "metadata": {},
   "source": [
    "## ОПРЕДЕЛЕНИЕ ФУНКЦИИ. ПОЛИМОРФИЗМ"
   ]
  },
  {
   "cell_type": "code",
   "execution_count": 3,
   "metadata": {},
   "outputs": [
    {
     "name": "stdout",
     "output_type": "stream",
     "text": [
      "50\n",
      "ПолиморфизмПолиморфизм\n"
     ]
    }
   ],
   "source": [
    "def my_func(a):\n",
    "    return a+a\n",
    "x  = 25\n",
    "print(my_func(x))\n",
    "y = 'Полиморфизм'\n",
    "print(my_func(y))"
   ]
  },
  {
   "cell_type": "markdown",
   "metadata": {},
   "source": [
    "## DEF  В ИНСТРУКЦИИ"
   ]
  },
  {
   "cell_type": "code",
   "execution_count": 7,
   "metadata": {},
   "outputs": [
    {
     "name": "stdout",
     "output_type": "stream",
     "text": [
      "75\n",
      "*XXX_*XXX_*XXX_\n"
     ]
    }
   ],
   "source": [
    "test = False\n",
    "if test :\n",
    "    def my_func(a,b):\n",
    "        return a+b\n",
    "else :\n",
    "    def my_func(a,b):\n",
    "        return a*b\n",
    "x  = 25\n",
    "y = 3\n",
    "print(my_func(x,y))\n",
    "x = '*XXX_'\n",
    "print(my_func(x,y))"
   ]
  },
  {
   "cell_type": "markdown",
   "metadata": {},
   "source": [
    "## ПОЛИМОРФИЗМ"
   ]
  },
  {
   "cell_type": "code",
   "execution_count": 8,
   "metadata": {},
   "outputs": [
    {
     "name": "stdout",
     "output_type": "stream",
     "text": [
      "6\n",
      "QQQQQQQQQ\n"
     ]
    }
   ],
   "source": [
    "def poly_funk (x,y):\n",
    "    return x*y\n",
    "    \n",
    "a = 2\n",
    "b = 3\n",
    "print (poly_funk (a,b))\n",
    "\n",
    "str1 = 'QQQ'\n",
    "print (poly_funk (str1,b))\n",
    "\n",
    "\n"
   ]
  },
  {
   "cell_type": "markdown",
   "metadata": {},
   "source": [
    "## ПОЛИМОРФИЗМ (ПЕРЕСЕЧЕНИЕ)"
   ]
  },
  {
   "cell_type": "code",
   "execution_count": 10,
   "metadata": {},
   "outputs": [],
   "source": [
    "def intersec (seq1,seq2):\n",
    "    res = []\n",
    "    for x in seq1:\n",
    "        if x in seq2:\n",
    "            res.append(x)\n",
    "    return res"
   ]
  },
  {
   "cell_type": "code",
   "execution_count": 11,
   "metadata": {},
   "outputs": [
    {
     "name": "stdout",
     "output_type": "stream",
     "text": [
      "['y', 'w', 'w']\n"
     ]
    }
   ],
   "source": [
    "# СТРОКИ\n",
    "# strings\n",
    "a = 'ueywrtwue'\n",
    "b = 'nydbvwmnz'\n",
    "print (intersec(a,b))"
   ]
  },
  {
   "cell_type": "code",
   "execution_count": 12,
   "metadata": {},
   "outputs": [
    {
     "name": "stdout",
     "output_type": "stream",
     "text": [
      "[1, 4]\n"
     ]
    }
   ],
   "source": [
    "# СПИСКИ и КОРТЕЖИ\n",
    "# list & tuple\n",
    "c = [1,2,3,4]\n",
    "d = (1,4,5)\n",
    "print (intersec(c,d))"
   ]
  },
  {
   "cell_type": "code",
   "execution_count": 13,
   "metadata": {},
   "outputs": [
    {
     "name": "stdout",
     "output_type": "stream",
     "text": [
      "[18]\n"
     ]
    }
   ],
   "source": [
    "# МНОЖЕСТВА\n",
    "# sets\n",
    "e = {1,45,18,31}\n",
    "g = {18, 22,35}\n",
    "print (intersec(e,g))"
   ]
  },
  {
   "cell_type": "markdown",
   "metadata": {},
   "source": [
    "### ОБЛАСТИ ВИДИМОСТИ (LOCAL - GLOBAL)"
   ]
  },
  {
   "cell_type": "code",
   "execution_count": 14,
   "metadata": {},
   "outputs": [
    {
     "name": "stdout",
     "output_type": "stream",
     "text": [
      "101\n",
      "100\n"
     ]
    }
   ],
   "source": [
    "X = 100\n",
    "def func(Y):\n",
    "    #global X \n",
    "    #X=200\n",
    "    Z=X+Y\n",
    "    return Z\n",
    "print (func(1))\n",
    "print (X)"
   ]
  },
  {
   "cell_type": "markdown",
   "metadata": {},
   "source": [
    "### ОБЛАСТИ ВИДИМОСТИ (LOCAL - NONLOCAL)"
   ]
  },
  {
   "cell_type": "code",
   "execution_count": 15,
   "metadata": {},
   "outputs": [
    {
     "name": "stdout",
     "output_type": "stream",
     "text": [
      "H in fun 2\n",
      "H in func 2\n",
      "450\n"
     ]
    }
   ],
   "source": [
    "X = 100\n",
    "def func(Y):\n",
    "    X = 200\n",
    "    H = 3\n",
    "\n",
    "    def fun(Z1):\n",
    "        nonlocal H\n",
    "        H = 2\n",
    "        print('H in fun', H)\n",
    "        return Z1*H\n",
    "    \n",
    "    res = fun(X+Y)\n",
    "    print('H in func', H)\n",
    "    return res   \n",
    "\n",
    "print (func(25))"
   ]
  },
  {
   "cell_type": "markdown",
   "metadata": {},
   "source": [
    "### НЕИЗМЕНЯЕМЫЕ и ИЗМЕНЯЕМЫЕ АРГУМЕНТЫ"
   ]
  },
  {
   "cell_type": "code",
   "execution_count": 24,
   "metadata": {},
   "outputs": [
    {
     "name": "stdout",
     "output_type": "stream",
     "text": [
      "До    вызова функции ARG  Z =  [25, 35, 45] ARG  H =  2\n",
      "В функции        X  in func  ['gf', 35, 45] Y  in func  2\n",
      "Функция возвращает  (['gf', 35, 45], 2)\n",
      "После вызова функции ARG  Z =  ['gf', 35, 45] ARG  H =  2\n"
     ]
    }
   ],
   "source": [
    "def test_func(X,Y):\n",
    "    X[0] = 'gf'   #  ИЗМЕНЯЕМЫЙ АРГУМЕНТ\n",
    "    #X = ['dgsf','rt','rt']  #  ЭТО НОВИЙ ОБЪЕКТ - НЕ ИЗМЕНЯЕТ\n",
    "    print ('В функции        X  in func ', X, 'Y  in func ', Y)\n",
    "    return X,Y\n",
    "    \n",
    "# Z = 25   ##  ПРИ ВЫЗОВЕ ВОЗНИКАЕТ ОШИБКА\n",
    "Z = [25,35,45]   ## ИЗМЕНЯЕТСЯ !! ПРИ ВЫЗОВЕ ОШИБКА НЕ ВОЗНИКАЕТ\n",
    "# Z = (25,35,45) ## НЕ ИЗМЕНЯЕТСЯ !! ПРИ ВЫЗОВЕ ВОЗНИКАЕТ ОШИБКА\n",
    "H = 2\n",
    "print ('До    вызова функции ARG  Z = ', Z, 'ARG  H = ', H)\n",
    "print ('Функция возвращает ', test_func(Z,H))\n",
    "print ('После вызова функции ARG  Z = ', Z, 'ARG  H = ', H)\n",
    "       "
   ]
  },
  {
   "cell_type": "markdown",
   "metadata": {},
   "source": [
    "###  АРГУМЕНТЫ по УМОЛЧАНИЮ"
   ]
  },
  {
   "cell_type": "code",
   "execution_count": 31,
   "metadata": {},
   "outputs": [
    {
     "name": "stdout",
     "output_type": "stream",
     "text": [
      "До определения функции i = 5\n",
      "Переопределяем i = 25\n",
      "Вызов без указания аргумента\n",
      "5\n",
      "Вызов С указанием аргумента\n",
      "31\n"
     ]
    }
   ],
   "source": [
    "i=5\n",
    "print('До определения функции i =',i)\n",
    "def fs(arg=i):\n",
    "    print(arg)\n",
    "\n",
    "i =25\n",
    "print('Переопределяем i =',i)\n",
    "# Вызов без указания аргумента\n",
    "print('Вызов без указания аргумента')\n",
    "fs()\n",
    "# Вызов с указания аргумента\n",
    "print('Вызов С указанием аргумента')\n",
    "fs(31)"
   ]
  },
  {
   "cell_type": "code",
   "execution_count": 33,
   "metadata": {},
   "outputs": [],
   "source": [
    "def ask_ok(prompt, retries=4, complaint='Yes or no, please!'):\n",
    "    while True:\n",
    "        print(complaint)\n",
    "        ok = input(prompt)\n",
    "        if ok in ('y', 'yeah', 'yes', 'yep'): return True\n",
    "        if ok in ('n', 'no', 'nop', 'nope'): return False\n",
    "        retries = retries - 1\n",
    "        if retries < 0:\n",
    "            raise IOError('USER REFUSE')\n",
    "        "
   ]
  },
  {
   "cell_type": "code",
   "execution_count": 34,
   "metadata": {},
   "outputs": [
    {
     "name": "stdout",
     "output_type": "stream",
     "text": [
      "Yes or no, please!\n",
      "Do you really want to quit?т\n",
      "Yes or no, please!\n",
      "Do you really want to quit?n\n"
     ]
    },
    {
     "data": {
      "text/plain": [
       "False"
      ]
     },
     "execution_count": 34,
     "metadata": {},
     "output_type": "execute_result"
    }
   ],
   "source": [
    "ask_ok('Do you really want to quit?')"
   ]
  },
  {
   "cell_type": "code",
   "execution_count": 17,
   "metadata": {},
   "outputs": [
    {
     "name": "stdout",
     "output_type": "stream",
     "text": [
      "Yes or no, please!\n"
     ]
    },
    {
     "name": "stdin",
     "output_type": "stream",
     "text": [
      "Rewrite File? we\n"
     ]
    },
    {
     "name": "stdout",
     "output_type": "stream",
     "text": [
      "Yes or no, please!\n"
     ]
    },
    {
     "name": "stdin",
     "output_type": "stream",
     "text": [
      "Rewrite File? wet\n"
     ]
    },
    {
     "name": "stdout",
     "output_type": "stream",
     "text": [
      "Yes or no, please!\n"
     ]
    },
    {
     "name": "stdin",
     "output_type": "stream",
     "text": [
      "Rewrite File? weetwqe\n"
     ]
    },
    {
     "ename": "OSError",
     "evalue": "refusenik user",
     "output_type": "error",
     "traceback": [
      "\u001b[1;31m---------------------------------------------------------------------------\u001b[0m",
      "\u001b[1;31mOSError\u001b[0m                                   Traceback (most recent call last)",
      "\u001b[1;32m<ipython-input-17-ccde9baf612a>\u001b[0m in \u001b[0;36m<module>\u001b[1;34m\u001b[0m\n\u001b[1;32m----> 1\u001b[1;33m \u001b[0mask_ok\u001b[0m\u001b[1;33m(\u001b[0m\u001b[1;34m'Rewrite File?'\u001b[0m\u001b[1;33m,\u001b[0m\u001b[1;36m2\u001b[0m\u001b[1;33m)\u001b[0m\u001b[1;33m\u001b[0m\u001b[1;33m\u001b[0m\u001b[0m\n\u001b[0m",
      "\u001b[1;32m<ipython-input-14-dec868f8785a>\u001b[0m in \u001b[0;36mask_ok\u001b[1;34m(prompt, retries, complaint)\u001b[0m\n\u001b[0;32m      7\u001b[0m         \u001b[0mretries\u001b[0m \u001b[1;33m=\u001b[0m \u001b[0mretries\u001b[0m \u001b[1;33m-\u001b[0m \u001b[1;36m1\u001b[0m\u001b[1;33m\u001b[0m\u001b[1;33m\u001b[0m\u001b[0m\n\u001b[0;32m      8\u001b[0m         \u001b[1;32mif\u001b[0m \u001b[0mretries\u001b[0m \u001b[1;33m<\u001b[0m \u001b[1;36m0\u001b[0m\u001b[1;33m:\u001b[0m\u001b[1;33m\u001b[0m\u001b[1;33m\u001b[0m\u001b[0m\n\u001b[1;32m----> 9\u001b[1;33m             \u001b[1;32mraise\u001b[0m \u001b[0mIOError\u001b[0m\u001b[1;33m(\u001b[0m\u001b[1;34m'refusenik user'\u001b[0m\u001b[1;33m)\u001b[0m\u001b[1;33m\u001b[0m\u001b[1;33m\u001b[0m\u001b[0m\n\u001b[0m\u001b[0;32m     10\u001b[0m \u001b[1;33m\u001b[0m\u001b[0m\n",
      "\u001b[1;31mOSError\u001b[0m: refusenik user"
     ]
    }
   ],
   "source": [
    "ask_ok('Rewrite File?',2)"
   ]
  },
  {
   "cell_type": "code",
   "execution_count": null,
   "metadata": {},
   "outputs": [],
   "source": []
  }
 ],
 "metadata": {
  "kernelspec": {
   "display_name": "Python 3",
   "language": "python",
   "name": "python3"
  },
  "language_info": {
   "codemirror_mode": {
    "name": "ipython",
    "version": 3
   },
   "file_extension": ".py",
   "mimetype": "text/x-python",
   "name": "python",
   "nbconvert_exporter": "python",
   "pygments_lexer": "ipython3",
   "version": "3.8.5"
  }
 },
 "nbformat": 4,
 "nbformat_minor": 4
}
